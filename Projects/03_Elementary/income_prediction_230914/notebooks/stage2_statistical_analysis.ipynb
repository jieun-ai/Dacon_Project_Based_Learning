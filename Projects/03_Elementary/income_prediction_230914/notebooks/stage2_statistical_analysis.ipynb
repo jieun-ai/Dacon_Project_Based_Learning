{
  "cells": [
    {
      "cell_type": "code",
      "execution_count": 1,
      "metadata": {
        "deletable": false,
        "id": "8MPt8arQy1Yd",
        "pbl_cell_type": "hidden_setup_code",
        "step_id": 4443,
        "step_number": 0,
        "trusted": false
      },
      "outputs": [],
      "source": "#hiddencell\nimport pandas as pd \nfrom pbl_tools import *"
    },
    {
      "cell_type": "markdown",
      "metadata": {
        "deletable": false,
        "id": "iqzaEQXRy1Yn",
        "pbl_cell_type": "markdown",
        "step_id": 4443,
        "step_number": 0
      },
      "source": "# 스테이지 2. 데이터 분석 및 기초 통계량 확인\n## 도입\n스테이지 2에서는 데이터 분석의 핵심 단계인 기초 통계량 확인에 대해 배웁니다. 이러한 단계는 데이터를 깊이 있게 이해하고 문제 해결에 도움을 주는 중요한 과정입니다.\n\n데이터 분석의 목표는 데이터의 패턴과 특성을 파악하는 것이며, 이를 통해 더 나은 인사이트를 얻고 예측 작업을 진행합니다.\n\n## 학습 목표\n- 데이터프레임의 칼럼 이름을 확인하고, 각 변수의 역할을 이해합니다.\n- 데이터의 수치형 변수에 대한 기술 통계량을 계산하고 분석합니다. 이를 통해 데이터의 분포와 중요한 통계적 특성을 이해합니다.\n- 범주형 변수의 빈도와 다양성을 확인하여 범주형 데이터의 특성을 파악합니다.\n- 전처리가 완료된 데이터프레임을 csv 파일로 저장하는 방법에 대해 배웁니다."
    },
    {
      "cell_type": "markdown",
      "metadata": {
        "id": "uuDTmrdny1Yx",
        "pbl_cell_type": "markdown",
        "step_id": 4444,
        "step_number": 1
      },
      "source": "# 1. pandas를 이용해 csv 파일 읽어오기\n[문제 1]  \n`Pandas` 라이브러리(library)를 가져와보세요.  \n그리고 `train.csv`, `test.csv`, `sample_submission.csv` 파일을 각각 train, test, submission 변수로 읽어오세요.  \n아래 빈칸을 채워주세요.  "
    },
    {
      "cell_type": "code",
      "execution_count": 79,
      "metadata": {
        "id": "Klj6pw69y1Y8",
        "pbl_cell_type": "code",
        "step_id": 4444,
        "step_number": 1,
        "trusted": false
      },
      "outputs": [],
      "source": "import pandas as pd\n\ntrain = pd.___('train.csv')\ntest = pd.___('test.csv')\nsubmission = ___.___(___)"
    },
    {
      "cell_type": "code",
      "execution_count": 4,
      "metadata": {
        "id": "MP36fJHpy1Y_",
        "outputId": "3bf791fc-0a3a-476d-debf-e3c942e9a149",
        "pbl_cell_type": "hidden_checkcode",
        "pycharm": {
          "is_executing": true
        },
        "step_id": 4444,
        "step_number": 1,
        "trusted": false
      },
      "outputs": [
        {
          "data": {
            "text/plain": "True"
          },
          "execution_count": 4,
          "metadata": {},
          "output_type": "execute_result"
        }
      ],
      "source": "#checkcode\nensure_vals(globals(), 'train', 'test', 'submission')\n@check_safety\ndef check(\n    user_train: pd.DataFrame,\n    user_test: pd.DataFrame,\n    user_submission: pd.DataFrame\n):\n    c_point1 = hasattr(user_train, 'tail')\n    c_point2 = hasattr(user_test, 'tail')\n    c_point3 = hasattr(user_submission, 'tail')\n\n    if c_point1 and c_point2 and c_point3:\n        return True\n    else:\n        return False\n\ncheck(train, test, submission)"
    },
    {
      "cell_type": "markdown",
      "metadata": {
        "id": "1aeqXhoqy1ZE",
        "pbl_cell_type": "markdown",
        "step_id": 4445,
        "step_number": 2
      },
      "source": "# 2. 데이터프레임(DataFrame)정보 출력하기\n`info()`함수를 이용해 데이터프레임의 요약 정보를 확인해 봅시다."
    },
    {
      "cell_type": "code",
      "execution_count": 5,
      "metadata": {
        "id": "aIF4T3yUy1ZF",
        "outputId": "7a1b986a-fd4a-41f8-a812-6510bd7bf6b5",
        "pbl_cell_type": "code",
        "pycharm": {
          "is_executing": true
        },
        "step_id": 4445,
        "step_number": 2,
        "trusted": false
      },
      "outputs": [
        {
          "name": "stdout",
          "output_type": "stream",
          "text": "<class 'pandas.core.frame.DataFrame'>\n\nRangeIndex: 4440 entries, 0 to 4439\n\nData columns (total 16 columns):\n\n #   Column          Non-Null Count  Dtype \n\n---  ------          --------------  ----- \n\n 0   ID              4440 non-null   object\n\n 1   age             4440 non-null   int64 \n\n 2   workclass       3977 non-null   object\n\n 3   fnlwgt          4440 non-null   int64 \n\n 4   education       4440 non-null   object\n\n 5   education.num   4440 non-null   int64 \n\n 6   marital.status  4440 non-null   object\n\n 7   occupation      3972 non-null   object\n\n 8   relationship    4440 non-null   object\n\n 9   race            4440 non-null   object\n\n 10  sex             4440 non-null   object\n\n 11  capital.gain    4440 non-null   int64 \n\n 12  capital.loss    4440 non-null   int64 \n\n 13  hours.per.week  4440 non-null   int64 \n\n 14  native.country  4293 non-null   object\n\n 15  target          4440 non-null   int64 \n\ndtypes: int64(7), object(9)\n\nmemory usage: 399.0+ KB\n"
        }
      ],
      "source": "train.info()"
    },
    {
      "cell_type": "markdown",
      "metadata": {
        "id": "7MOqdxIfy1ZR",
        "pbl_cell_type": "markdown",
        "step_id": 4446,
        "step_number": 3
      },
      "source": "# 3. 데이터프레임(DataFrame)의 칼럼(column) 이름 확인하기\n[문제 2]  \n`columns` 함수를 이용하여 train 데이터셋의 `열(Columns)의 목록`을 확인해 보세요."
    },
    {
      "cell_type": "code",
      "execution_count": 102,
      "metadata": {
        "id": "zLPh4k5sy1ZT",
        "outputId": "fb3dba9d-665b-4fb6-d214-5b658f96361a",
        "pbl_cell_type": "code",
        "pycharm": {
          "is_executing": true
        },
        "step_id": 4446,
        "step_number": 3,
        "trusted": false
      },
      "outputs": [
        {
          "data": {
            "text/plain": "Index(['ID', 'age', 'workclass', 'fnlwgt', 'education', 'education.num',\n       'marital.status', 'occupation', 'relationship', 'race', 'sex',\n       'capital.gain', 'capital.loss', 'hours.per.week', 'native.country',\n       'target'],\n      dtype='object')"
          },
          "execution_count": 102,
          "metadata": {},
          "output_type": "execute_result"
        }
      ],
      "source": "train.___"
    },
    {
      "cell_type": "code",
      "execution_count": 7,
      "metadata": {
        "id": "_7O4K-USy1ZU",
        "pbl_cell_type": "hidden_checkcode",
        "step_id": 4446,
        "step_number": 3,
        "trusted": false
      },
      "outputs": [
        {
          "data": {
            "text/plain": "True"
          },
          "execution_count": 7,
          "metadata": {},
          "output_type": "execute_result"
        }
      ],
      "source": "#checkcode\nensure_vals(globals())\n@check_safety\ndef check(\n    user_answer:list,\n    number:int\n):\n    c_point0 = (len(user_answer) == number)\n    if c_point0:\n        return True\n    else:\n        return False\ncheck(_,16)"
    },
    {
      "cell_type": "markdown",
      "metadata": {
        "id": "nsBX-gJqy1ZY",
        "pbl_cell_type": "markdown",
        "step_id": 4447,
        "step_number": 4
      },
      "source": "# 4. 데이터프레임(DataFrame)의 수치형 변수들에 대한 기술 통계량(descriptive statistics) 출력하기\n[문제 3]  \n`describe()`함수를 사용해 `수치형` 데이터의 통계값을 확인해 봅시다."
    },
    {
      "cell_type": "code",
      "execution_count": 122,
      "metadata": {
        "id": "a6f9Ajtfy1ZZ",
        "outputId": "6ee2ccfc-1dd1-481e-beb5-48fc0ab8678d",
        "pbl_cell_type": "code",
        "pycharm": {
          "is_executing": true
        },
        "step_id": 4447,
        "step_number": 4,
        "trusted": false
      },
      "outputs": [
        {
          "data": {
            "text/html": "<div>\n<style scoped>\n    .dataframe tbody tr th:only-of-type {\n        vertical-align: middle;\n    }\n\n    .dataframe tbody tr th {\n        vertical-align: top;\n    }\n\n    .dataframe thead th {\n        text-align: right;\n    }\n</style>\n<table border=\"1\" class=\"dataframe\">\n  <thead>\n    <tr style=\"text-align: right;\">\n      <th></th>\n      <th>age</th>\n      <th>fnlwgt</th>\n      <th>education.num</th>\n      <th>capital.gain</th>\n      <th>capital.loss</th>\n      <th>hours.per.week</th>\n      <th>target</th>\n    </tr>\n  </thead>\n  <tbody>\n    <tr>\n      <th>count</th>\n      <td>4440.000000</td>\n      <td>4.440000e+03</td>\n      <td>4440.000000</td>\n      <td>4440.000000</td>\n      <td>4440.000000</td>\n      <td>4440.000000</td>\n      <td>4440.000000</td>\n    </tr>\n    <tr>\n      <th>mean</th>\n      <td>38.779279</td>\n      <td>1.923122e+05</td>\n      <td>9.985360</td>\n      <td>1223.965090</td>\n      <td>69.511261</td>\n      <td>39.837387</td>\n      <td>0.240315</td>\n    </tr>\n    <tr>\n      <th>std</th>\n      <td>14.011257</td>\n      <td>1.088622e+05</td>\n      <td>2.580624</td>\n      <td>8257.227782</td>\n      <td>357.876753</td>\n      <td>12.760011</td>\n      <td>0.427323</td>\n    </tr>\n    <tr>\n      <th>min</th>\n      <td>17.000000</td>\n      <td>1.882700e+04</td>\n      <td>1.000000</td>\n      <td>0.000000</td>\n      <td>0.000000</td>\n      <td>1.000000</td>\n      <td>0.000000</td>\n    </tr>\n    <tr>\n      <th>25%</th>\n      <td>28.000000</td>\n      <td>1.198022e+05</td>\n      <td>9.000000</td>\n      <td>0.000000</td>\n      <td>0.000000</td>\n      <td>38.000000</td>\n      <td>0.000000</td>\n    </tr>\n    <tr>\n      <th>50%</th>\n      <td>37.000000</td>\n      <td>1.798670e+05</td>\n      <td>10.000000</td>\n      <td>0.000000</td>\n      <td>0.000000</td>\n      <td>40.000000</td>\n      <td>0.000000</td>\n    </tr>\n    <tr>\n      <th>75%</th>\n      <td>48.000000</td>\n      <td>2.402272e+05</td>\n      <td>12.000000</td>\n      <td>0.000000</td>\n      <td>0.000000</td>\n      <td>45.000000</td>\n      <td>0.000000</td>\n    </tr>\n    <tr>\n      <th>max</th>\n      <td>90.000000</td>\n      <td>1.455435e+06</td>\n      <td>16.000000</td>\n      <td>99999.000000</td>\n      <td>2603.000000</td>\n      <td>99.000000</td>\n      <td>1.000000</td>\n    </tr>\n  </tbody>\n</table>\n</div>",
            "text/plain": "               age        fnlwgt  education.num  capital.gain  capital.loss  \\\ncount  4440.000000  4.440000e+03    4440.000000   4440.000000   4440.000000   \nmean     38.779279  1.923122e+05       9.985360   1223.965090     69.511261   \nstd      14.011257  1.088622e+05       2.580624   8257.227782    357.876753   \nmin      17.000000  1.882700e+04       1.000000      0.000000      0.000000   \n25%      28.000000  1.198022e+05       9.000000      0.000000      0.000000   \n50%      37.000000  1.798670e+05      10.000000      0.000000      0.000000   \n75%      48.000000  2.402272e+05      12.000000      0.000000      0.000000   \nmax      90.000000  1.455435e+06      16.000000  99999.000000   2603.000000   \n\n       hours.per.week       target  \ncount     4440.000000  4440.000000  \nmean        39.837387     0.240315  \nstd         12.760011     0.427323  \nmin          1.000000     0.000000  \n25%         38.000000     0.000000  \n50%         40.000000     0.000000  \n75%         45.000000     0.000000  \nmax         99.000000     1.000000  "
          },
          "execution_count": 122,
          "metadata": {},
          "output_type": "execute_result"
        }
      ],
      "source": "train.___()"
    },
    {
      "cell_type": "code",
      "execution_count": 9,
      "metadata": {
        "id": "gdnwpjR1y1ZZ",
        "pbl_cell_type": "hidden_checkcode",
        "step_id": 4447,
        "step_number": 4,
        "trusted": false
      },
      "outputs": [
        {
          "data": {
            "text/plain": "True"
          },
          "execution_count": 9,
          "metadata": {},
          "output_type": "execute_result"
        }
      ],
      "source": "#checkcode\nensure_vals(globals(), 'train')\n@check_safety\ndef check(\n    user_answer:pd.DataFrame,\n    train_shape:tuple\n):\n    c_point1 = user_answer.shape == train_shape\n    \n    if c_point1:\n        return True\n    else:\n        return False\n    \ncheck(_, (8,7))"
    },
    {
      "cell_type": "markdown",
      "metadata": {
        "pbl_cell_type": "markdown",
        "step_id": 4448,
        "step_number": 5
      },
      "source": "# 5. 데이터프레임(DataFrame)의 범주형 변수들에 대한 기술 통계량(descriptive statistics) 출력하기\n[문제 4]  \n- 예측에는 필요하지 않은 `ID` 피처(feature)를 제거해보세요. `drop` 함수는 데이터프레임에서 특정 열을 삭제할 때 사용됩니다.   \n여기서 `axis=1` 매개변수는 `열`을 삭제하도록 지정합니다.   \n따라서 'ID' 열은 삭제된 데이터프레임(train_drop)에 포함되지 않게 됩니다.\n- `describe()` 함수를 활용하여 `범주형 데이터`의 통계적 정보를 확인해보세요.   \n`include` 매개변수에 `object`를 할당하면 범주형 데이터의 통계를 살펴볼 수 있습니다."
    },
    {
      "cell_type": "code",
      "execution_count": 105,
      "metadata": {
        "pbl_cell_type": "code",
        "step_id": 4448,
        "step_number": 5,
        "trusted": false
      },
      "outputs": [
        {
          "data": {
            "text/html": "<div>\n<style scoped>\n    .dataframe tbody tr th:only-of-type {\n        vertical-align: middle;\n    }\n\n    .dataframe tbody tr th {\n        vertical-align: top;\n    }\n\n    .dataframe thead th {\n        text-align: right;\n    }\n</style>\n<table border=\"1\" class=\"dataframe\">\n  <thead>\n    <tr style=\"text-align: right;\">\n      <th></th>\n      <th>workclass</th>\n      <th>education</th>\n      <th>marital.status</th>\n      <th>occupation</th>\n      <th>relationship</th>\n      <th>race</th>\n      <th>sex</th>\n      <th>native.country</th>\n    </tr>\n  </thead>\n  <tbody>\n    <tr>\n      <th>count</th>\n      <td>3977</td>\n      <td>4440</td>\n      <td>4440</td>\n      <td>3972</td>\n      <td>4440</td>\n      <td>4440</td>\n      <td>4440</td>\n      <td>4293</td>\n    </tr>\n    <tr>\n      <th>unique</th>\n      <td>8</td>\n      <td>16</td>\n      <td>7</td>\n      <td>13</td>\n      <td>6</td>\n      <td>5</td>\n      <td>2</td>\n      <td>40</td>\n    </tr>\n    <tr>\n      <th>top</th>\n      <td>Private</td>\n      <td>HS-grad</td>\n      <td>Married-civ-spouse</td>\n      <td>Craft-repair</td>\n      <td>Husband</td>\n      <td>White</td>\n      <td>Male</td>\n      <td>United-States</td>\n    </tr>\n    <tr>\n      <th>freq</th>\n      <td>2962</td>\n      <td>1452</td>\n      <td>2063</td>\n      <td>543</td>\n      <td>1790</td>\n      <td>3761</td>\n      <td>2975</td>\n      <td>3928</td>\n    </tr>\n  </tbody>\n</table>\n</div>",
            "text/plain": "       workclass education      marital.status    occupation relationship  \\\ncount       3977      4440                4440          3972         4440   \nunique         8        16                   7            13            6   \ntop      Private   HS-grad  Married-civ-spouse  Craft-repair      Husband   \nfreq        2962      1452                2063           543         1790   \n\n         race   sex native.country  \ncount    4440  4440           4293  \nunique      5     2             40  \ntop     White  Male  United-States  \nfreq     3761  2975           3928  "
          },
          "execution_count": 105,
          "metadata": {},
          "output_type": "execute_result"
        }
      ],
      "source": "train_drop = train.drop(['___'],axis = ___) \ntrain_drop.___(include=['___'])"
    },
    {
      "cell_type": "code",
      "execution_count": 11,
      "metadata": {
        "pbl_cell_type": "hidden_checkcode",
        "step_id": 4448,
        "step_number": 5,
        "trusted": false
      },
      "outputs": [
        {
          "data": {
            "text/plain": "True"
          },
          "execution_count": 11,
          "metadata": {},
          "output_type": "execute_result"
        }
      ],
      "source": "#checkcode\nensure_vals(globals(), 'train_drop')\n@check_safety\ndef check(\n    user_answer:pd.DataFrame,\n    train_shape:tuple\n):\n    c_point1 = user_answer.shape == train_shape\n    \n    if c_point1:\n        return True\n    else:\n        return False\n    \ncheck(_, (4,8))"
    },
    {
      "cell_type": "markdown",
      "metadata": {
        "id": "K8CWmOr-y1Zd",
        "pbl_cell_type": "markdown",
        "step_id": 4449,
        "step_number": 6
      },
      "source": "# 6. submission 데이터의 하위 10개의 행(row) 데이터 출력하기\n[문제 5]  \n하위 10개의 행(row) 데이터를 출력해 보세요.  "
    },
    {
      "cell_type": "code",
      "execution_count": 134,
      "metadata": {
        "id": "1B6KqLfQy1Zd",
        "outputId": "dbd0c8ed-080a-48f5-fdc2-399b6f28989b",
        "pbl_cell_type": "code",
        "step_id": 4449,
        "step_number": 6,
        "trusted": false
      },
      "outputs": [
        {
          "data": {
            "text/html": "<div>\n<style scoped>\n    .dataframe tbody tr th:only-of-type {\n        vertical-align: middle;\n    }\n\n    .dataframe tbody tr th {\n        vertical-align: top;\n    }\n\n    .dataframe thead th {\n        text-align: right;\n    }\n</style>\n<table border=\"1\" class=\"dataframe\">\n  <thead>\n    <tr style=\"text-align: right;\">\n      <th></th>\n      <th>ID</th>\n      <th>target</th>\n    </tr>\n  </thead>\n  <tbody>\n    <tr>\n      <th>484</th>\n      <td>TEST_0484</td>\n      <td>False</td>\n    </tr>\n    <tr>\n      <th>485</th>\n      <td>TEST_0485</td>\n      <td>False</td>\n    </tr>\n    <tr>\n      <th>486</th>\n      <td>TEST_0486</td>\n      <td>False</td>\n    </tr>\n    <tr>\n      <th>487</th>\n      <td>TEST_0487</td>\n      <td>False</td>\n    </tr>\n    <tr>\n      <th>488</th>\n      <td>TEST_0488</td>\n      <td>False</td>\n    </tr>\n    <tr>\n      <th>489</th>\n      <td>TEST_0489</td>\n      <td>False</td>\n    </tr>\n    <tr>\n      <th>490</th>\n      <td>TEST_0490</td>\n      <td>False</td>\n    </tr>\n    <tr>\n      <th>491</th>\n      <td>TEST_0491</td>\n      <td>False</td>\n    </tr>\n    <tr>\n      <th>492</th>\n      <td>TEST_0492</td>\n      <td>False</td>\n    </tr>\n    <tr>\n      <th>493</th>\n      <td>TEST_0493</td>\n      <td>False</td>\n    </tr>\n  </tbody>\n</table>\n</div>",
            "text/plain": "            ID  target\n484  TEST_0484   False\n485  TEST_0485   False\n486  TEST_0486   False\n487  TEST_0487   False\n488  TEST_0488   False\n489  TEST_0489   False\n490  TEST_0490   False\n491  TEST_0491   False\n492  TEST_0492   False\n493  TEST_0493   False"
          },
          "execution_count": 134,
          "metadata": {},
          "output_type": "execute_result"
        }
      ],
      "source": "submission.___(___)"
    },
    {
      "cell_type": "code",
      "execution_count": 13,
      "metadata": {
        "id": "_nWyNEEOy1Zd",
        "outputId": "b24ff457-b0cf-4400-a5f1-076073e155c5",
        "pbl_cell_type": "hidden_checkcode",
        "step_id": 4449,
        "step_number": 6,
        "trusted": false
      },
      "outputs": [
        {
          "data": {
            "text/plain": "True"
          },
          "execution_count": 13,
          "metadata": {},
          "output_type": "execute_result"
        }
      ],
      "source": "#checkcode\nensure_vals(globals(), 'submission')\n@check_safety\ndef check(\n    user_answer:pd.DataFrame,\n    submission_shape:tuple\n):\n    c_point1 = user_answer.shape == submission_shape\n    \n    if c_point1:\n        return True\n    else:\n        return False\n    \ncheck(_, (10,2))"
    },
    {
      "cell_type": "markdown",
      "metadata": {
        "id": "9vCnIyKky1Zm",
        "pbl_cell_type": "markdown",
        "step_id": 4450,
        "step_number": 7
      },
      "source": "# 7. target의 최빈값(mode) 추출\n\n데이터프레임(train)에서 `target` 빈도수가 가장 높은 값을 출력해보겠습니다.\n\n[문제 6]  \n`mode()` 메서드를 이용하여 특정한 열(column)의 `최빈값`을 가져와서 출력해 보세요."
    },
    {
      "cell_type": "code",
      "execution_count": 151,
      "metadata": {
        "id": "5jSpWR5Uy1Zm",
        "outputId": "b9db209f-af31-4384-ab1b-98934a113865",
        "pbl_cell_type": "code",
        "pycharm": {
          "is_executing": true
        },
        "step_id": 4450,
        "step_number": 7,
        "trusted": false
      },
      "outputs": [
        {
          "data": {
            "text/plain": "0"
          },
          "execution_count": 151,
          "metadata": {},
          "output_type": "execute_result"
        }
      ],
      "source": "mode_target = train['target'].___()[0]\nmode_target"
    },
    {
      "cell_type": "code",
      "execution_count": 32,
      "metadata": {
        "id": "0b9kQy-Jy1Zq",
        "pbl_cell_type": "hidden_checkcode",
        "step_id": 4450,
        "step_number": 7,
        "trusted": false
      },
      "outputs": [
        {
          "data": {
            "text/plain": "True"
          },
          "execution_count": 32,
          "metadata": {},
          "output_type": "execute_result"
        }
      ],
      "source": "#checkcode\nensure_vals(globals(),'mode_target')\n@check_safety\ndef check(\n    user_answer:int,\n    num:int\n):\n    c_point0 = user_answer == num\n    \n    if c_point0:\n        return True\n    else:\n        return False\n    \ncheck(mode_target,0)"
    },
    {
      "cell_type": "markdown",
      "metadata": {
        "id": "hi253hiVy1Zr",
        "pbl_cell_type": "markdown",
        "step_id": 4451,
        "step_number": 8
      },
      "source": "# 8. target의 최빈값으로 submission 데이터 채우기\n\ntarget 열의 최빈값인 0을 사용하여 submission 파일을 작성한 후, 이를 제출해보겠습니다.\n\n[문제 7]  \nsubmission 데이터의 target 피처(feature)에 `mode_target` 값을 할당해 보세요."
    },
    {
      "cell_type": "code",
      "execution_count": 165,
      "metadata": {
        "id": "HcpWL538y1Zr",
        "outputId": "12a20c16-286c-4b54-d9d3-c9427e814012",
        "pbl_cell_type": "code",
        "pycharm": {
          "is_executing": true
        },
        "step_id": 4451,
        "step_number": 8,
        "trusted": false
      },
      "outputs": [
        {
          "data": {
            "text/html": "<div>\n<style scoped>\n    .dataframe tbody tr th:only-of-type {\n        vertical-align: middle;\n    }\n\n    .dataframe tbody tr th {\n        vertical-align: top;\n    }\n\n    .dataframe thead th {\n        text-align: right;\n    }\n</style>\n<table border=\"1\" class=\"dataframe\">\n  <thead>\n    <tr style=\"text-align: right;\">\n      <th></th>\n      <th>ID</th>\n      <th>target</th>\n    </tr>\n  </thead>\n  <tbody>\n    <tr>\n      <th>0</th>\n      <td>TEST_0000</td>\n      <td>0</td>\n    </tr>\n    <tr>\n      <th>1</th>\n      <td>TEST_0001</td>\n      <td>0</td>\n    </tr>\n    <tr>\n      <th>2</th>\n      <td>TEST_0002</td>\n      <td>0</td>\n    </tr>\n    <tr>\n      <th>3</th>\n      <td>TEST_0003</td>\n      <td>0</td>\n    </tr>\n    <tr>\n      <th>4</th>\n      <td>TEST_0004</td>\n      <td>0</td>\n    </tr>\n  </tbody>\n</table>\n</div>",
            "text/plain": "          ID  target\n0  TEST_0000       0\n1  TEST_0001       0\n2  TEST_0002       0\n3  TEST_0003       0\n4  TEST_0004       0"
          },
          "execution_count": 165,
          "metadata": {},
          "output_type": "execute_result"
        }
      ],
      "source": "submission['___'] = ___\nsubmission.head()"
    },
    {
      "cell_type": "code",
      "execution_count": 34,
      "metadata": {
        "id": "TuyY_2c0y1Zs",
        "pbl_cell_type": "hidden_checkcode",
        "step_id": 4451,
        "step_number": 8,
        "trusted": false
      },
      "outputs": [
        {
          "data": {
            "text/plain": "True"
          },
          "execution_count": 34,
          "metadata": {},
          "output_type": "execute_result"
        }
      ],
      "source": "#checkcode\nensure_vals(globals(),'submission')\n@check_safety\ndef check(\n    user_answer:int,\n    user_col:int,\n    num:int\n):\n    c_point0 = (user_answer[user_col]).sum() == num\n    if c_point0:\n        return True\n    else:\n        return False\ncheck(_,'target',0)"
    },
    {
      "cell_type": "markdown",
      "metadata": {
        "id": "ac1GX6Ioy1Zu",
        "pbl_cell_type": "markdown",
        "step_id": 4452,
        "step_number": 9
      },
      "source": "# 9.데이터프레임(DataFrame)을 CSV 파일로 저장하기\n[문제 8]  \n값이 할당된 submission 데이터를 submission.csv 파일로 저장해 보세요."
    },
    {
      "cell_type": "code",
      "execution_count": 37,
      "metadata": {
        "id": "pOiZuDXRy1Zv",
        "pbl_cell_type": "submission_code",
        "pbl_submission_filename": "submission.csv",
        "step_id": 4452,
        "step_number": 9,
        "trusted": false
      },
      "outputs": [],
      "source": "submission.___('submission.csv', index=False)"
    },
    {
      "cell_type": "code",
      "execution_count": 39,
      "metadata": {
        "id": "sQ7qWWdwy1Zv",
        "outputId": "7f0d40fb-4ce5-4528-89f8-1ce402f1cf55",
        "pbl_cell_type": "hidden_checkcode",
        "pycharm": {
          "is_executing": true
        },
        "step_id": 4452,
        "step_number": 9,
        "trusted": false
      },
      "outputs": [
        {
          "data": {
            "text/plain": "True"
          },
          "execution_count": 39,
          "metadata": {},
          "output_type": "execute_result"
        }
      ],
      "source": "#checkcode\nensure_vals(globals(), 'submission')\n@check_safety\ndef check(\n    user_answer\n):\n    answer = pd.read_csv('submission.csv')\n\n    sub_medv = user_answer['target'].apply(lambda x: int(x * 100))\n    ans_medv = answer['target'].apply(lambda x: int(x * 100))\n\n    c_point0 = (sub_medv == ans_medv).all()\n    if c_point0:\n        return True\n    else:\n        return False\n\ncheck(submission)"
    }
  ],
  "metadata": {
    "kernelspec": {
      "name": "python",
      "display_name": "Python (Pyodide)",
      "language": "python"
    },
    "language_info": {
      "codemirror_mode": {
        "name": "python",
        "version": 3
      },
      "file_extension": ".py",
      "mimetype": "text/x-python",
      "name": "python",
      "nbconvert_exporter": "python",
      "pygments_lexer": "ipython3",
      "version": "3.11.9"
    }
  },
  "nbformat": 4,
  "nbformat_minor": 4
}