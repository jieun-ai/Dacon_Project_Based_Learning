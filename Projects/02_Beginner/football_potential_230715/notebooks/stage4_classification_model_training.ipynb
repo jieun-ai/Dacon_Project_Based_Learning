{
 "cells": [
  {
   "cell_type": "code",
   "execution_count": null,
   "metadata": {
    "deletable": false,
    "id": "vArBR6-xcwUF",
    "pbl_cell_type": "hidden_setup_code",
    "step_id": 3757,
    "step_number": 0
   },
   "outputs": [],
   "source": [
    "#hiddencell\n",
    "\n",
    "from pbl_tools import *\n",
    "\n",
    "import warnings\n",
    "warnings.filterwarnings(\"ignore\")"
   ]
  },
  {
   "cell_type": "markdown",
   "metadata": {
    "deletable": false,
    "id": "BOtTZbb7ctuA",
    "pbl_cell_type": "markdown",
    "step_id": 3757,
    "step_number": 0
   },
   "source": [
    "# 스테이지 4. 분류 모델 만들기\n",
    "- BaseLine 모델(기초 수준의 모델) 만들기"
   ]
  },
  {
   "cell_type": "markdown",
   "metadata": {
    "id": "MQb2yDAX3jLN",
    "pbl_cell_type": "markdown",
    "step_id": 3758,
    "step_number": 1
   },
   "source": [
    "# 1.pandas를 이용해 csv 파일 읽어오기\n",
    "\n",
    "[문제 1]  \n",
    "Pandas 라이브러리(library)를 가져와보세요.  \n",
    "그리고 train.csv, test.csv, sample_submission.csv 파일을 각각 train, test, submission 변수로 읽어오세요.  \n",
    "아래 빈칸을 채워주세요."
   ]
  },
  {
   "cell_type": "code",
   "execution_count": null,
   "metadata": {
    "id": "Q-1W_Gxp3jLN",
    "pbl_cell_type": "code",
    "step_id": 3758,
    "step_number": 1
   },
   "outputs": [],
   "source": [
    "import ___ as __\n",
    "\n",
    "train = pd.___('train.csv')\n",
    "test = pd.___('test.csv')\n",
    "submission = pd.___('sample_submission.csv')"
   ]
  },
  {
   "cell_type": "code",
   "execution_count": null,
   "metadata": {
    "id": "0X_HK7t_3jLO",
    "pbl_cell_type": "hidden_checkcode",
    "step_id": 3758,
    "step_number": 1
   },
   "outputs": [],
   "source": [
    "#checkcode\n",
    "ensure_vals(globals(), 'train', 'test', 'submission')\n",
    "@check_safety\n",
    "def check(user_answer_train=train,\n",
    "          user_answer_test=test, \n",
    "          user_answer_submission=submission):\n",
    "    \n",
    "    c_point0 = hasattr(user_answer_train, 'tail')\n",
    "    c_point1 = hasattr(user_answer_test, 'tail')\n",
    "    c_point2 = hasattr(user_answer_submission, 'tail')\n",
    "\n",
    "    if c_point0 and c_point1 and c_point2 :\n",
    "        return True\n",
    "    else:\n",
    "        return False\n",
    "\n",
    "check()"
   ]
  },
  {
   "cell_type": "markdown",
   "metadata": {
    "id": "Ay8FE07xI7DA",
    "pbl_cell_type": "markdown",
    "step_id": 3759,
    "step_number": 2
   },
   "source": [
    "# 2. 예측할 피처(feature) 확인하기\n",
    "[문제 2]  \n",
    "`loc` 함수를 활용하여 이번 데이터에서 예측해야 하는 피처(feature)인 `Prospect`를 확인해 보세요."
   ]
  },
  {
   "cell_type": "code",
   "execution_count": null,
   "metadata": {
    "id": "eowOd9RXI7DB",
    "pbl_cell_type": "code",
    "step_id": 3759,
    "step_number": 2
   },
   "outputs": [],
   "source": [
    "train.loc[:, ___]"
   ]
  },
  {
   "cell_type": "code",
   "execution_count": null,
   "metadata": {
    "id": "lJOGHDEoI7DB",
    "pbl_cell_type": "hidden_checkcode",
    "step_id": 3759,
    "step_number": 2
   },
   "outputs": [],
   "source": [
    "#checkcode\n",
    "ensure_vals(globals())\n",
    "@check_safety\n",
    "def check(\n",
    "    user_answer=_,\n",
    "    col_name='Prospect'\n",
    "):\n",
    "    c_point1 = user_answer.name == col_name\n",
    "\n",
    "    if c_point1:\n",
    "        return True\n",
    "    else:\n",
    "        return False\n",
    "\n",
    "check()"
   ]
  },
  {
   "cell_type": "markdown",
   "metadata": {
    "id": "meWJK871LHdk",
    "pbl_cell_type": "markdown",
    "step_id": 3760,
    "step_number": 3
   },
   "source": [
    "# 3. 특성 데이터와 예측 데이터 나누기, 범주형 피처 drop\n",
    "\n",
    "범주형 피처를 포함한 데이터를 머신러닝 모델에 학습시킬 수 없으므로,   \n",
    "drop 함수를 사용하여 범주형 피처들을 제거한 후, 특성 데이터와 예측 데이터로 데이터를 나누겠습니다.\n",
    "\n",
    "[문제 3]\n",
    "- `drop` 함수를 사용하여 `drop_col` 리스트(list)에 포함된 열(column)들을 test 데이터셋에서 제거해보세요.  \n",
    "`axis를 1`로 설정하면 열 방향으로 제거가 됩니다.\n",
    "- `append` 함수를 사용하여 drop_col 리스트(list)에 `Prospect` 열을 추가해 보세요.\n",
    "- train_y 변수에는 train 데이터프레임의 예측 변수인 `Prospect` 열만 저장해 보세요."
   ]
  },
  {
   "cell_type": "code",
   "execution_count": null,
   "metadata": {
    "id": "qcmaJJavIJgF",
    "pbl_cell_type": "code",
    "step_id": 3760,
    "step_number": 3
   },
   "outputs": [],
   "source": [
    "drop_col = ['ID', 'Position', 'PreferredFoot', 'AttackingWorkRate', 'DefensiveWorkRate']\n",
    "test_x = test.___(___, axis=___)\n",
    "\n",
    "drop_col.___('___')\n",
    "train_x = train.drop(drop_col, axis=1)\n",
    "train_y = train['___']"
   ]
  },
  {
   "cell_type": "code",
   "execution_count": null,
   "metadata": {
    "collapsed": false,
    "jupyter": {
     "outputs_hidden": false
    },
    "pbl_cell_type": "hidden_checkcode",
    "pycharm": {
     "name": "#%%\n"
    },
    "step_id": 3760,
    "step_number": 3
   },
   "outputs": [],
   "source": [
    "#checkcode\n",
    "ensure_vals(globals(), 'train_y', 'test_x','train_x')\n",
    "@check_safety\n",
    "def check(\n",
    "    user_train_x=train_x,\n",
    "    user_train_y=train_y,\n",
    "    user_test_x=test_x,\n",
    "    col_name='Prospect',\n",
    "):\n",
    "    c_point1 = (user_test_x.columns == user_train_x.columns).all()\n",
    "    c_point2 = user_train_y.name == col_name\n",
    "\n",
    "    if c_point1 and c_point2:\n",
    "        return True\n",
    "    else:\n",
    "        return False\n",
    "\n",
    "check()"
   ]
  },
  {
   "cell_type": "markdown",
   "metadata": {
    "id": "m-cjrZXoOo1o",
    "pbl_cell_type": "markdown",
    "step_id": 3761,
    "step_number": 4
   },
   "source": [
    "# 4. 모델 불러오기(Logistic Regression)\n",
    "\n",
    "[문제 4]   \n",
    "`LogisticRegression` 모델을 불러와 보세요."
   ]
  },
  {
   "cell_type": "code",
   "execution_count": null,
   "metadata": {
    "id": "nUBoJpy3IJgG",
    "pbl_cell_type": "code",
    "step_id": 3761,
    "step_number": 4
   },
   "outputs": [],
   "source": [
    "from sklearn.linear_model import LogisticRegression\n",
    "model = ___(max_iter=5000)"
   ]
  },
  {
   "cell_type": "code",
   "execution_count": null,
   "metadata": {
    "id": "stV6SwXxOo1t",
    "pbl_cell_type": "hidden_checkcode",
    "step_id": 3761,
    "step_number": 4
   },
   "outputs": [],
   "source": [
    "#checkcode\n",
    "ensure_vals(globals(),'model')\n",
    "@check_safety\n",
    "def check(user_model = 'LogisticRegression(max_iter=5000)'):\n",
    "\n",
    "    c_point0 = (str(model)== user_model)\n",
    "\n",
    "    if c_point0:\n",
    "        return True\n",
    "    else:\n",
    "        return False\n",
    "check()"
   ]
  },
  {
   "cell_type": "markdown",
   "metadata": {
    "id": "UU8PiIdSOyyJ",
    "pbl_cell_type": "markdown",
    "step_id": 3762,
    "step_number": 5
   },
   "source": [
    "# 5. 모델 학습하기\n",
    "\n",
    "[문제 5]  \n",
    "`fit` 함수를 이용하여 model을 학습해 보세요.\n"
   ]
  },
  {
   "cell_type": "code",
   "execution_count": null,
   "metadata": {
    "id": "7-GzJZW8IJgG",
    "pbl_cell_type": "code",
    "step_id": 3762,
    "step_number": 5
   },
   "outputs": [],
   "source": [
    "model.___(train_x, train_y)"
   ]
  },
  {
   "cell_type": "code",
   "execution_count": null,
   "metadata": {
    "id": "_45OUXABOyyK",
    "pbl_cell_type": "hidden_checkcode",
    "step_id": 3762,
    "step_number": 5
   },
   "outputs": [],
   "source": [
    "#checkcode\n",
    "ensure_vals(globals(),'model')\n",
    "@check_safety\n",
    "def check(user_answer = _, user_model = \"<class 'sklearn.linear_model._logistic.LogisticRegression'>\"):\n",
    "\n",
    "    c_point0 = str(type(user_answer)) == user_model\n",
    "\n",
    "    if c_point0:\n",
    "        return True\n",
    "    else:\n",
    "        return False\n",
    "check()"
   ]
  },
  {
   "cell_type": "markdown",
   "metadata": {
    "id": "e_LEttlkQ3P-",
    "pbl_cell_type": "markdown",
    "step_id": 3763,
    "step_number": 6
   },
   "source": [
    "# 6. 예측하기\n",
    "\n",
    "[문제 6]  \n",
    "`predict` 함수를 사용하여 학습된 머신러닝 모델(model)을 사용하여 test_x 에 대한 예측 결과를 얻어보세요."
   ]
  },
  {
   "cell_type": "code",
   "execution_count": null,
   "metadata": {
    "id": "lnr1w9XIIJgG",
    "pbl_cell_type": "code",
    "step_id": 3763,
    "step_number": 6
   },
   "outputs": [],
   "source": [
    "y_pred = model.___(test_x)"
   ]
  },
  {
   "cell_type": "code",
   "execution_count": null,
   "metadata": {
    "id": "yf2jdV_MQ3QJ",
    "pbl_cell_type": "hidden_checkcode",
    "step_id": 3763,
    "step_number": 6
   },
   "outputs": [],
   "source": [
    "#checkcode\n",
    "ensure_vals(globals(), 'y_pred')\n",
    "@check_safety\n",
    "def check(user_answer = y_pred):\n",
    "    \n",
    "    c_point1 = sum(user_answer) != 0\n",
    "    \n",
    "    if c_point1:\n",
    "        return True\n",
    "    else:\n",
    "        return False\n",
    "    \n",
    "check()"
   ]
  }
 ],
 "metadata": {
  "kernelspec": {
   "display_name": "Python 3 (ipykernel)",
   "language": "python",
   "name": "python3"
  },
  "language_info": {
   "codemirror_mode": {
    "name": "ipython",
    "version": 3
   },
   "file_extension": ".py",
   "mimetype": "text/x-python",
   "name": "python",
   "nbconvert_exporter": "python",
   "pygments_lexer": "ipython3",
   "version": "3.11.9"
  }
 },
 "nbformat": 4,
 "nbformat_minor": 4
}
