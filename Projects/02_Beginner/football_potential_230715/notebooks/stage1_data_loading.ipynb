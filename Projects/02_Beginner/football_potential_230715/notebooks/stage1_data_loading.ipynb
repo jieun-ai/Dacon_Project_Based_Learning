{
 "cells": [
  {
   "cell_type": "code",
   "execution_count": null,
   "metadata": {
    "deletable": false,
    "id": "gl-lzxlgnvJY",
    "pbl_cell_type": "hidden_setup_code",
    "step_id": 3734,
    "step_number": 0
   },
   "outputs": [],
   "source": [
    "#hiddencell\n",
    "\n",
    "from pbl_tools import *"
   ]
  },
  {
   "cell_type": "markdown",
   "metadata": {
    "deletable": false,
    "id": "7be9b79e-74eb-4594-b98a-3490a41713fa",
    "pbl_cell_type": "markdown",
    "step_id": 3734,
    "step_number": 0
   },
   "source": [
    "# 데이스쿨 주피터 노트북 사용법\n",
    "\n",
    "<img src=\"https://r2-images.dacon.work/project/158/content/charater+shift+enter.png\">\n",
    "\n",
    "현재 Cell 에서 shift 누른 상태에서 enter 키를 누르면 현재 Cell 실행후 다음 Cell로 이동합니다. "
   ]
  },
  {
   "cell_type": "markdown",
   "metadata": {
    "pbl_cell_type": "markdown",
    "step_id": 3734,
    "step_number": 0
   },
   "source": [
    "# 축구선수 유망 여부 예측\n",
    "\n",
    "![soccer player_inner](https://user-images.githubusercontent.com/39521155/222654983-319b4a3e-cbda-4fd3-903c-2250f758b27f.png)\n",
    "\n",
    "# 스테이지 1. 문제기반 학습의 이해\n",
    "- 문제기반 학습 이해(문제 이해)\n",
    "- 데이콘 플랫폼 사용 방법에 대한 이해"
   ]
  },
  {
   "cell_type": "markdown",
   "metadata": {
    "id": "e0a53abf",
    "pbl_cell_type": "markdown",
    "step_id": 3735,
    "step_number": 1
   },
   "source": [
    "# 1. 판다스(Pandas) 라이브러리 불러오기\n",
    "판다스 라이브러리를 불러와봅시다."
   ]
  },
  {
   "cell_type": "code",
   "execution_count": null,
   "metadata": {
    "id": "c0893bea-8d9f-49ff-80c2-3a376f2e3a34",
    "pbl_cell_type": "code",
    "step_id": 3735,
    "step_number": 1,
    "tags": []
   },
   "outputs": [],
   "source": [
    "import pandas as pd"
   ]
  },
  {
   "cell_type": "markdown",
   "metadata": {
    "pbl_cell_type": "markdown",
    "step_id": 3736,
    "step_number": 2
   },
   "source": [
    "# 2. 데이터 읽어오기  \n",
    "위에서 호출한 판다스(pandas) 라이브러리를 활용하여 'train.csv' 파일을 읽어와봅시다!"
   ]
  },
  {
   "cell_type": "code",
   "execution_count": null,
   "metadata": {
    "pbl_cell_type": "code",
    "step_id": 3736,
    "step_number": 2
   },
   "outputs": [],
   "source": [
    "train = pd.read_csv('train.csv')\n",
    "train"
   ]
  },
  {
   "cell_type": "markdown",
   "metadata": {
    "id": "51aa041f-690e-4678-82a3-bb909ffdf9ac",
    "pbl_cell_type": "markdown",
    "step_id": 3737,
    "step_number": 3
   },
   "source": [
    "# 3. test.csv, sample_submission.csv 파일 읽어오기\n",
    "[문제 1]  \n",
    "판다스(Pandas) 라이브러리를 사용해 test.csv, sample_submission.csv 파일을 직접 읽어오고, 이를 각각 test, submission 변수에 저장해주세요."
   ]
  },
  {
   "cell_type": "code",
   "execution_count": null,
   "metadata": {
    "id": "77fac6b3-ddcd-43e3-9244-da39250ee6fd",
    "pbl_cell_type": "code",
    "step_id": 3737,
    "step_number": 3
   },
   "outputs": [],
   "source": [
    "test = pd.___('___')\n",
    "submission = pd.___('___')"
   ]
  },
  {
   "cell_type": "code",
   "execution_count": null,
   "metadata": {
    "id": "596451ef",
    "pbl_cell_type": "hidden_checkcode",
    "step_id": 3737,
    "step_number": 3
   },
   "outputs": [],
   "source": [
    "#checkcode\n",
    "ensure_vals(globals(), 'test', 'submission')\n",
    "@check_safety\n",
    "def check(\n",
    "    user_test=test,\n",
    "    user_submission=submission\n",
    "):\n",
    "    c_point1 = hasattr(user_test, 'head')\n",
    "    c_point2 = hasattr(user_submission, 'head')\n",
    "\n",
    "    if c_point1 and c_point2:\n",
    "        return True\n",
    "    else:\n",
    "        return False\n",
    "\n",
    "check()"
   ]
  },
  {
   "cell_type": "markdown",
   "metadata": {
    "id": "d80c6d8e-c041-46ea-bc76-b1ec5c676ec8",
    "pbl_cell_type": "markdown",
    "step_id": 3738,
    "step_number": 4
   },
   "source": [
    "# 4. 데이터 확인\n",
    "[문제 2]  \n",
    "`head()` 메서드를 사용하여 train 데이터의 상위 5개 행(row)을 확인해 봅시다!"
   ]
  },
  {
   "cell_type": "code",
   "execution_count": null,
   "metadata": {
    "id": "a49056df-eb04-44af-8d48-968a4bda2827",
    "outputId": "b264e3ba-3b87-4a36-d0f2-16f25f065ca0",
    "pbl_cell_type": "code",
    "step_id": 3738,
    "step_number": 4
   },
   "outputs": [],
   "source": [
    "train.___()"
   ]
  },
  {
   "cell_type": "code",
   "execution_count": null,
   "metadata": {
    "id": "20cb9720-5c56-4f2a-b09e-3bf040f1dd76",
    "pbl_cell_type": "hidden_checkcode",
    "step_id": 3738,
    "step_number": 4
   },
   "outputs": [],
   "source": [
    "#checkcode\n",
    "ensure_vals(globals(), 'train')\n",
    "@check_safety\n",
    "def check(\n",
    "    user_answer=_,\n",
    "    user_train=train,\n",
    "    len_frame=5\n",
    "):\n",
    "    c_point1 = _.shape == user_train.head(len_frame).shape\n",
    "    \n",
    "    if c_point1:\n",
    "        return True\n",
    "    else:\n",
    "        return False\n",
    "    \n",
    "check()"
   ]
  },
  {
   "cell_type": "markdown",
   "metadata": {
    "id": "nhEo0yOVJ3gw",
    "pbl_cell_type": "markdown",
    "step_id": 3739,
    "step_number": 5
   },
   "source": [
    "# 5. 데이터 확인 실습\n",
    "[문제 3]  \n",
    "train 파일을 확인해 보았으니, 이제 test 파일도 확인해 볼까요?   \n",
    "test 데이터의 상위 2개 행을 확인해 봅시다."
   ]
  },
  {
   "cell_type": "code",
   "execution_count": null,
   "metadata": {
    "id": "559cd42f-a3ba-4382-9556-1b8c6523bbd2",
    "pbl_cell_type": "code",
    "step_id": 3739,
    "step_number": 5
   },
   "outputs": [],
   "source": [
    "test.___()"
   ]
  },
  {
   "cell_type": "code",
   "execution_count": null,
   "metadata": {
    "id": "3ac66a06",
    "pbl_cell_type": "hidden_checkcode",
    "step_id": 3739,
    "step_number": 5
   },
   "outputs": [],
   "source": [
    "#checkcode\n",
    "ensure_vals(globals(), 'test')\n",
    "@check_safety\n",
    "def check(\n",
    "    user_answer=_,\n",
    "    origin_test=test,\n",
    "    len_dataframe=2\n",
    "):\n",
    "    c_point1 = (user_answer.values == origin_test.head(len_dataframe).values).all()\n",
    "\n",
    "    if c_point1:\n",
    "        return True\n",
    "    else:\n",
    "        return False\n",
    "\n",
    "check()"
   ]
  },
  {
   "cell_type": "markdown",
   "metadata": {
    "id": "50ce474f",
    "pbl_cell_type": "markdown",
    "step_id": 3740,
    "step_number": 6
   },
   "source": [
    "# 6. 데이터 파악하기"
   ]
  },
  {
   "cell_type": "code",
   "execution_count": null,
   "metadata": {
    "id": "6e2d6e47-566b-4a47-9993-e03bcef214b2",
    "pbl_cell_type": "code",
    "step_id": 3740,
    "step_number": 6
   },
   "outputs": [],
   "source": [
    "train.info()"
   ]
  },
  {
   "cell_type": "markdown",
   "metadata": {
    "id": "b5ec71b2-5c90-4310-b8ef-538907d43100",
    "pbl_cell_type": "markdown",
    "step_id": 3741,
    "step_number": 7
   },
   "source": [
    "# 7. 제출 파일 생성 및 제출"
   ]
  },
  {
   "cell_type": "code",
   "execution_count": null,
   "metadata": {
    "id": "9e5838a5",
    "pbl_cell_type": "submission_code",
    "pbl_submission_filename": "submission.csv",
    "step_id": 3741,
    "step_number": 7
   },
   "outputs": [],
   "source": [
    "submission.to_csv('submission.csv', index=False)"
   ]
  }
 ],
 "metadata": {
  "kernelspec": {
   "display_name": "Python 3 (ipykernel)",
   "language": "python",
   "name": "python3"
  },
  "language_info": {
   "codemirror_mode": {
    "name": "ipython",
    "version": 3
   },
   "file_extension": ".py",
   "mimetype": "text/x-python",
   "name": "python",
   "nbconvert_exporter": "python",
   "pygments_lexer": "ipython3",
   "version": "3.11.9"
  }
 },
 "nbformat": 4,
 "nbformat_minor": 4
}
