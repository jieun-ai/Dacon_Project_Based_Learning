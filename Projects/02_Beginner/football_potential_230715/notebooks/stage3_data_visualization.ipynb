{
 "cells": [
  {
   "cell_type": "code",
   "execution_count": null,
   "metadata": {
    "deletable": false,
    "id": "gl-lzxlgnvJY",
    "pbl_cell_type": "hidden_setup_code",
    "step_id": 3749,
    "step_number": 0
   },
   "outputs": [],
   "source": [
    "#hiddencell\n",
    "%pip install seaborn \n",
    "\n",
    "from pbl_tools import *"
   ]
  },
  {
   "cell_type": "markdown",
   "metadata": {
    "deletable": false,
    "pbl_cell_type": "markdown",
    "pycharm": {
     "name": "#%% md\n"
    },
    "step_id": 3749,
    "step_number": 0
   },
   "source": [
    "# 스테이지 3. 데이터 시각화\n",
    "- 데이터 시각화를 통한 데이터 분석 학습"
   ]
  },
  {
   "cell_type": "markdown",
   "metadata": {
    "id": "7be9b79e-74eb-4594-b98a-3490a41713fa",
    "pbl_cell_type": "markdown",
    "step_id": 3750,
    "step_number": 1
   },
   "source": [
    "# 1. 데이터 읽어오기\n",
    "[문제 1]  \n",
    "train.csv, test.csv, sample_submission.csv 파일을 각각 train, test, submission 변수에 저장해주세요."
   ]
  },
  {
   "cell_type": "code",
   "execution_count": null,
   "metadata": {
    "id": "c0893bea-8d9f-49ff-80c2-3a376f2e3a34",
    "pbl_cell_type": "code",
    "step_id": 3750,
    "step_number": 1,
    "tags": []
   },
   "outputs": [],
   "source": [
    "import ___ as pd\n",
    "\n",
    "train = ___.___('train.csv')\n",
    "\n",
    "test = ___.___('test.csv')\n",
    "\n",
    "submission = ___.___('sample_submission.csv')"
   ]
  },
  {
   "cell_type": "code",
   "execution_count": null,
   "metadata": {
    "id": "0a3079f3-87c2-42ec-b40f-70397ebd6ec6",
    "outputId": "aafba086-547d-4ea4-f426-ab268e5a7756",
    "pbl_cell_type": "hidden_checkcode",
    "step_id": 3750,
    "step_number": 1
   },
   "outputs": [],
   "source": [
    "#checkcode\n",
    "ensure_vals(globals(), 'test') \n",
    "@check_safety\n",
    "def check(user_answer=test):\n",
    "    c_point1 = hasattr(user_answer, 'head')\n",
    "\n",
    "    if c_point1:\n",
    "        return True\n",
    "    else:\n",
    "        return False\n",
    "\n",
    "check()"
   ]
  },
  {
   "cell_type": "markdown",
   "metadata": {
    "pbl_cell_type": "markdown",
    "step_id": 3751,
    "step_number": 2
   },
   "source": [
    "# 2. `value_counts()` 메서드를 활용한 선수의 유망 여부 빈도 확인  \n",
    "[문제 2]  \n",
    "`value_counts()` 메서드를 사용하여 train 데이터에서 `Prospect` 칼럼(column)의 각 고유값의 빈도를 계산하고,  \n",
    "이를 prospect_rate 변수에 저장해주세요. "
   ]
  },
  {
   "cell_type": "code",
   "execution_count": null,
   "metadata": {
    "pbl_cell_type": "code",
    "step_id": 3751,
    "step_number": 2
   },
   "outputs": [],
   "source": [
    "prospect_rate = train['Prospect'].___()\n",
    "prospect_rate"
   ]
  },
  {
   "cell_type": "code",
   "execution_count": null,
   "metadata": {
    "pbl_cell_type": "hidden_checkcode",
    "step_id": 3751,
    "step_number": 2
   },
   "outputs": [],
   "source": [
    "#checkcode\n",
    "ensure_vals(globals(), 'prospect_rate') \n",
    "@check_safety\n",
    "def check(\n",
    "    user_answer=prospect_rate,\n",
    "    len_prospect=2, \n",
    "    sum_prospect=3019,\n",
    "    name='Prospect'\n",
    "):\n",
    "    \n",
    "    c_point1 = len(user_answer) == len_prospect\n",
    "    c_point2 = sum(user_answer) == sum_prospect\n",
    "    c_point3 = user_answer.name == name\n",
    "\n",
    "    if c_point1 and c_point2 and c_point3:\n",
    "        return True\n",
    "    else:\n",
    "        return False\n",
    "\n",
    "check()"
   ]
  },
  {
   "cell_type": "markdown",
   "metadata": {
    "id": "51aa041f-690e-4678-82a3-bb909ffdf9ac",
    "pbl_cell_type": "markdown",
    "step_id": 3752,
    "step_number": 3
   },
   "source": [
    "# 3. 선수의 유망 여부 비율을 파이 그래프로 확인\n",
    "\n",
    "맷플롯립(matplotlib) 라이브러리를 이용해 선수의 유망 여부(Prospect)의 빈도를 파이(Pie) 그래프로 시각화해 보세요. \n",
    "\n",
    "[문제 3]      \n",
    "matplotlib 라이브러리의 `pie()` 함수를 사용하여 파이 차트를 그립니다. "
   ]
  },
  {
   "cell_type": "code",
   "execution_count": null,
   "metadata": {
    "id": "77fac6b3-ddcd-43e3-9244-da39250ee6fd",
    "outputId": "36fa22c1-510c-4b65-ebe3-1f522a350a7c",
    "pbl_cell_type": "code",
    "step_id": 3752,
    "step_number": 3
   },
   "outputs": [],
   "source": [
    "import matplotlib.pyplot as plt\n",
    "\n",
    "pie_chart = plt.___(\n",
    "    x=prospect_rate,\n",
    "    labels=['0', '1'],\n",
    "    autopct='%1.1f%%',\n",
    ")\n",
    "\n",
    "plt.show()"
   ]
  },
  {
   "cell_type": "code",
   "execution_count": null,
   "metadata": {
    "pbl_cell_type": "hidden_checkcode",
    "step_id": 3752,
    "step_number": 3
   },
   "outputs": [],
   "source": [
    "#checkcode\n",
    "ensure_vals(globals(), 'pie_chart')\n",
    "@check_safety\n",
    "def check(\n",
    "    object:pd.DataFrame,\n",
    "    labels:list,\n",
    "):\n",
    "\n",
    "    percent_labels = [label.get_text() for label in object[1]]\n",
    "    c_point1 = percent_labels == labels\n",
    "    \n",
    "    if c_point1:\n",
    "        return True\n",
    "    else:\n",
    "        return False\n",
    "    \n",
    "check(pie_chart,['0','1'])"
   ]
  },
  {
   "cell_type": "markdown",
   "metadata": {
    "id": "d80c6d8e-c041-46ea-bc76-b1ec5c676ec8",
    "pbl_cell_type": "markdown",
    "step_id": 3753,
    "step_number": 4
   },
   "source": [
    "# 4. 선수가 선호하는 발의 비율을 파이 그래프로 확인\n",
    "`PreferredFoot` 칼럼의 고유값의 빈도를 foot_rate 변수에 저장하여 선호하는 발의 빈도를 파이 그래프로 시각화해 보세요.  \n",
    "\n",
    "[문제 4]\n",
    "\n",
    "- 먼저, `value_counts()` 메소드를 사용하여 'PreferredFoot' 열의 각 값의 빈도를 계산하고, 이를 `foot_rate` 변수에 저장합니다. \n",
    "- 그 후, matplotlib 라이브러리의 `pie()` 함수를 사용하여 파이 차트를 그립니다. \n",
    "- 이때, 파이 차트의 각 부분은 'PreferredFoot' 열의 고유 값에 해당하며, 각 부분의 크기는 해당 값의 빈도에 비례합니다. \n",
    "- 각 부분의 레이블은 `foot_rate.index`를 사용하여 지정하고, 각 부분의 백분율은 `autopct` 파라미터를 통해 설정합니다."
   ]
  },
  {
   "cell_type": "code",
   "execution_count": null,
   "metadata": {
    "id": "c041eefc",
    "pbl_cell_type": "code",
    "step_id": 3753,
    "step_number": 4
   },
   "outputs": [],
   "source": [
    "foot_rate = train['___'].value_counts()\n",
    "\n",
    "pie_chart = ___.___(\n",
    "    x=___,\n",
    "    labels=foot_rate.___, \n",
    "    autopct='%1.1f%%',\n",
    ")\n",
    "\n",
    "plt.show()"
   ]
  },
  {
   "cell_type": "code",
   "execution_count": null,
   "metadata": {
    "pbl_cell_type": "hidden_checkcode",
    "step_id": 3753,
    "step_number": 4
   },
   "outputs": [],
   "source": [
    "#checkcode\n",
    "ensure_vals(globals(), 'pie_chart')\n",
    "@check_safety\n",
    "def check(\n",
    "    object:pd.DataFrame,\n",
    "    labels:list,\n",
    "):\n",
    "\n",
    "    percent_labels = [label.get_text() for label in object[1]]\n",
    "    c_point1 = percent_labels == labels\n",
    "    \n",
    "    if c_point1:\n",
    "        return True\n",
    "    else:\n",
    "        return False\n",
    "    \n",
    "check(pie_chart,['Right', 'Left'])"
   ]
  },
  {
   "cell_type": "markdown",
   "metadata": {
    "id": "nhEo0yOVJ3gw",
    "pbl_cell_type": "markdown",
    "step_id": 3754,
    "step_number": 5
   },
   "source": [
    "# 5. 맷플롯립(matplotlib)을 활용한 선수의 유망 여부 파이 차트 시각화 - 색상 및 폭 조정"
   ]
  },
  {
   "cell_type": "code",
   "execution_count": null,
   "metadata": {
    "id": "559cd42f-a3ba-4382-9556-1b8c6523bbd2",
    "outputId": "521b1a10-42e8-4932-a40c-09f5b6c12c02",
    "pbl_cell_type": "code",
    "step_id": 3754,
    "step_number": 5
   },
   "outputs": [],
   "source": [
    "labels = ['X', 'O']\n",
    "colors = ['red', 'green']\n",
    "explode = (0.1, 0)\n",
    "\n",
    "plt.figure(figsize=(6, 6))\n",
    "plt.pie(x = train['Prospect'].value_counts(),\n",
    "        labels=labels,\n",
    "        colors=colors,\n",
    "        explode=explode,\n",
    "        autopct='%1.1f%%',\n",
    "        wedgeprops={'linewidth': 6, 'edgecolor': 'pink'}\n",
    ")\n",
    "\n",
    "plt.text(x = 0, y = 0, s = 'Total: 100%', horizontalalignment='center')\n",
    "plt.show()"
   ]
  },
  {
   "cell_type": "markdown",
   "metadata": {
    "id": "50ce474f",
    "pbl_cell_type": "markdown",
    "step_id": 3755,
    "step_number": 6
   },
   "source": [
    "# 6. 선수의 포지션 빈도수 시각화\n",
    "\n",
    "[문제 5]     \n",
    "seaborn 라이브러리의 `countplot()` 함수를 사용하여 `train` DataFrame의 'Position' 열에 대한 값의 분포를 시각화하합니다."
   ]
  },
  {
   "cell_type": "code",
   "execution_count": null,
   "metadata": {
    "id": "6e2d6e47-566b-4a47-9993-e03bcef214b2",
    "outputId": "72bccc4e-585d-492b-e3ad-08e8fcbe64b2",
    "pbl_cell_type": "code",
    "step_id": 3755,
    "step_number": 6
   },
   "outputs": [],
   "source": [
    "import seaborn as sns\n",
    "ax = sns.___(x=train['___'])\n",
    "plt.show()"
   ]
  },
  {
   "cell_type": "code",
   "execution_count": null,
   "metadata": {
    "pbl_cell_type": "hidden_checkcode",
    "step_id": 3755,
    "step_number": 6
   },
   "outputs": [],
   "source": [
    "#checkcode\n",
    "ensure_vals(globals())\n",
    "@check_safety\n",
    "def check(user_data):\n",
    "\n",
    "    c_point1 = user_data.get_xlabel()=='Position'\n",
    "    c_point2 = user_data.get_ylabel()=='count'\n",
    "    c_point3 = user_data.get_xlim() == (-0.5, 14.5)\n",
    "    c_point4 = int(user_data.get_ylim()[1]) == 642\n",
    "    c_point5 = sum(user_data.get_xticks()) == 105\n",
    "    if (c_point1\n",
    "    and c_point2\n",
    "    and c_point3\n",
    "    and c_point4\n",
    "    and c_point5\n",
    "    ):\n",
    "        \n",
    "        return True\n",
    "    else:\n",
    "        return False\n",
    "    \n",
    "check(ax)"
   ]
  },
  {
   "cell_type": "markdown",
   "metadata": {
    "id": "b5ec71b2-5c90-4310-b8ef-538907d43100",
    "pbl_cell_type": "markdown",
    "step_id": 3756,
    "step_number": 7
   },
   "source": [
    "# 7. 선수의 포지션에 따른 유망 여부 빈도 확인  \n",
    "\n",
    "\n",
    "[문제 6]  \n",
    "\n",
    "seaborn 라이브러리의 `countplot()` 함수를 사용하여 `train` DataFrame의 'Position' 열에 따른 'Prospect' 열의 분포를 시각화합니다.   \n",
    "- `countplot()` 함수는 범주형 변수의 각 범주에 속하는 관측치의 개수를 나타내는 막대 그래프를 생성합니다.   \n",
    "- 'Position' 열의 각 값에 따라 'Prospect' 열의 값('0' 또는 '1') 분포를 다른 색상의 막대로 표시하여 비교합니다.   \n",
    "- `hue` 파라미터를 사용하여 서로 다른 'Prospect' 값에 따른 색상 구분이 가능하며, `palette` 파라미터를 통해 막대의 색상을 설정할 수 있습니다."
   ]
  },
  {
   "cell_type": "code",
   "execution_count": null,
   "metadata": {
    "id": "9e5838a5",
    "outputId": "176a1a4a-b6dd-44b9-d57f-7c5f89a66b2c",
    "pbl_cell_type": "code",
    "step_id": 3756,
    "step_number": 7
   },
   "outputs": [],
   "source": [
    "plt.figure(figsize=(15, 4))\n",
    "ax = ___.___(data=___, x=___['___'], ___='Prospect', palette='Set3')\n",
    "plt.show()"
   ]
  },
  {
   "cell_type": "code",
   "execution_count": null,
   "metadata": {
    "pbl_cell_type": "hidden_checkcode",
    "step_id": 3756,
    "step_number": 7
   },
   "outputs": [],
   "source": [
    "#checkcode\n",
    "ensure_vals(globals())\n",
    "@check_safety\n",
    "def check(user_data):\n",
    "\n",
    "    c_point1 = user_data.get_xlabel()=='Position'\n",
    "    c_point2 = user_data.get_ylabel()=='count'\n",
    "    c_point3 = user_data.get_xlim() == (-0.5, 14.5)\n",
    "    c_point4 = int(user_data.get_ylim()[1]) == 357\n",
    "    c_point5 = sum(ax.get_yticks()) == 1800\n",
    "    if (c_point1\n",
    "    and c_point2\n",
    "    and c_point3\n",
    "    and c_point4\n",
    "    and c_point5\n",
    "    ):\n",
    "        \n",
    "        return True\n",
    "    else:\n",
    "        return False\n",
    "    \n",
    "check(ax)"
   ]
  }
 ],
 "metadata": {
  "kernelspec": {
   "display_name": "Python 3 (ipykernel)",
   "language": "python",
   "name": "python3"
  },
  "language_info": {
   "codemirror_mode": {
    "name": "ipython",
    "version": 3
   },
   "file_extension": ".py",
   "mimetype": "text/x-python",
   "name": "python",
   "nbconvert_exporter": "python",
   "pygments_lexer": "ipython3",
   "version": "3.11.9"
  }
 },
 "nbformat": 4,
 "nbformat_minor": 4
}
