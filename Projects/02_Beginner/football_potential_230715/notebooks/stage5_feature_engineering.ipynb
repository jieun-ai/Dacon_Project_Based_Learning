{
 "cells": [
  {
   "cell_type": "code",
   "execution_count": null,
   "metadata": {
    "deletable": false,
    "id": "vArBR6-xcwUF",
    "pbl_cell_type": "hidden_setup_code",
    "step_id": 3764,
    "step_number": 0
   },
   "outputs": [],
   "source": [
    "#hiddencell\n",
    "%pip install seaborn \n",
    "\n",
    "from pbl_tools import *"
   ]
  },
  {
   "cell_type": "markdown",
   "metadata": {
    "deletable": false,
    "id": "BOtTZbb7ctuA",
    "pbl_cell_type": "markdown",
    "step_id": 3764,
    "step_number": 0
   },
   "source": [
    "# 스테이지 5. 상관관계 분석과 전처리\n",
    "- 상관관계 분석 학습하기\n",
    "- 원핫 인코딩(One-Hot encoding) 학습하기"
   ]
  },
  {
   "cell_type": "markdown",
   "metadata": {
    "pbl_cell_type": "markdown",
    "step_id": 3765,
    "step_number": 1
   },
   "source": [
    "# 1.pandas를 이용해 csv 파일 읽어오기\n",
    "\n",
    "[문제 1]  \n",
    "Pandas 라이브러리(library)를 가져와보세요.  \n",
    "그리고 train.csv, test.csv, sample_submission.csv 파일을 각각 train, test, submission 변수로 읽어오세요.  \n",
    "아래 빈칸을 채워주세요."
   ]
  },
  {
   "cell_type": "code",
   "execution_count": null,
   "metadata": {
    "pbl_cell_type": "code",
    "step_id": 3765,
    "step_number": 1
   },
   "outputs": [],
   "source": [
    "import ___ as __\n",
    "\n",
    "train = pd.___('train.csv')\n",
    "test = pd.___('test.csv')\n",
    "submission = pd.___('sample_submission.csv')"
   ]
  },
  {
   "cell_type": "code",
   "execution_count": null,
   "metadata": {
    "pbl_cell_type": "hidden_checkcode",
    "step_id": 3765,
    "step_number": 1
   },
   "outputs": [],
   "source": [
    "#checkcode\n",
    "ensure_vals(globals(), 'train', 'test', 'submission')\n",
    "@check_safety\n",
    "def check(user_answer_train=train,\n",
    "          user_answer_test=test, \n",
    "          user_answer_submission=submission):\n",
    "    \n",
    "    c_point0 = hasattr(user_answer_train, 'tail')\n",
    "    c_point1 = hasattr(user_answer_test, 'tail')\n",
    "    c_point2 = hasattr(user_answer_submission, 'tail')\n",
    "\n",
    "    if c_point0 and c_point1 and c_point2 :\n",
    "        return True\n",
    "    else:\n",
    "        return False\n",
    "\n",
    "check()"
   ]
  },
  {
   "cell_type": "markdown",
   "metadata": {
    "id": "Ay8FE07xI7DA",
    "pbl_cell_type": "markdown",
    "step_id": 3766,
    "step_number": 2
   },
   "source": [
    "# 2. 데이터 상관관계 확인하기\n",
    "\n",
    "상관관계는 두 변수가 함께 변화하는 정도를 나타내며, 데이터 분석에서 이를 확인하는 이유는 다양합니다.\n",
    "\n",
    "먼저, 변수들 사이의 상관관계를 파악함으로써 데이터의 패턴과 관계성을 파악할 수 있습니다.   \n",
    "예를 들어, '키'와 '몸무게'라는 두 변수가 양의 상관관계를 가진다면, 키가 커질수록 몸무게도 커지는 경향이 있다는 것을 알 수 있습니다.   \n",
    "이를 통해 키와 몸무게 간의 관계를 이해하고, 이를 활용해 예측 모델을 만들거나 키와 몸무게 간의 인과관계를 찾는 데 도움을 받을 수 있습니다.\n",
    "\n",
    "또한, 상관관계는 변수 선택(feature selection)에도 중요한 역할을 합니다.   \n",
    "데이터셋에 변수가 많을 경우, 변수 선택을 통해 모델의 성능을 향상시킬 수 있습니다.   \n",
    "상관관계가 높은 변수들은 서로 유사한 정보를 담고 있을 가능성이 높기 때문에,   \n",
    "이러한 변수들 중 하나를 선택하거나 새로운 변수를 생성해야 할 수 있습니다.\n",
    "\n",
    "또 다른 활용은 다중공선성(multicollinearity)을 확인하는 데에 있습니다.   \n",
    "다중공선성은 회귀분석 모델에서 오류가 발생할 수 있는 현상으로, 두 변수 사이에 강한 상관관계가 있을 때 나타납니다.   \n",
    "상관관계를 통해 이러한 다중공선성을 파악하여 모델을 개선할 수 있습니다.\n",
    "\n",
    "[문제 2]  \n",
    "1. `drop()` 함수를 이용하여 train 데이터셋에서 `not_numeric` 리스트(list)를 제거해 보세요.\n",
    "2. `corr()` 함수를 이용하여 numeric_df 데이터프레임(DataFrame)에서 숫자형 피처(feature)들 간의  상관관계를 계산해 보세요."
   ]
  },
  {
   "cell_type": "code",
   "execution_count": null,
   "metadata": {
    "id": "SvTpg_rPMe9A",
    "pbl_cell_type": "code",
    "step_id": 3766,
    "step_number": 2
   },
   "outputs": [],
   "source": [
    "not_numeric = ['ID', 'Position', 'PreferredFoot', 'AttackingWorkRate', 'DefensiveWorkRate']\n",
    "numeric_df = train.___(columns=___)\n",
    "corr = numeric_df.___()\n",
    "corr"
   ]
  },
  {
   "cell_type": "code",
   "execution_count": null,
   "metadata": {
    "id": "lJOGHDEoI7DB",
    "pbl_cell_type": "hidden_checkcode",
    "step_id": 3766,
    "step_number": 2
   },
   "outputs": [],
   "source": [
    "#checkcode\n",
    "ensure_vals(globals(), 'numeric_df', 'corr')\n",
    "@check_safety\n",
    "def check(user_answer=_, \n",
    "          user_shape=(61, 61)):\n",
    "    \n",
    "    c_point0 = user_answer.shape == user_shape\n",
    "\n",
    "    if c_point0 :\n",
    "        return True\n",
    "    else:\n",
    "        return False\n",
    "\n",
    "check()"
   ]
  },
  {
   "cell_type": "markdown",
   "metadata": {
    "pbl_cell_type": "markdown",
    "step_id": 3767,
    "step_number": 3
   },
   "source": [
    "# 3. 상관관계 살펴보기\n",
    "\n",
    "이미 계산된 상관관계(corr) 데이터프레임에서 타겟 변수인 'Prospect'과의 상관관계가 가장 큰 숫자형 피처(feature)들을 추출해 보겠습니다.\n",
    "\n",
    "[문제 3]\n",
    "1. `abs()` 함수를 이용하여 타겟변수(`Prospect`)와 다른 피처들 간의 상관관계를 추출해 보세요.   \n",
    "2. `sort_values()` 함수를 이용하여 값을 내림차순으로 정렬해 보세요. `ascending = False` 로 설정하면 값이 내림차순으로 정렬됩니다.\n",
    "3. `iloc` 함수를 이용하여 abs_corr 리스트의 첫 10개의 값만 선택해 보세요."
   ]
  },
  {
   "cell_type": "code",
   "execution_count": null,
   "metadata": {
    "collapsed": false,
    "jupyter": {
     "outputs_hidden": false
    },
    "pbl_cell_type": "code",
    "pycharm": {
     "name": "#%%\n"
    },
    "step_id": 3767,
    "step_number": 3
   },
   "outputs": [],
   "source": [
    "abs_corr = ___(corr['___'])\n",
    "abs_corr = abs_corr.___(ascending=___)\n",
    "top_10_corr = abs_corr.___[:10]\n",
    "top_10_corr"
   ]
  },
  {
   "cell_type": "code",
   "execution_count": null,
   "metadata": {
    "collapsed": false,
    "jupyter": {
     "outputs_hidden": false
    },
    "pbl_cell_type": "hidden_checkcode",
    "pycharm": {
     "name": "#%%\n"
    },
    "step_id": 3767,
    "step_number": 3
   },
   "outputs": [],
   "source": [
    "#checkcode\n",
    "ensure_vals(globals(), 'numeric_df', 'corr')\n",
    "@check_safety\n",
    "def check(user_answer=_, \n",
    "          user_shape=1,\n",
    "          user_columns = 'Prospect'):\n",
    "    \n",
    "    c_point0 = user_answer[user_columns] == user_shape\n",
    "\n",
    "    if c_point0 :\n",
    "        return True\n",
    "    else:\n",
    "        return False\n",
    "\n",
    "check()"
   ]
  },
  {
   "cell_type": "markdown",
   "metadata": {
    "pbl_cell_type": "markdown",
    "step_id": 3768,
    "step_number": 4
   },
   "source": [
    "# 4. 데이터 상관관계 히트맵\n",
    "\n",
    "히트맵(heatmap)을 사용하면 여러 피처(Feature)들 간의 상관관계를 한눈에 비교할 수 있습니다.   \n",
    "먼저, 상위 10개의 상관관계가 가장 높은 피처들을 확인해봅시다.    \n",
    "이를 위해 이전 세션에서 배운 matplotlib과 seaborn 라이브러리를 활용하여 실습을 진행하겠습니다."
   ]
  },
  {
   "cell_type": "code",
   "execution_count": null,
   "metadata": {
    "collapsed": false,
    "jupyter": {
     "outputs_hidden": false
    },
    "pbl_cell_type": "code",
    "pycharm": {
     "name": "#%%\n"
    },
    "step_id": 3768,
    "step_number": 4
   },
   "outputs": [],
   "source": [
    "import seaborn as sns\n",
    "import matplotlib.pyplot as plt\n",
    "\n",
    "plt.figure(figsize = (7,5))\n",
    "sns.heatmap(numeric_df[top_10_corr.index].corr())\n",
    "\n",
    "plt.show()"
   ]
  },
  {
   "cell_type": "markdown",
   "metadata": {
    "id": "m-cjrZXoOo1o",
    "pbl_cell_type": "markdown",
    "step_id": 3769,
    "step_number": 5
   },
   "source": [
    "# 5. One-Hot Encoding(원-핫 인코딩) 적용\n",
    "\n",
    "Scikit-learn 라이브러리(Library)의 OneHotEncoder를 사용하여 범주형 변수인 'Position'을 원-핫 인코딩 해보겠습니다.\n",
    "\n",
    "[문제 4]\n",
    "\n",
    "1. `OneHotEncoder()` 객체를 생성해 보세요.\n",
    "\n",
    "2. train 데이터프레임의 Position 피처(feature)를 입력으로 넣어보세요. 단, OneHotEncoder는 2차원 배열을 입력으로 받아야 합니다.  \n",
    "`fit_transform()` 함수를 사용하여 인코딩을 수행하고, `toarray()` 함수를 사용하여 희소행렬(Sparse Matrix)을 밀집 배열(Dense Array)로 변환해 보세요.\n",
    "\n",
    "3. test 데이터프레임의 Position 피처를 입력으로 넣어보세요. 단, OneHotEncoder는 2차원 배열을 입력으로 받아야 합니다.  \n",
    "`transform()` 함수를 사용하여 인코딩을 수행하고, `toarray()` 함수를 사용하여 희소행렬(Sparse Matrix)을 밀집 배열(Dense Array)로 변환해 보세요."
   ]
  },
  {
   "cell_type": "code",
   "execution_count": null,
   "metadata": {
    "id": "yFkkjB5hMe9F",
    "pbl_cell_type": "code",
    "step_id": 3769,
    "step_number": 5
   },
   "outputs": [],
   "source": [
    "from sklearn.preprocessing import OneHotEncoder\n",
    "\n",
    "ohe = ___()\n",
    "train_encoded = ohe.___(___[['___']]).___()\n",
    "test_encoded = ohe.___(___[['___']]).___()\n",
    "\n",
    "print(train_encoded)"
   ]
  },
  {
   "cell_type": "code",
   "execution_count": null,
   "metadata": {
    "id": "stV6SwXxOo1t",
    "pbl_cell_type": "hidden_checkcode",
    "step_id": 3769,
    "step_number": 5
   },
   "outputs": [],
   "source": [
    "#checkcode\n",
    "ensure_vals(globals(), 'train_encoded', 'test_encoded', 'ohe')\n",
    "@check_safety\n",
    "def check(user_answer_train=train_encoded,\n",
    "          user_answer_test=test_encoded):\n",
    "    \n",
    "    train_new = pd.read_csv('train.csv')\n",
    "    test_new = pd.read_csv('test.csv')\n",
    "\n",
    "    train_new = ohe.fit_transform(train_new[['Position']]).toarray()\n",
    "    test_new = ohe.transform(test_new[['Position']]).toarray()\n",
    "\n",
    "    c_point0 =(train_encoded == train_new).all\n",
    "    c_point1 = (test_encoded == test_new).all\n",
    "\n",
    "    if c_point0  and c_point1:\n",
    "        return True\n",
    "    else:\n",
    "        return False\n",
    "\n",
    "check()"
   ]
  },
  {
   "cell_type": "markdown",
   "metadata": {
    "pbl_cell_type": "markdown",
    "step_id": 3770,
    "step_number": 6
   },
   "source": [
    "# 6. One-Hot Encoding(원-핫 인코딩)된 열들을 새로운 데이터프레임으로 생성\n",
    "\n",
    "원-핫 인코딩된 데이터를 가지고 새로운 데이터프레임을 생성하고, 열 이름(column names)을 설정 해보겠습니다.\n",
    "\n",
    "[문제 5]\n",
    "1. `pd.DataFrame()` 함수를 이용하여 원-핫 인코딩된 데이터프레임(train_encoded)을 새로운 데이터프레임으로 변환해 보세요.  \n",
    "\n",
    "2. columns 인자에는 `get_feature_names_out()` 함수를 이용하여 `Position` 인자를 전달해 보세요."
   ]
  },
  {
   "cell_type": "code",
   "execution_count": null,
   "metadata": {
    "pbl_cell_type": "code",
    "step_id": 3770,
    "step_number": 6
   },
   "outputs": [],
   "source": [
    "train_encoded_df = ___.___(___, columns=ohe.___(['___']))\n",
    "test_encoded_df = pd.DataFrame(test_encoded, columns=ohe.get_feature_names_out(['Position']))"
   ]
  },
  {
   "cell_type": "code",
   "execution_count": null,
   "metadata": {
    "pbl_cell_type": "hidden_checkcode",
    "step_id": 3770,
    "step_number": 6
   },
   "outputs": [],
   "source": [
    "#checkcode\n",
    "ensure_vals(globals(), 'train_encoded_df', 'test_encoded_df')\n",
    "@check_safety\n",
    "def check(\n",
    "    encode_train=train_encoded_df,\n",
    "    encode_test=test_encoded_df,\n",
    "    onehoted='CB'\n",
    "):\n",
    "    \n",
    "    train_col = encode_train.columns\n",
    "    test_col = encode_test.columns\n",
    "    \n",
    "    c_point0 = onehoted in str(encode_train.columns)\n",
    "    c_point1 = onehoted in str(encode_test.columns)\n",
    "    c_point2 = (test_col == train_col).all()\n",
    "\n",
    "    if c_point0 and c_point1 and c_point2:\n",
    "        return True\n",
    "    else:\n",
    "        return False\n",
    "\n",
    "check()"
   ]
  },
  {
   "cell_type": "markdown",
   "metadata": {
    "pbl_cell_type": "markdown",
    "step_id": 3771,
    "step_number": 7
   },
   "source": [
    "# 7. train, Test 데이터프레임에 One-Hot Encoding(원-핫 인코딩)된 데이터프레임 추가\n",
    "\n",
    "원-핫 인코딩된 새로운 데이터프레임(train_encoded_df와 test_encoded_df)을 원본 데이터프레임(train 및 test)에 열 방향으로 추가해보겠습니다.\n",
    "\n",
    "[문제 6]\n",
    "1. `pd.concat()` 함수를 사용하여 `train`, `train_encoded_df` 두 데이터프레임을 합쳐보세요.  \n",
    "`axis = 1` 로 설정하면 열 방향으로 합칩니다.\n",
    "2. `pd.concat()` 함수를 사용하여 `test`, `test_encoded_df` 두 데이터프레임을 합쳐보세요.  \n",
    "`axis = 1` 로 설정하면 열 방향으로 합칩니다."
   ]
  },
  {
   "cell_type": "code",
   "execution_count": null,
   "metadata": {
    "pbl_cell_type": "code",
    "step_id": 3771,
    "step_number": 7
   },
   "outputs": [],
   "source": [
    "train = pd.___([___, ___], axis=___)\n",
    "test = pd.___([___, ___], axis=___)\n",
    "\n",
    "train.head()"
   ]
  },
  {
   "cell_type": "code",
   "execution_count": null,
   "metadata": {
    "pbl_cell_type": "hidden_checkcode",
    "step_id": 3771,
    "step_number": 7
   },
   "outputs": [],
   "source": [
    "#checkcode\n",
    "ensure_vals(globals(), 'train', 'test')\n",
    "@check_safety\n",
    "def check(user_answer_train=train, \n",
    "          user_answer_test = test,\n",
    "          user_train_shape=(3019, 81),\n",
    "          user_test_shape=(1626, 80)):\n",
    "    \n",
    "    c_point0 = user_answer_train.shape == user_train_shape\n",
    "    c_point1 = user_answer_test.shape == user_test_shape\n",
    "\n",
    "    if c_point0 and c_point1:\n",
    "        return True\n",
    "    else:\n",
    "        return False\n",
    "\n",
    "check()"
   ]
  },
  {
   "cell_type": "markdown",
   "metadata": {
    "pbl_cell_type": "markdown",
    "step_id": 3772,
    "step_number": 8
   },
   "source": [
    "# 8. train과 test 데이터프레임에서 'Position' 피처 제거\n",
    "\n",
    " \n",
    "\n",
    "[문제 7]  \n",
    "원-핫 인코딩으로 변환된 'Position' 칼럼은 더 이상 필요하지 않기 때문에, 해당 칼럼을 제거해보세요.\n",
    "\n",
    "\n",
    "\n",
    "\n"
   ]
  },
  {
   "cell_type": "code",
   "execution_count": null,
   "metadata": {
    "pbl_cell_type": "code",
    "step_id": 3772,
    "step_number": 8
   },
   "outputs": [],
   "source": [
    "train = train.___(['___'], axis = ___)\n",
    "test = test.___(['___'], axis = ___)"
   ]
  },
  {
   "cell_type": "code",
   "execution_count": null,
   "metadata": {
    "pbl_cell_type": "hidden_checkcode",
    "step_id": 3772,
    "step_number": 8
   },
   "outputs": [],
   "source": [
    "#checkcode\n",
    "ensure_vals(globals(), 'test','train')\n",
    "@check_safety\n",
    "def check(user_answer_train=train, \n",
    "          user_answer_test=test,\n",
    "          user_columns=['Position']):\n",
    "    \n",
    "    c_point0 = (~user_answer_train.columns.isin(user_columns)).all()\n",
    "    c_point1 = (~user_answer_test.columns.isin(user_columns)).all()\n",
    "\n",
    "    if c_point0 and c_point1:\n",
    "        return True\n",
    "    else:\n",
    "        return False\n",
    "\n",
    "check()"
   ]
  }
 ],
 "metadata": {
  "kernelspec": {
   "display_name": "Python 3 (ipykernel)",
   "language": "python",
   "name": "python3"
  },
  "language_info": {
   "codemirror_mode": {
    "name": "ipython",
    "version": 3
   },
   "file_extension": ".py",
   "mimetype": "text/x-python",
   "name": "python",
   "nbconvert_exporter": "python",
   "pygments_lexer": "ipython3",
   "version": "3.11.9"
  }
 },
 "nbformat": 4,
 "nbformat_minor": 4
}
