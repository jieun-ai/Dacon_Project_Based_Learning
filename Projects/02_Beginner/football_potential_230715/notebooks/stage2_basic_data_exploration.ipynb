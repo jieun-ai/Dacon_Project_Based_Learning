{
 "cells": [
  {
   "cell_type": "code",
   "execution_count": null,
   "metadata": {
    "deletable": false,
    "id": "gl-lzxlgnvJY",
    "pbl_cell_type": "hidden_setup_code",
    "step_id": 3742,
    "step_number": 0
   },
   "outputs": [],
   "source": [
    "#hiddencell\n",
    "\n",
    "from pbl_tools import *"
   ]
  },
  {
   "cell_type": "markdown",
   "metadata": {
    "deletable": false,
    "pbl_cell_type": "markdown",
    "pycharm": {
     "name": "#%% md\n"
    },
    "step_id": 3742,
    "step_number": 0
   },
   "source": [
    "# 스테이지 2. 데이터 탐색 기초\n",
    "- 데이터를 눈으로 확인하고 통계치를 계산해 보기"
   ]
  },
  {
   "cell_type": "markdown",
   "metadata": {
    "id": "7be9b79e-74eb-4594-b98a-3490a41713fa",
    "pbl_cell_type": "markdown",
    "step_id": 3743,
    "step_number": 1
   },
   "source": [
    "# 1. 데이터 읽어오기\n",
    "[문제 1]  \n",
    "train.csv, test.csv, sample_submission.csv 파일을 각각 train, test, submission 변수에 저장해주세요."
   ]
  },
  {
   "cell_type": "code",
   "execution_count": null,
   "metadata": {
    "id": "c0893bea-8d9f-49ff-80c2-3a376f2e3a34",
    "pbl_cell_type": "code",
    "step_id": 3743,
    "step_number": 1,
    "tags": []
   },
   "outputs": [],
   "source": [
    "import pandas as pd\n",
    "\n",
    "train = pd.___('train.csv')\n",
    "\n",
    "test = pd.___('test.csv')\n",
    "\n",
    "submission = pd.___('sample_submission.csv')"
   ]
  },
  {
   "cell_type": "code",
   "execution_count": null,
   "metadata": {
    "id": "0a3079f3-87c2-42ec-b40f-70397ebd6ec6",
    "pbl_cell_type": "hidden_checkcode",
    "step_id": 3743,
    "step_number": 1
   },
   "outputs": [],
   "source": [
    "#checkcode\n",
    "ensure_vals(globals(), 'train', 'test', 'submission') \n",
    "@check_safety\n",
    "def check(\n",
    "    user_train=train,\n",
    "    user_test=test,\n",
    "    user_submission=submission\n",
    "):\n",
    "    c_point1 = hasattr(user_train, 'head')\n",
    "    c_point2 = hasattr(user_test, 'head')\n",
    "    c_point3 = hasattr(user_submission, 'head')\n",
    "\n",
    "    if c_point1 and c_point2 and c_point3:\n",
    "        return True\n",
    "    else:\n",
    "        return False\n",
    "\n",
    "check()"
   ]
  },
  {
   "cell_type": "markdown",
   "metadata": {
    "id": "51aa041f-690e-4678-82a3-bb909ffdf9ac",
    "pbl_cell_type": "markdown",
    "step_id": 3744,
    "step_number": 2
   },
   "source": [
    "# 2. 데이터프레임의 통계 확인\n",
    "[문제 2]  \n",
    "`describe()` 메서드를 사용하여 train 데이터의 기술 통계량을 확인해보세요."
   ]
  },
  {
   "cell_type": "code",
   "execution_count": null,
   "metadata": {
    "id": "77fac6b3-ddcd-43e3-9244-da39250ee6fd",
    "outputId": "0c72f00d-cb51-48ca-c51d-7bad290a1bc4",
    "pbl_cell_type": "code",
    "step_id": 3744,
    "step_number": 2
   },
   "outputs": [],
   "source": [
    "train.___()"
   ]
  },
  {
   "cell_type": "code",
   "execution_count": null,
   "metadata": {
    "id": "abef2999-402b-44bf-ac16-293d222bbdd1",
    "pbl_cell_type": "hidden_checkcode",
    "step_id": 3744,
    "step_number": 2
   },
   "outputs": [],
   "source": [
    "#checkcode\n",
    "ensure_vals(globals(), 'train') \n",
    "@check_safety\n",
    "def check(\n",
    "    user_train=train,\n",
    "    user_answer=_\n",
    "):\n",
    "    c_point1 = user_answer.shape == user_train.describe().shape\n",
    "    c_point2 = '25%' in user_answer.index\n",
    "\n",
    "    if c_point1 and c_point2:\n",
    "        return True\n",
    "    else:\n",
    "        return False\n",
    "\n",
    "check()"
   ]
  },
  {
   "cell_type": "markdown",
   "metadata": {
    "id": "d80c6d8e-c041-46ea-bc76-b1ec5c676ec8",
    "pbl_cell_type": "markdown",
    "step_id": 3745,
    "step_number": 3
   },
   "source": [
    "# 3. 범위 내 특정 열 데이터 조회 (1)\n",
    "[문제 3]  \n",
    "5부터 10 까지의 인덱스를 가지는 `Age` 칼럼(column)의 값을 `loc[]` 메서드를 사용하여 조회해보세요."
   ]
  },
  {
   "cell_type": "code",
   "execution_count": null,
   "metadata": {
    "id": "a49056df-eb04-44af-8d48-968a4bda2827",
    "pbl_cell_type": "code",
    "step_id": 3745,
    "step_number": 3
   },
   "outputs": [],
   "source": [
    "train.___[5:10,'___']"
   ]
  },
  {
   "cell_type": "code",
   "execution_count": null,
   "metadata": {
    "id": "20cb9720-5c56-4f2a-b09e-3bf040f1dd76",
    "pbl_cell_type": "hidden_checkcode",
    "step_id": 3745,
    "step_number": 3
   },
   "outputs": [],
   "source": [
    "#checkcode\n",
    "ensure_vals(globals(), 'train') \n",
    "@check_safety\n",
    "def check(\n",
    "    user_train=train,\n",
    "    user_answer=_,\n",
    "    index1=5,\n",
    "    index2=10,\n",
    "    col='Age'\n",
    "):\n",
    "    c_point1 = (user_answer == user_train.loc[index1:index2, col]).all()\n",
    "\n",
    "    if c_point1:\n",
    "        return True\n",
    "    else:\n",
    "        return False\n",
    "\n",
    "check()"
   ]
  },
  {
   "cell_type": "markdown",
   "metadata": {
    "id": "nhEo0yOVJ3gw",
    "pbl_cell_type": "markdown",
    "step_id": 3746,
    "step_number": 4
   },
   "source": [
    "# 4. 인덱스와 칼럼을 이용한 데이터 조회(1)\n",
    "[문제 4]  \n",
    "train 데이터프레임의 22번 인덱스의 `Height` 칼럼의 값을 확인해 봅시다.  "
   ]
  },
  {
   "cell_type": "code",
   "execution_count": null,
   "metadata": {
    "id": "3a3b693b",
    "pbl_cell_type": "code",
    "step_id": 3746,
    "step_number": 4
   },
   "outputs": [],
   "source": [
    "train.___[___, 'Height']"
   ]
  },
  {
   "cell_type": "code",
   "execution_count": null,
   "metadata": {
    "id": "0c38024a",
    "pbl_cell_type": "hidden_checkcode",
    "step_id": 3746,
    "step_number": 4
   },
   "outputs": [],
   "source": [
    "#checkcode\n",
    "def check(\n",
    "    user_answer=_,\n",
    "    num=22,\n",
    "    col_name='Height'\n",
    "):\n",
    "    c_point1 = (user_answer) == train.loc[num,col_name]\n",
    "\n",
    "    if c_point1:\n",
    "        return True\n",
    "    else:\n",
    "        return False\n",
    "\n",
    "check()"
   ]
  },
  {
   "cell_type": "markdown",
   "metadata": {
    "id": "50ce474f",
    "pbl_cell_type": "markdown",
    "step_id": 3747,
    "step_number": 5
   },
   "source": [
    "# 5. 범위 내 특정 열 데이터 조회 (2)\n",
    "[문제 5]  \n",
    "5부터 9 까지의 인덱스를 가지는 `Age` 칼럼(column)의 값을 `iloc[]` 메서드를 사용하여 조회해보세요.  \n",
    "train 데이터프레임에서 1번째 칼럼은 `ID`이며, 2번째 칼럼은 `Age`입니다."
   ]
  },
  {
   "cell_type": "code",
   "execution_count": null,
   "metadata": {
    "id": "2de24e72",
    "pbl_cell_type": "code",
    "step_id": 3747,
    "step_number": 5
   },
   "outputs": [],
   "source": [
    "train.___[5:10, 1]"
   ]
  },
  {
   "cell_type": "code",
   "execution_count": null,
   "metadata": {
    "id": "85693048-9b1a-40ce-8bd2-d4038a0e2068",
    "pbl_cell_type": "hidden_checkcode",
    "step_id": 3747,
    "step_number": 5
   },
   "outputs": [],
   "source": [
    "#checkcode\n",
    "ensure_vals(globals(), 'train') \n",
    "@check_safety\n",
    "def check(\n",
    "    user_train=train,\n",
    "    user_answer=_,\n",
    "    index1=5,\n",
    "    index2=10,\n",
    "    col=1\n",
    "):\n",
    "    c_point1 = (user_answer == user_train.iloc[index1:index2, col]).all()\n",
    "\n",
    "    if c_point1:\n",
    "        return True\n",
    "    else:\n",
    "        return False\n",
    "\n",
    "check()"
   ]
  },
  {
   "cell_type": "markdown",
   "metadata": {
    "id": "b5ec71b2-5c90-4310-b8ef-538907d43100",
    "pbl_cell_type": "markdown",
    "step_id": 3748,
    "step_number": 6
   },
   "source": [
    "# 6. 인덱스와 칼럼을 이용한 데이터 조회(2)\n",
    "[문제 6]   \n",
    "데이터프레임의 22번 인덱스의 'Age' 칼럼(column)의 값을 확인해 보세요.   \n",
    "단, `Age` 칼럼을 직접 입력하지 않고, 정수 기반 인덱스를 사용하여 값을 확인해봅시다.  \n",
    "(1번째 칼럼의 이름은 `ID`, 2번째 칼럼의 이름은 `Age` 입니다.)"
   ]
  },
  {
   "cell_type": "code",
   "execution_count": null,
   "metadata": {
    "id": "9e5838a5",
    "pbl_cell_type": "code",
    "step_id": 3748,
    "step_number": 6
   },
   "outputs": [],
   "source": [
    "train.___[___, ___]"
   ]
  },
  {
   "cell_type": "code",
   "execution_count": null,
   "metadata": {
    "id": "506b2723-8406-43c6-b17c-4608f84bb23a",
    "pbl_cell_type": "hidden_checkcode",
    "step_id": 3748,
    "step_number": 6
   },
   "outputs": [],
   "source": [
    "#checkcode\n",
    "def check(\n",
    "    user_answer=_,\n",
    "    num=22,\n",
    "    col_name='Age'\n",
    "):\n",
    "    c_point1 = (user_answer) == train.loc[num,col_name]\n",
    "\n",
    "    if c_point1:\n",
    "        return True\n",
    "    else:\n",
    "        return False\n",
    "\n",
    "check()"
   ]
  }
 ],
 "metadata": {
  "kernelspec": {
   "display_name": "Python 3 (ipykernel)",
   "language": "python",
   "name": "python3"
  },
  "language_info": {
   "codemirror_mode": {
    "name": "ipython",
    "version": 3
   },
   "file_extension": ".py",
   "mimetype": "text/x-python",
   "name": "python",
   "nbconvert_exporter": "python",
   "pygments_lexer": "ipython3",
   "version": "3.11.9"
  }
 },
 "nbformat": 4,
 "nbformat_minor": 4
}
