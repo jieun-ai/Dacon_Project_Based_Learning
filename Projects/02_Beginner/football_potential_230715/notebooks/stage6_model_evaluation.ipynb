{
 "cells": [
  {
   "cell_type": "code",
   "execution_count": null,
   "metadata": {
    "deletable": false,
    "id": "vArBR6-xcwUF",
    "pbl_cell_type": "hidden_setup_code",
    "step_id": 3773,
    "step_number": 0
   },
   "outputs": [],
   "source": [
    "#hiddencell\n",
    "\n",
    "from pbl_tools import *"
   ]
  },
  {
   "cell_type": "markdown",
   "metadata": {
    "deletable": false,
    "id": "BOtTZbb7ctuA",
    "pbl_cell_type": "markdown",
    "step_id": 3773,
    "step_number": 0
   },
   "source": [
    "# 스테이지 6. 모델링 실습\n",
    "- 최종 모델 만들기"
   ]
  },
  {
   "cell_type": "markdown",
   "metadata": {
    "id": "MQb2yDAX3jLN",
    "pbl_cell_type": "markdown",
    "step_id": 3774,
    "step_number": 1
   },
   "source": [
    "# 1.pandas를 이용해 csv 파일 읽어오기\n",
    "\n",
    "[문제 1]  \n",
    "Pandas 라이브러리(library)를 가져와보세요.  \n",
    "그리고 train.csv, test.csv, sample_submission.csv 파일을 각각 train, test, submission 변수로 읽어오세요.  \n",
    "아래 빈칸을 채워주세요."
   ]
  },
  {
   "cell_type": "code",
   "execution_count": null,
   "metadata": {
    "id": "Q-1W_Gxp3jLN",
    "pbl_cell_type": "code",
    "step_id": 3774,
    "step_number": 1
   },
   "outputs": [],
   "source": [
    "import ___ as pd\n",
    "\n",
    "train = ___.___('train.csv')\n",
    "test = ___.___('test.csv')\n",
    "submission = ___.___('sample_submission.csv')"
   ]
  },
  {
   "cell_type": "code",
   "execution_count": null,
   "metadata": {
    "id": "0X_HK7t_3jLO",
    "pbl_cell_type": "hidden_checkcode",
    "step_id": 3774,
    "step_number": 1
   },
   "outputs": [],
   "source": [
    "#checkcode\n",
    "ensure_vals(globals(), 'train', 'test', 'submission')\n",
    "@check_safety\n",
    "def check(user_answer_train=train,\n",
    "          user_answer_test=test, \n",
    "          user_answer_submission=submission):\n",
    "    \n",
    "    c_point0 = hasattr(user_answer_train, 'tail')\n",
    "    c_point1 = hasattr(user_answer_test, 'tail')\n",
    "    c_point2 = hasattr(user_answer_submission, 'tail')\n",
    "\n",
    "    if c_point0 and c_point1 and c_point2 :\n",
    "        return True\n",
    "    else:\n",
    "        return False\n",
    "\n",
    "check()"
   ]
  },
  {
   "cell_type": "markdown",
   "metadata": {
    "id": "Ay8FE07xI7DA",
    "pbl_cell_type": "markdown",
    "step_id": 3775,
    "step_number": 2
   },
   "source": [
    "# 2. 범주형 변수 제거\n",
    "\n",
    "[문제 2]  \n",
    "1. train 데이터프레임(DataFrame)에서 not_numeric 리스트(list)에 있는 열(column)을 제거해 보세요.\n",
    "2. test 데이터프레임에서 not_numeric 리스트에 있는 열을 제거해 보세요."
   ]
  },
  {
   "cell_type": "code",
   "execution_count": null,
   "metadata": {
    "id": "eowOd9RXI7DB",
    "pbl_cell_type": "code",
    "step_id": 3775,
    "step_number": 2
   },
   "outputs": [],
   "source": [
    "not_numeric = ['ID', 'Position', 'PreferredFoot', 'AttackingWorkRate', 'DefensiveWorkRate']\n",
    "\n",
    "train_transfered = train.___(___, axis = ___)\n",
    "test_transfered = test.___(___, axis = ___)"
   ]
  },
  {
   "cell_type": "code",
   "execution_count": null,
   "metadata": {
    "id": "lJOGHDEoI7DB",
    "outputId": "45486480-fe38-46fc-c4c2-49d784f2f5ca",
    "pbl_cell_type": "hidden_checkcode",
    "step_id": 3775,
    "step_number": 2
   },
   "outputs": [],
   "source": [
    "#checkcode\n",
    "ensure_vals(globals(), 'test_transfered','train_transfered','not_numeric')\n",
    "@check_safety\n",
    "def check(user_answer_train=train_transfered, \n",
    "          user_answer_test=test_transfered,\n",
    "          user_columns=not_numeric):\n",
    "    \n",
    "    c_point0 = (~user_answer_train.columns.isin(user_columns)).all()\n",
    "    c_point1 = (~user_answer_test.columns.isin(user_columns)).all()\n",
    "    c_point2 = train_transfered.shape[1] == 61\n",
    "    \n",
    "    if c_point0 and c_point1 and c_point2:\n",
    "        return True\n",
    "    else:\n",
    "        return False\n",
    "\n",
    "check()"
   ]
  },
  {
   "cell_type": "markdown",
   "metadata": {
    "pbl_cell_type": "markdown",
    "step_id": 3776,
    "step_number": 3
   },
   "source": [
    "# 3.train 데이터프레임에서 Prospect과의 상관관계가 높은 상위 7개 피처 추출\n",
    "\n",
    "train에 피처(Feature)의 수가 많기 때문에 타겟과의 상관관계가 높은 피처만을 이용해 데이터를 구성해 보겠습니다.\n",
    "\n",
    "[문제 3]\n",
    "\n",
    "1. train_transfered 데이터프레임에서 열(column) 간 상관계수를 계산하고,  \n",
    "train_transfered 데이터프레임의 각 열과 'Prospect' 열 간의 상관계수의 절대값을 계산해 보세요.\n",
    "\n",
    "2. 절대값 상관계수를 내림차순으로 정렬하고,\n",
    "'Prospect' 열을 제외한 상위 7개 피처를 선택해 보세요.\n",
    "\n",
    "3. 선택된 상위 7개 피처의 이름(index)을 col_names 변수에 저장해 보세요."
   ]
  },
  {
   "cell_type": "code",
   "execution_count": null,
   "metadata": {
    "pbl_cell_type": "code",
    "step_id": 3776,
    "step_number": 3
   },
   "outputs": [],
   "source": [
    "abs_corr = ___(train_transfered.___()['___'])\n",
    "abs_corr_sort = abs_corr.___(ascending=___)[1:8]\n",
    "col_names = abs_corr_sort.___\n",
    "col_names"
   ]
  },
  {
   "cell_type": "code",
   "execution_count": null,
   "metadata": {
    "pbl_cell_type": "hidden_checkcode",
    "step_id": 3776,
    "step_number": 3
   },
   "outputs": [],
   "source": [
    "#checkcode\n",
    "ensure_vals(globals(),'abs_corr','abs_corr_sort', 'col_names')\n",
    "@check_safety\n",
    "def check(user_answer=col_names, \n",
    "          user_columns=['Age', 'Reactions', 'PhysicalityTotal', 'Stamina', 'Strength',\n",
    "       'LWBRating', 'RWBRating']):\n",
    "    \n",
    "    c_point0 = (user_answer.isin(user_columns)).all()\n",
    "\n",
    "    if c_point0 :\n",
    "        return True\n",
    "    else:\n",
    "        return False\n",
    "\n",
    "check()"
   ]
  },
  {
   "cell_type": "markdown",
   "metadata": {
    "id": "meWJK871LHdk",
    "pbl_cell_type": "markdown",
    "step_id": 3777,
    "step_number": 4
   },
   "source": [
    "# 4. x_train / y_train 추출\n",
    "\n",
    "[문제 4]\n",
    "\n",
    "train_transfered 데이터프레임(DataFrame)에서 'Prospect'과 상관계수가 가장 높은   \n",
    "상위 7개의 피처(col_names)로 구성된 독립 변수와, 목표 변수인 `Prospect`를 분리해 주세요."
   ]
  },
  {
   "cell_type": "code",
   "execution_count": null,
   "metadata": {
    "id": "g5ZzJvJdLHdk",
    "pbl_cell_type": "code",
    "step_id": 3777,
    "step_number": 4
   },
   "outputs": [],
   "source": [
    "x_train = train_transfered[___]\n",
    "y_train = train_transfered['___']"
   ]
  },
  {
   "cell_type": "code",
   "execution_count": null,
   "metadata": {
    "id": "EPk-Gp__JbXD",
    "pbl_cell_type": "hidden_checkcode",
    "step_id": 3777,
    "step_number": 4
   },
   "outputs": [],
   "source": [
    "#checkcode\n",
    "ensure_vals(globals(), 'x_train', 'y_train')\n",
    "@check_safety\n",
    "def check(\n",
    "    train_x=x_train,\n",
    "    train_y=y_train\n",
    "):\n",
    "    \n",
    "    c_point1 = 'Prospect' not in list(train_x.columns)\n",
    "    c_point2 = train_y.name == 'Prospect'\n",
    "\n",
    "    if c_point1 and c_point2:\n",
    "        return True\n",
    "    else:\n",
    "        return False\n",
    "\n",
    "check()"
   ]
  },
  {
   "cell_type": "markdown",
   "metadata": {
    "id": "1OCdEn7KYxLb",
    "pbl_cell_type": "markdown",
    "step_id": 3778,
    "step_number": 5
   },
   "source": [
    "# 5. 학습/검증 세트 분리\n",
    "\n",
    "기존의 `x_train`와 `y_train` 데이터셋을 학습 및 검증(validation) 셋으로 분리하겠습니다.\n",
    "\n",
    "[문제 5]    \n",
    " `x_train`와 `y_train` 데이터셋을 학습 데이터셋(`train_x, train_y`)과   \n",
    "모델의 성능을 검증하는데 사용하는 검증 데이터셋(`val_x, val_y`)으로 분리시켜보세요."
   ]
  },
  {
   "cell_type": "code",
   "execution_count": null,
   "metadata": {
    "id": "mKw_f0akYi7J",
    "pbl_cell_type": "code",
    "step_id": 3778,
    "step_number": 5
   },
   "outputs": [],
   "source": [
    "from sklearn.model_selection import train_test_split\n",
    "\n",
    "train_x, val_x, train_y, ___ = ___(___, ___, test_size=0.2, random_state=42)"
   ]
  },
  {
   "cell_type": "code",
   "execution_count": null,
   "metadata": {
    "id": "EbenA6_aYh2D",
    "pbl_cell_type": "hidden_checkcode",
    "step_id": 3778,
    "step_number": 5
   },
   "outputs": [],
   "source": [
    "#checkcode\n",
    "ensure_vals(globals(), 'val_y')\n",
    "@check_safety\n",
    "def check(\n",
    "    user_val_y=val_y,\n",
    "    user_shape=(604,)\n",
    "):\n",
    "    c_point1 = (user_val_y == user_shape).all\n",
    "\n",
    "    if c_point1:\n",
    "        return True\n",
    "    else:\n",
    "        return False\n",
    "\n",
    "check()"
   ]
  },
  {
   "cell_type": "markdown",
   "metadata": {
    "id": "iBgouw_tuTSd",
    "pbl_cell_type": "markdown",
    "step_id": 3779,
    "step_number": 6
   },
   "source": [
    "# 6. LogisticRegression(로지스틱 회귀) 모델 학습\n",
    "\n",
    "[문제 6]  \n",
    "\n",
    "1. `LogisticRegression` 모델을 불러와 보세요.\n",
    "2. 분리된 학습 데이터셋으로 머신러닝 모델을 학습시켜보세요."
   ]
  },
  {
   "cell_type": "code",
   "execution_count": null,
   "metadata": {
    "id": "TAn6z1P2uWuh",
    "pbl_cell_type": "code",
    "step_id": 3779,
    "step_number": 6
   },
   "outputs": [],
   "source": [
    "from sklearn.linear_model import LogisticRegression\n",
    "\n",
    "model = ___(max_iter=5000)\n",
    "model.___(___, ___)"
   ]
  },
  {
   "cell_type": "code",
   "execution_count": null,
   "metadata": {
    "id": "sSABvrSrJbXE",
    "outputId": "87ceede2-cb0d-4b49-d62d-0dc674223670",
    "pbl_cell_type": "hidden_checkcode",
    "step_id": 3779,
    "step_number": 6
   },
   "outputs": [],
   "source": [
    "#checkcode\n",
    "ensure_vals(globals(),'model')\n",
    "@check_safety\n",
    "def check(user_answer = _, user_model = \"<class 'sklearn.linear_model._logistic.LogisticRegression'>\"):\n",
    "\n",
    "    c_point0 = str(type(user_answer)) == user_model\n",
    "\n",
    "    if c_point0:\n",
    "        return True\n",
    "    else:\n",
    "        return False\n",
    "check()"
   ]
  },
  {
   "cell_type": "markdown",
   "metadata": {
    "id": "nDfVx3qgaCct",
    "pbl_cell_type": "markdown",
    "step_id": 3780,
    "step_number": 7
   },
   "source": [
    "# 7. 로지스틱 회귀 모델의 검증 데이터에 대한 Micro F1 Score 평가\n",
    "\n",
    "학습된 로지스틱 회귀 모델을 사용하여 검증 데이터셋(val_x)에 대한 예측을 수행한 후, F1 스코어로 모델의 성능을 평가해보겠습니다.\n",
    "\n",
    "[문제 7]\n",
    "1. 학습된 머신러닝 모델을 사용하여 `val_x` 에 대한 예측 결과를 얻어보세요.\n",
    "2. 실제값(`val_y`)과 예측값(`val_pred`)를 비교하여 모델의 성능을 평가해 보세요."
   ]
  },
  {
   "cell_type": "code",
   "execution_count": null,
   "metadata": {
    "id": "4V1KeaRRaCc3",
    "pbl_cell_type": "code",
    "step_id": 3780,
    "step_number": 7
   },
   "outputs": [],
   "source": [
    "from sklearn.metrics import f1_score\n",
    "\n",
    "val_pred = model.___(___)\n",
    "score = f1_score(___, ___, average='micro')\n",
    "\n",
    "print('Micro F1 Score: ',score)"
   ]
  },
  {
   "cell_type": "code",
   "execution_count": null,
   "metadata": {
    "pbl_cell_type": "hidden_checkcode",
    "step_id": 3780,
    "step_number": 7
   },
   "outputs": [],
   "source": [
    "#checkcode\n",
    "ensure_vals(globals(),'val_pred', 'score') \n",
    "@check_safety\n",
    "def check(user_answer_score=score,\n",
    "          user_answer=0.7):\n",
    "\n",
    "    # c_point1 = (user_answer_score > user_answer).all\n",
    "    \n",
    "    import re\n",
    "    \n",
    "    user_dap = In[-2]\n",
    "    \n",
    "    pattern_predict = r'predict\\s*\\(val_x'\n",
    "    c_point1 = re.findall(pattern_predict, user_dap) is not None\n",
    "\n",
    "    pattern_f1 = r'f1_score\\s*\\(\\s*(val_y\\s*,\\s*val_pred|val_pred\\s*,\\s*val_y)\\s*,\\s*average\\s*=\\s*[\\'\"]micro[\\'\"]\\s*\\)'\n",
    "    c_point2 = re.findall(pattern_f1, user_dap) is not None\n",
    "\n",
    "    if c_point1 and c_point2:\n",
    "        return True\n",
    "    else:\n",
    "        return False\n",
    "\n",
    "check()"
   ]
  },
  {
   "cell_type": "markdown",
   "metadata": {
    "id": "m-cjrZXoOo1o",
    "pbl_cell_type": "markdown",
    "step_id": 3781,
    "step_number": 8
   },
   "source": [
    "# 8. 로지스틱 회귀 모델을 사용하여 test 데이터셋에 대해 예측 수행\n",
    "\n",
    "학습시킨 모델을 이용해 test 데이터를 예측해 보겠습니다.\n",
    "\n",
    "[문제 8]    \n",
    "`test_transfered` 데이터프레임에서 상관계수가 높은 상위 7개 피처(col_names)를 test_x 변수에 불러와주세요.   \n",
    "학습된 머신러닝 모델(model)을 사용하여 test_x 에 대한 예측 결과를 얻어보세요."
   ]
  },
  {
   "cell_type": "code",
   "execution_count": null,
   "metadata": {
    "id": "e1gkkO9qrmxn",
    "pbl_cell_type": "code",
    "step_id": 3781,
    "step_number": 8
   },
   "outputs": [],
   "source": [
    "test_x = test_transfered[___]\n",
    "\n",
    "y_pred = model.___(___)\n",
    "y_pred"
   ]
  },
  {
   "cell_type": "code",
   "execution_count": null,
   "metadata": {
    "id": "X_vN4exgJbXE",
    "outputId": "65dab035-9718-47b2-e06f-b0de3b838c92",
    "pbl_cell_type": "hidden_checkcode",
    "step_id": 3781,
    "step_number": 8
   },
   "outputs": [],
   "source": [
    "#checkcode\n",
    "ensure_vals(globals(), 'y_pred') \n",
    "@check_safety\n",
    "def check(user_answer=y_pred,\n",
    "          user_len=1626):\n",
    "\n",
    "    c_point1 = len(user_answer) == user_len\n",
    "\n",
    "    if c_point1:\n",
    "        return True\n",
    "    else:\n",
    "        return False\n",
    "\n",
    "check()"
   ]
  },
  {
   "cell_type": "markdown",
   "metadata": {
    "pbl_cell_type": "markdown",
    "step_id": 3782,
    "step_number": 9
   },
   "source": [
    "# 9. 예측 결과를 submission 데이터프레임에 추가\n",
    "\n",
    "[문제 9]  \n",
    "예측한 결과를 submission 데이터의 'Prospect' 칼럼에 할당해 보세요.  "
   ]
  },
  {
   "cell_type": "code",
   "execution_count": null,
   "metadata": {
    "pbl_cell_type": "code",
    "step_id": 3782,
    "step_number": 9
   },
   "outputs": [],
   "source": [
    "submission['___'] = ___\n",
    "submission.head()"
   ]
  },
  {
   "cell_type": "code",
   "execution_count": null,
   "metadata": {
    "pbl_cell_type": "hidden_checkcode",
    "step_id": 3782,
    "step_number": 9
   },
   "outputs": [],
   "source": [
    "#checkcode\n",
    "ensure_vals(globals()) \n",
    "@check_safety\n",
    "def check(\n",
    "     user_answer=_,\n",
    "     user_num=0,\n",
    "     user_col='Prospect'\n",
    "):\n",
    "\n",
    "    c_point1 = user_answer[user_col].sum() != user_num\n",
    "\n",
    "    if c_point1:\n",
    "        return True\n",
    "    else:\n",
    "        return False\n",
    "\n",
    "check()"
   ]
  },
  {
   "cell_type": "markdown",
   "metadata": {
    "id": "UU8PiIdSOyyJ",
    "pbl_cell_type": "markdown",
    "step_id": 3783,
    "step_number": 10
   },
   "source": [
    "# 10. submission 파일 저장하기\n",
    "제출 파일명을 submission.csv로 하여 저장해 봅시다.  "
   ]
  },
  {
   "cell_type": "code",
   "execution_count": null,
   "metadata": {
    "id": "yXSHAMo7OyyJ",
    "pbl_cell_type": "submission_code",
    "pbl_submission_filename": "submission.csv",
    "step_id": 3783,
    "step_number": 10
   },
   "outputs": [],
   "source": [
    "submission.to_csv('submission.csv', index=False)"
   ]
  }
 ],
 "metadata": {
  "kernelspec": {
   "display_name": "Python 3 (ipykernel)",
   "language": "python",
   "name": "python3"
  },
  "language_info": {
   "codemirror_mode": {
    "name": "ipython",
    "version": 3
   },
   "file_extension": ".py",
   "mimetype": "text/x-python",
   "name": "python",
   "nbconvert_exporter": "python",
   "pygments_lexer": "ipython3",
   "version": "3.11.9"
  }
 },
 "nbformat": 4,
 "nbformat_minor": 4
}
