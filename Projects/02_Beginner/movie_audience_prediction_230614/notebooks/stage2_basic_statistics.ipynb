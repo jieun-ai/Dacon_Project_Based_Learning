{
 "cells": [
  {
   "cell_type": "code",
   "execution_count": null,
   "metadata": {
    "deletable": false,
    "id": "RJJ7qQN0qiio",
    "pbl_cell_type": "hidden_setup_code",
    "step_id": 3581,
    "step_number": 0
   },
   "outputs": [],
   "source": [
    "#hiddencell\n",
    "from pbl_tools import *"
   ]
  },
  {
   "cell_type": "markdown",
   "metadata": {
    "deletable": false,
    "id": "j48OcIbGvMhg",
    "pbl_cell_type": "markdown",
    "step_id": 3581,
    "step_number": 0
   },
   "source": [
    "# 스테이지 2"
   ]
  },
  {
   "cell_type": "markdown",
   "metadata": {
    "pbl_cell_type": "markdown",
    "step_id": 3582,
    "step_number": 1
   },
   "source": [
    "# 1. pandas를 이용해 csv 파일 읽어오기\n",
    "[문제 1]  \n",
    "Pandas 라이브러리(library)를 가져와보세요.   \n",
    "그리고 train.csv, test.csv, sample_submission.csv   파일을 각각 train, test, submission 변수로 읽어오세요.    \n",
    "아래 빈칸을 채워주세요."
   ]
  },
  {
   "cell_type": "code",
   "execution_count": null,
   "metadata": {
    "id": "C_mPQOzuqsik",
    "pbl_cell_type": "code",
    "step_id": 3582,
    "step_number": 1
   },
   "outputs": [],
   "source": [
    "import ___ as pd\n",
    "\n",
    "train = pd.___('train.csv')\n",
    "test = pd.___('test.csv')\n",
    "submission = pd.___('sample_submission.csv')"
   ]
  },
  {
   "cell_type": "code",
   "execution_count": null,
   "metadata": {
    "collapsed": false,
    "jupyter": {
     "outputs_hidden": false
    },
    "pbl_cell_type": "hidden_checkcode",
    "pycharm": {
     "name": "#%%\n"
    },
    "step_id": 3582,
    "step_number": 1
   },
   "outputs": [],
   "source": [
    "#checkcode\n",
    "ensure_vals(globals(), 'train', 'test', 'submission')\n",
    "@check_safety\n",
    "def check(user_answer_train=train,\n",
    "          user_answer_test=test, \n",
    "          user_answer_submission=submission):\n",
    "    \n",
    "    c_point0 = hasattr(user_answer_train, 'tail')\n",
    "    c_point1 = hasattr(user_answer_test, 'tail')\n",
    "    c_point2 = hasattr(user_answer_submission, 'tail')\n",
    "\n",
    "    if c_point0 and c_point1 and c_point2 :\n",
    "        return True\n",
    "    else:\n",
    "        return False\n",
    "\n",
    "check()"
   ]
  },
  {
   "cell_type": "markdown",
   "metadata": {
    "id": "C3SWlNLptBUk",
    "pbl_cell_type": "markdown",
    "step_id": 3583,
    "step_number": 2
   },
   "source": [
    "# 2. train 데이터의 상위 5개 행(row) 데이터 출력하기\n",
    "\n",
    "[문제 2]  \n",
    "아래 빈칸을 채워 상위 5개의 행(row) 데이터를 확인해 보세요.   "
   ]
  },
  {
   "cell_type": "code",
   "execution_count": null,
   "metadata": {
    "collapsed": false,
    "jupyter": {
     "outputs_hidden": false
    },
    "pbl_cell_type": "code",
    "pycharm": {
     "name": "#%%\n"
    },
    "step_id": 3583,
    "step_number": 2
   },
   "outputs": [],
   "source": [
    "train.___()"
   ]
  },
  {
   "cell_type": "code",
   "execution_count": null,
   "metadata": {
    "collapsed": false,
    "jupyter": {
     "outputs_hidden": false
    },
    "pbl_cell_type": "hidden_checkcode",
    "pycharm": {
     "name": "#%%\n"
    },
    "step_id": 3583,
    "step_number": 2
   },
   "outputs": [],
   "source": [
    "#checkcode\n",
    "ensure_vals(globals(),'train')\n",
    "@check_safety\n",
    "def check(user_answer = _, number = 5):\n",
    "    c_point0 = (len(user_answer) == number)\n",
    "    if c_point0:\n",
    "        return True\n",
    "    else:\n",
    "        return False\n",
    "check()"
   ]
  },
  {
   "cell_type": "markdown",
   "metadata": {
    "id": "YvTgI0J6vMNM",
    "pbl_cell_type": "markdown",
    "step_id": 3584,
    "step_number": 3
   },
   "source": [
    "# 3. test 데이터의 하위 2개 행(row) 데이터 출력하기\n",
    "\n",
    "[문제 3]  \n",
    "아래 빈칸을 채워 하위 2개 행(row) 데이터를 출력해 보세요.     "
   ]
  },
  {
   "cell_type": "code",
   "execution_count": null,
   "metadata": {
    "collapsed": false,
    "jupyter": {
     "outputs_hidden": false
    },
    "pbl_cell_type": "code",
    "pycharm": {
     "name": "#%%\n"
    },
    "step_id": 3584,
    "step_number": 3
   },
   "outputs": [],
   "source": [
    "test.___(___)"
   ]
  },
  {
   "cell_type": "code",
   "execution_count": null,
   "metadata": {
    "colab": {
     "base_uri": "https://localhost:8080/"
    },
    "executionInfo": {
     "elapsed": 6,
     "status": "ok",
     "timestamp": 1676514027900,
     "user": {
      "displayName": "송지은",
      "userId": "04554582486449103299"
     },
     "user_tz": -540
    },
    "id": "8JTg3UryvlPv",
    "outputId": "f1499117-95cd-4ef9-c76e-43a1d7de05e4",
    "pbl_cell_type": "hidden_checkcode",
    "pycharm": {
     "name": "#%%\n"
    },
    "step_id": 3584,
    "step_number": 3
   },
   "outputs": [],
   "source": [
    "#checkcode\n",
    "ensure_vals(globals(),'test')\n",
    "@check_safety\n",
    "def check(user_answer = _, number = 2):\n",
    "    c_point0 = (len(user_answer) == number)\n",
    "    if c_point0:\n",
    "        return True\n",
    "    else:\n",
    "        return False\n",
    "check()"
   ]
  },
  {
   "cell_type": "markdown",
   "metadata": {
    "id": "WX1-4T-zzmVc",
    "pbl_cell_type": "markdown",
    "step_id": 3585,
    "step_number": 4
   },
   "source": [
    "# 4. train 데이터의 길이(len) 확인하기\n",
    "[문제 4]    \n",
    "`len()` 메소드를 이용해서 train 데이터셋의 길이를 출력해 보세요.  "
   ]
  },
  {
   "cell_type": "code",
   "execution_count": null,
   "metadata": {
    "colab": {
     "base_uri": "https://localhost:8080/"
    },
    "executionInfo": {
     "elapsed": 335,
     "status": "ok",
     "timestamp": 1676359405136,
     "user": {
      "displayName": "송지은",
      "userId": "04554582486449103299"
     },
     "user_tz": -540
    },
    "id": "B1TxKRUrq3q_",
    "outputId": "948fcbb3-09e5-4013-d7e2-d3fa09aa9de7",
    "pbl_cell_type": "code",
    "pycharm": {
     "name": "#%%\n"
    },
    "step_id": 3585,
    "step_number": 4
   },
   "outputs": [],
   "source": [
    "___(train)"
   ]
  },
  {
   "cell_type": "code",
   "execution_count": null,
   "metadata": {
    "id": "c5Wb-C--zoiJ",
    "pbl_cell_type": "hidden_checkcode",
    "step_id": 3585,
    "step_number": 4
   },
   "outputs": [],
   "source": [
    "#checkcode\n",
    "ensure_vals(globals(),'train')\n",
    "@check_safety\n",
    "def check(user_answer=_, user_train=train):\n",
    "\n",
    "    c_point0 = (user_answer == len(user_train))\n",
    "\n",
    "    if c_point0 :\n",
    "        return True\n",
    "    else:\n",
    "        return False\n",
    "check()"
   ]
  },
  {
   "cell_type": "markdown",
   "metadata": {
    "id": "55OnYNnl4xBi",
    "pbl_cell_type": "markdown",
    "step_id": 3586,
    "step_number": 5
   },
   "source": [
    "# 5. train 데이터의 차원(ndim) 확인하기\n",
    "[문제 5]    \n",
    "`ndim` 메소드를 이용해서 train 데이터셋의 차원 수를 출력해 보세요."
   ]
  },
  {
   "cell_type": "code",
   "execution_count": null,
   "metadata": {
    "colab": {
     "base_uri": "https://localhost:8080/"
    },
    "executionInfo": {
     "elapsed": 4,
     "status": "ok",
     "timestamp": 1676427850715,
     "user": {
      "displayName": "송지은",
      "userId": "04554582486449103299"
     },
     "user_tz": -540
    },
    "id": "zoEqvyX_4tk0",
    "outputId": "30ffbe30-22ec-44b4-a52d-353364ea95f5",
    "pbl_cell_type": "code",
    "pycharm": {
     "name": "#%%\n"
    },
    "step_id": 3586,
    "step_number": 5
   },
   "outputs": [],
   "source": [
    "train.___"
   ]
  },
  {
   "cell_type": "code",
   "execution_count": null,
   "metadata": {
    "id": "Y6T4xhpD4uZ3",
    "pbl_cell_type": "hidden_checkcode",
    "step_id": 3586,
    "step_number": 5
   },
   "outputs": [],
   "source": [
    "#checkcode\n",
    "ensure_vals(globals(),'train')\n",
    "@check_safety\n",
    "def check(user_answer=_, user_train=train):\n",
    "\n",
    "    c_point0 = (user_answer == user_train.ndim)\n",
    "\n",
    "    if c_point0 :\n",
    "        return True\n",
    "    else:\n",
    "        return False\n",
    "check()"
   ]
  },
  {
   "cell_type": "markdown",
   "metadata": {
    "id": "lZBjZHaq0QPH",
    "pbl_cell_type": "markdown",
    "step_id": 3587,
    "step_number": 6
   },
   "source": [
    "# 6. train 데이터셋 구조(shape) 확인하기\n",
    "\n",
    "[문제 6]  \n",
    "`shape` 함수를 이용하여 train 데이터의 행(row)과 열(column)의 크기를 확인해 보세요.  "
   ]
  },
  {
   "cell_type": "code",
   "execution_count": null,
   "metadata": {
    "colab": {
     "base_uri": "https://localhost:8080/"
    },
    "executionInfo": {
     "elapsed": 8,
     "status": "ok",
     "timestamp": 1676427096715,
     "user": {
      "displayName": "송지은",
      "userId": "04554582486449103299"
     },
     "user_tz": -540
    },
    "id": "9Xalz90v0Dqw",
    "outputId": "b88fbd57-ef09-4486-80e4-42566eb1763c",
    "pbl_cell_type": "code",
    "pycharm": {
     "name": "#%%\n"
    },
    "step_id": 3587,
    "step_number": 6
   },
   "outputs": [],
   "source": [
    "train.___"
   ]
  },
  {
   "cell_type": "code",
   "execution_count": null,
   "metadata": {
    "id": "MY64ePWU0SYy",
    "pbl_cell_type": "hidden_checkcode",
    "step_id": 3587,
    "step_number": 6
   },
   "outputs": [],
   "source": [
    "#checkcode\n",
    "ensure_vals(globals(),'train')\n",
    "@check_safety\n",
    "def check(user_answer=_, user_train=train):\n",
    "\n",
    "    c_point0 = (user_answer == user_train.shape)\n",
    "\n",
    "    if c_point0 :\n",
    "        return True\n",
    "    else:\n",
    "        return False\n",
    "check()"
   ]
  },
  {
   "cell_type": "markdown",
   "metadata": {
    "id": "57UZVH0k0Yuk",
    "pbl_cell_type": "markdown",
    "step_id": 3588,
    "step_number": 7
   },
   "source": [
    "# 7. train 데이터셋 구조 확인하기 실습\n",
    "\n",
    "[문제 7]    \n",
    "train 데이터의 행(row)과 열(column)의 크기를 확인해 보세요.  \n",
    "아래 빈칸을 채워주세요.  "
   ]
  },
  {
   "cell_type": "code",
   "execution_count": null,
   "metadata": {
    "colab": {
     "base_uri": "https://localhost:8080/"
    },
    "executionInfo": {
     "elapsed": 2,
     "status": "ok",
     "timestamp": 1676513530507,
     "user": {
      "displayName": "송지은",
      "userId": "04554582486449103299"
     },
     "user_tz": -540
    },
    "id": "vd_AJxE20U1n",
    "outputId": "54b8c85b-5e66-4f0c-b7de-b300dc05abe0",
    "pbl_cell_type": "code",
    "pycharm": {
     "name": "#%%\n"
    },
    "step_id": 3588,
    "step_number": 7
   },
   "outputs": [],
   "source": [
    "train.___"
   ]
  },
  {
   "cell_type": "code",
   "execution_count": null,
   "metadata": {
    "colab": {
     "base_uri": "https://localhost:8080/"
    },
    "executionInfo": {
     "elapsed": 3,
     "status": "ok",
     "timestamp": 1676513531192,
     "user": {
      "displayName": "송지은",
      "userId": "04554582486449103299"
     },
     "user_tz": -540
    },
    "id": "A-NTF-De0b9d",
    "outputId": "d439de87-c7aa-443a-b9cd-03a9314cb10e",
    "pbl_cell_type": "hidden_checkcode",
    "pycharm": {
     "name": "#%%\n"
    },
    "step_id": 3588,
    "step_number": 7
   },
   "outputs": [],
   "source": [
    "#checkcode\n",
    "ensure_vals(globals(),'train')\n",
    "@check_safety\n",
    "def check(user_answer=_, user_train=train):\n",
    "\n",
    "    c_point0 = (user_answer == user_train.shape)\n",
    "\n",
    "    if c_point0 :\n",
    "        return True\n",
    "    else:\n",
    "        return False\n",
    "check()"
   ]
  },
  {
   "cell_type": "markdown",
   "metadata": {
    "id": "5-b0hu4NFL7P",
    "pbl_cell_type": "markdown",
    "step_id": 3589,
    "step_number": 8
   },
   "source": [
    "# 8. train 데이터 크기(size) 확인하기\n",
    "\n",
    "[문제 8]  \n",
    "train 데이터의 요소 수를 확인해 보세요.  \n",
    "아래 빈칸을 채워주세요.  "
   ]
  },
  {
   "cell_type": "code",
   "execution_count": null,
   "metadata": {
    "colab": {
     "base_uri": "https://localhost:8080/"
    },
    "executionInfo": {
     "elapsed": 432,
     "status": "ok",
     "timestamp": 1676431128789,
     "user": {
      "displayName": "송지은",
      "userId": "04554582486449103299"
     },
     "user_tz": -540
    },
    "id": "fSYtqu9HCiez",
    "outputId": "accb9fe2-4577-4424-d9b8-0ebdfba79b8c",
    "pbl_cell_type": "code",
    "pycharm": {
     "name": "#%%\n"
    },
    "step_id": 3589,
    "step_number": 8
   },
   "outputs": [],
   "source": [
    "train.___"
   ]
  },
  {
   "cell_type": "code",
   "execution_count": null,
   "metadata": {
    "id": "pZBatdpfFRrV",
    "pbl_cell_type": "hidden_checkcode",
    "step_id": 3589,
    "step_number": 8
   },
   "outputs": [],
   "source": [
    "#checkcode\n",
    "ensure_vals(globals(),'train')\n",
    "@check_safety\n",
    "def check(user_answer=_, user_train=train):\n",
    "\n",
    "    c_point0 = (user_answer == user_train.size)\n",
    "\n",
    "    if c_point0 :\n",
    "        return True\n",
    "    else:\n",
    "        return False\n",
    "check()"
   ]
  }
 ],
 "metadata": {
  "kernelspec": {
   "display_name": "Python 3 (ipykernel)",
   "language": "python",
   "name": "python3"
  },
  "language_info": {
   "codemirror_mode": {
    "name": "ipython",
    "version": 3
   },
   "file_extension": ".py",
   "mimetype": "text/x-python",
   "name": "python",
   "nbconvert_exporter": "python",
   "pygments_lexer": "ipython3",
   "version": "3.11.9"
  }
 },
 "nbformat": 4,
 "nbformat_minor": 4
}
