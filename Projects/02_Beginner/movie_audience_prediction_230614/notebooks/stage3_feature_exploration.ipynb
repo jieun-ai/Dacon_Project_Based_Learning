{
 "cells": [
  {
   "cell_type": "code",
   "execution_count": null,
   "metadata": {
    "deletable": false,
    "id": "OB78-tW7__9v",
    "pbl_cell_type": "hidden_setup_code",
    "step_id": 3590,
    "step_number": 0
   },
   "outputs": [],
   "source": [
    "#hiddencell\n",
    "from pbl_tools import *"
   ]
  },
  {
   "cell_type": "markdown",
   "metadata": {
    "deletable": false,
    "id": "r4AqWeC1vhMc",
    "pbl_cell_type": "markdown",
    "step_id": 3590,
    "step_number": 0
   },
   "source": [
    "# 스테이지 3"
   ]
  },
  {
   "cell_type": "markdown",
   "metadata": {
    "id": "PH1fUDfBAU8q",
    "pbl_cell_type": "markdown",
    "step_id": 3591,
    "step_number": 1
   },
   "source": [
    "# 1. pandas를 이용해 csv 파일 읽어오기\n",
    "[문제 1]    \n",
    "Pandas 라이브러리(library)를 가져와보세요.     \n",
    "그리고 train.csv, test.csv, sample_submission.csv   파일을 각각 train, test, submission 변수로 읽어오세요.      \n",
    "아래 빈칸을 채워주세요."
   ]
  },
  {
   "cell_type": "code",
   "execution_count": null,
   "metadata": {
    "id": "t1S4O7vLAHXr",
    "pbl_cell_type": "code",
    "step_id": 3591,
    "step_number": 1
   },
   "outputs": [],
   "source": [
    "import ___ as pd\n",
    "\n",
    "train = pd.___('train.csv')\n",
    "test = pd.___('test.csv')\n",
    "submission = pd.___('sample_submission.csv')"
   ]
  },
  {
   "cell_type": "code",
   "execution_count": null,
   "metadata": {
    "colab": {
     "base_uri": "https://localhost:8080/"
    },
    "executionInfo": {
     "elapsed": 6,
     "status": "ok",
     "timestamp": 1676514131138,
     "user": {
      "displayName": "송지은",
      "userId": "04554582486449103299"
     },
     "user_tz": -540
    },
    "id": "nHWdtTzV_9bi",
    "outputId": "2751aa50-3262-41d5-ad52-5e0ad4df57ac",
    "pbl_cell_type": "hidden_checkcode",
    "step_id": 3591,
    "step_number": 1
   },
   "outputs": [
    {
     "data": {
      "text/plain": [
       "True"
      ]
     },
     "execution_count": 5,
     "metadata": {},
     "output_type": "execute_result"
    }
   ],
   "source": [
    "#checkcode\n",
    "ensure_vals(globals(), 'train', 'test', 'submission')\n",
    "@check_safety\n",
    "def check(user_answer_train=train,\n",
    "          user_answer_test=test, \n",
    "          user_answer_submission=submission):\n",
    "    \n",
    "    c_point0 = hasattr(user_answer_train, 'tail')\n",
    "    c_point1 = hasattr(user_answer_test, 'tail')\n",
    "    c_point2 = hasattr(user_answer_submission, 'tail')\n",
    "\n",
    "    if c_point0 and c_point1 and c_point2 :\n",
    "        return True\n",
    "    else:\n",
    "        return False\n",
    "\n",
    "check()"
   ]
  },
  {
   "cell_type": "markdown",
   "metadata": {
    "id": "i1JAyXfvAjzB",
    "pbl_cell_type": "markdown",
    "step_id": 3592,
    "step_number": 2
   },
   "source": [
    "# 2. train 데이터의 피처(Feature) 목록 확인하기\n",
    "\n",
    "[문제 2]  \n",
    "`columns` 함수를 이용해서 pandas 데이터프레임의 열(column) 이름을 반환해 보세요."
   ]
  },
  {
   "cell_type": "code",
   "execution_count": null,
   "metadata": {
    "colab": {
     "base_uri": "https://localhost:8080/"
    },
    "executionInfo": {
     "elapsed": 3,
     "status": "ok",
     "timestamp": 1676431555835,
     "user": {
      "displayName": "송지은",
      "userId": "04554582486449103299"
     },
     "user_tz": -540
    },
    "id": "YbZ66BIXBs-m",
    "outputId": "e8c6b7d9-a697-4c45-aa48-27d496f76481",
    "pbl_cell_type": "code",
    "step_id": 3592,
    "step_number": 2
   },
   "outputs": [
    {
     "data": {
      "text/plain": [
       "Index(['title', 'distributor', 'genre', 'release_time', 'time',\n",
       "       'screening_rat', 'director', 'dir_prev_bfnum', 'dir_prev_num',\n",
       "       'num_staff', 'num_actor', 'box_off_num'],\n",
       "      dtype='object')"
      ]
     },
     "execution_count": 17,
     "metadata": {},
     "output_type": "execute_result"
    }
   ],
   "source": [
    "train.___"
   ]
  },
  {
   "cell_type": "code",
   "execution_count": null,
   "metadata": {
    "id": "c5Wb-C--zoiJ",
    "pbl_cell_type": "hidden_checkcode",
    "step_id": 3592,
    "step_number": 2
   },
   "outputs": [],
   "source": [
    "#checkcode\n",
    "ensure_vals(globals(),'train')\n",
    "@check_safety\n",
    "def check(user_answer=_, user_train=train):\n",
    "\n",
    "    c_point0 = (len(user_answer) == 12)\n",
    "\n",
    "    if c_point0 :\n",
    "        return True\n",
    "    else:\n",
    "        return False\n",
    "check()"
   ]
  },
  {
   "cell_type": "markdown",
   "metadata": {
    "id": "xBq_UjDCA5Fg",
    "pbl_cell_type": "markdown",
    "step_id": 3593,
    "step_number": 3
   },
   "source": [
    "# 3. test 데이터의 피처(Feature) 목록 확인하기\n",
    "\n",
    "[문제 3]  \n",
    "방금 전 train 데이터셋에는 12개의 피처(feature)가 존재하는 것을 확인했습니다.\n",
    "\n",
    "test 데이터셋에는 몇 개의 피처(feature)가 있으며, 어떤 피처들이 포함되어 있는지 확인해 보세요.  \n",
    "아래 빈칸을 채워보세요."
   ]
  },
  {
   "cell_type": "code",
   "execution_count": null,
   "metadata": {
    "colab": {
     "base_uri": "https://localhost:8080/"
    },
    "executionInfo": {
     "elapsed": 514,
     "status": "ok",
     "timestamp": 1676514135670,
     "user": {
      "displayName": "송지은",
      "userId": "04554582486449103299"
     },
     "user_tz": -540
    },
    "id": "N3kHQNQPG_7r",
    "outputId": "a1162a92-d027-4678-f513-63eb35e6e94d",
    "pbl_cell_type": "code",
    "step_id": 3593,
    "step_number": 3
   },
   "outputs": [
    {
     "data": {
      "text/plain": [
       "Index(['title', 'distributor', 'genre', 'release_time', 'time',\n",
       "       'screening_rat', 'director', 'dir_prev_bfnum', 'dir_prev_num',\n",
       "       'num_staff', 'num_actor'],\n",
       "      dtype='object')"
      ]
     },
     "execution_count": 6,
     "metadata": {},
     "output_type": "execute_result"
    }
   ],
   "source": [
    "test.___"
   ]
  },
  {
   "cell_type": "code",
   "execution_count": null,
   "metadata": {
    "colab": {
     "base_uri": "https://localhost:8080/"
    },
    "executionInfo": {
     "elapsed": 5,
     "status": "ok",
     "timestamp": 1676514135671,
     "user": {
      "displayName": "송지은",
      "userId": "04554582486449103299"
     },
     "user_tz": -540
    },
    "id": "mqAC5VNwYAzo",
    "outputId": "dd0af317-f1d7-4e46-f1b9-336459256848",
    "pbl_cell_type": "hidden_checkcode",
    "step_id": 3593,
    "step_number": 3
   },
   "outputs": [
    {
     "data": {
      "text/plain": [
       "True"
      ]
     },
     "execution_count": 7,
     "metadata": {},
     "output_type": "execute_result"
    }
   ],
   "source": [
    "#checkcode\n",
    "ensure_vals(globals(),'test')\n",
    "@check_safety\n",
    "def check(user_answer=_, user_train=train):\n",
    "\n",
    "    c_point0 = (len(user_answer) == 11)\n",
    "\n",
    "    if c_point0 :\n",
    "        return True\n",
    "    else:\n",
    "        return False\n",
    "check()"
   ]
  },
  {
   "cell_type": "markdown",
   "metadata": {
    "id": "Wl6FmdwIZaPF",
    "pbl_cell_type": "markdown",
    "step_id": 3594,
    "step_number": 4
   },
   "source": [
    "# 4. train 데이터의 `num_actor` 열(column) 데이터 타입(data type) 확인하기\n",
    "\n",
    "[문제 4]    \n",
    "`dtype` 함수를 이용해서 `num_actor` 열(column)이 어떤 데이터 타입(data type)으로 이루어져 있는지 출력해 보세요.  "
   ]
  },
  {
   "cell_type": "code",
   "execution_count": null,
   "metadata": {
    "colab": {
     "base_uri": "https://localhost:8080/"
    },
    "executionInfo": {
     "elapsed": 1072,
     "status": "ok",
     "timestamp": 1676437277192,
     "user": {
      "displayName": "송지은",
      "userId": "04554582486449103299"
     },
     "user_tz": -540
    },
    "id": "_v7veEs7Zn0r",
    "outputId": "8272bf3f-d279-40a4-ae12-571e37e83ab6",
    "pbl_cell_type": "code",
    "step_id": 3594,
    "step_number": 4
   },
   "outputs": [
    {
     "data": {
      "text/plain": [
       "dtype('int64')"
      ]
     },
     "execution_count": 45,
     "metadata": {},
     "output_type": "execute_result"
    }
   ],
   "source": [
    "train['num_actor'].___"
   ]
  },
  {
   "cell_type": "code",
   "execution_count": null,
   "metadata": {
    "id": "amz-M5h4ZzmZ",
    "pbl_cell_type": "hidden_checkcode",
    "step_id": 3594,
    "step_number": 4
   },
   "outputs": [],
   "source": [
    "#checkcode\n",
    "ensure_vals(globals(),'_','train')\n",
    "@check_safety\n",
    "def check(user_answer=_,user_answer_train=train):\n",
    "    c_point0 = user_answer == user_answer_train['num_actor'].dtype\n",
    "    if c_point0:\n",
    "        return True\n",
    "    else:\n",
    "        return False\n",
    "check()"
   ]
  },
  {
   "cell_type": "markdown",
   "metadata": {
    "id": "wHIib1AAcguE",
    "pbl_cell_type": "markdown",
    "step_id": 3595,
    "step_number": 5
   },
   "source": [
    "# 5. train 데이터의 `dir_prev_bfnum` 열(column) 데이터 타입(data type) 확인하기\n",
    "\n",
    "[문제 5]  \n",
    "`dir_prev_bfnum` 열(column)이 어떤 데이터 타입(data type)으로 이루어져 있는지 출력해 보세요.  "
   ]
  },
  {
   "cell_type": "code",
   "execution_count": null,
   "metadata": {
    "colab": {
     "base_uri": "https://localhost:8080/"
    },
    "executionInfo": {
     "elapsed": 556,
     "status": "ok",
     "timestamp": 1676438365212,
     "user": {
      "displayName": "송지은",
      "userId": "04554582486449103299"
     },
     "user_tz": -540
    },
    "id": "EV8RW2Blck-s",
    "outputId": "39af857e-de3e-4d27-933a-92dd35f29def",
    "pbl_cell_type": "code",
    "step_id": 3595,
    "step_number": 5
   },
   "outputs": [
    {
     "data": {
      "text/plain": [
       "dtype('float64')"
      ]
     },
     "execution_count": 79,
     "metadata": {},
     "output_type": "execute_result"
    }
   ],
   "source": [
    "train['___'].___"
   ]
  },
  {
   "cell_type": "code",
   "execution_count": null,
   "metadata": {
    "colab": {
     "base_uri": "https://localhost:8080/"
    },
    "executionInfo": {
     "elapsed": 5,
     "status": "ok",
     "timestamp": 1676438365882,
     "user": {
      "displayName": "송지은",
      "userId": "04554582486449103299"
     },
     "user_tz": -540
    },
    "id": "6q-pHCiIgAdf",
    "outputId": "64223916-493d-4ad8-879a-0001c5cf49e5",
    "pbl_cell_type": "hidden_checkcode",
    "step_id": 3595,
    "step_number": 5
   },
   "outputs": [
    {
     "data": {
      "text/plain": [
       "True"
      ]
     },
     "execution_count": 80,
     "metadata": {},
     "output_type": "execute_result"
    }
   ],
   "source": [
    "#checkcode\n",
    "ensure_vals(globals(),'_','train')\n",
    "@check_safety\n",
    "def check(user_answer=_,user_answer_train=train):\n",
    "    c_point0 = user_answer == user_answer_train['dir_prev_bfnum'].dtype\n",
    "    if c_point0:\n",
    "        return True\n",
    "    else:\n",
    "        return False\n",
    "check()"
   ]
  },
  {
   "cell_type": "markdown",
   "metadata": {
    "id": "z6GIeH0pBEpJ",
    "pbl_cell_type": "markdown",
    "step_id": 3596,
    "step_number": 6
   },
   "source": [
    "# 6. train 데이터 기술 통계량(descriptive statistics) 확인하기\n",
    "\n",
    "[문제 6]  \n",
    "`describe()` 메소드를 이용해서 train 데이터셋의 기술 통계량을 확인해 보세요."
   ]
  },
  {
   "cell_type": "code",
   "execution_count": null,
   "metadata": {
    "colab": {
     "base_uri": "https://localhost:8080/",
     "height": 364
    },
    "executionInfo": {
     "elapsed": 435,
     "status": "ok",
     "timestamp": 1676438031291,
     "user": {
      "displayName": "송지은",
      "userId": "04554582486449103299"
     },
     "user_tz": -540
    },
    "id": "pxE67a6YcVMC",
    "outputId": "e573af14-341e-4664-93bb-d71514542ace",
    "pbl_cell_type": "code",
    "step_id": 3596,
    "step_number": 6
   },
   "outputs": [
    {
     "data": {
      "text/html": [
       "\n",
       "  <div id=\"df-8039bf1a-ffe2-4a88-ab85-fb00063ad578\">\n",
       "    <div class=\"colab-df-container\">\n",
       "      <div>\n",
       "<style scoped>\n",
       "    .dataframe tbody tr th:only-of-type {\n",
       "        vertical-align: middle;\n",
       "    }\n",
       "\n",
       "    .dataframe tbody tr th {\n",
       "        vertical-align: top;\n",
       "    }\n",
       "\n",
       "    .dataframe thead th {\n",
       "        text-align: right;\n",
       "    }\n",
       "</style>\n",
       "<table border=\"1\" class=\"dataframe\">\n",
       "  <thead>\n",
       "    <tr style=\"text-align: right;\">\n",
       "      <th></th>\n",
       "      <th>time</th>\n",
       "      <th>dir_prev_bfnum</th>\n",
       "      <th>dir_prev_num</th>\n",
       "      <th>num_staff</th>\n",
       "      <th>num_actor</th>\n",
       "      <th>box_off_num</th>\n",
       "    </tr>\n",
       "  </thead>\n",
       "  <tbody>\n",
       "    <tr>\n",
       "      <th>count</th>\n",
       "      <td>600.000000</td>\n",
       "      <td>2.700000e+02</td>\n",
       "      <td>600.000000</td>\n",
       "      <td>600.000000</td>\n",
       "      <td>600.000000</td>\n",
       "      <td>6.000000e+02</td>\n",
       "    </tr>\n",
       "    <tr>\n",
       "      <th>mean</th>\n",
       "      <td>100.863333</td>\n",
       "      <td>1.050443e+06</td>\n",
       "      <td>0.876667</td>\n",
       "      <td>151.118333</td>\n",
       "      <td>3.706667</td>\n",
       "      <td>7.081818e+05</td>\n",
       "    </tr>\n",
       "    <tr>\n",
       "      <th>std</th>\n",
       "      <td>18.097528</td>\n",
       "      <td>1.791408e+06</td>\n",
       "      <td>1.183409</td>\n",
       "      <td>165.654671</td>\n",
       "      <td>2.446889</td>\n",
       "      <td>1.828006e+06</td>\n",
       "    </tr>\n",
       "    <tr>\n",
       "      <th>min</th>\n",
       "      <td>45.000000</td>\n",
       "      <td>1.000000e+00</td>\n",
       "      <td>0.000000</td>\n",
       "      <td>0.000000</td>\n",
       "      <td>0.000000</td>\n",
       "      <td>1.000000e+00</td>\n",
       "    </tr>\n",
       "    <tr>\n",
       "      <th>25%</th>\n",
       "      <td>89.000000</td>\n",
       "      <td>2.038000e+04</td>\n",
       "      <td>0.000000</td>\n",
       "      <td>17.000000</td>\n",
       "      <td>2.000000</td>\n",
       "      <td>1.297250e+03</td>\n",
       "    </tr>\n",
       "    <tr>\n",
       "      <th>50%</th>\n",
       "      <td>100.000000</td>\n",
       "      <td>4.784236e+05</td>\n",
       "      <td>0.000000</td>\n",
       "      <td>82.500000</td>\n",
       "      <td>3.000000</td>\n",
       "      <td>1.259100e+04</td>\n",
       "    </tr>\n",
       "    <tr>\n",
       "      <th>75%</th>\n",
       "      <td>114.000000</td>\n",
       "      <td>1.286569e+06</td>\n",
       "      <td>2.000000</td>\n",
       "      <td>264.000000</td>\n",
       "      <td>4.000000</td>\n",
       "      <td>4.798868e+05</td>\n",
       "    </tr>\n",
       "    <tr>\n",
       "      <th>max</th>\n",
       "      <td>180.000000</td>\n",
       "      <td>1.761531e+07</td>\n",
       "      <td>5.000000</td>\n",
       "      <td>869.000000</td>\n",
       "      <td>25.000000</td>\n",
       "      <td>1.426277e+07</td>\n",
       "    </tr>\n",
       "  </tbody>\n",
       "</table>\n",
       "</div>\n",
       "      <button class=\"colab-df-convert\" onclick=\"convertToInteractive('df-8039bf1a-ffe2-4a88-ab85-fb00063ad578')\"\n",
       "              title=\"Convert this dataframe to an interactive table.\"\n",
       "              style=\"display:none;\">\n",
       "        \n",
       "  <svg xmlns=\"http://www.w3.org/2000/svg\" height=\"24px\"viewBox=\"0 0 24 24\"\n",
       "       width=\"24px\">\n",
       "    <path d=\"M0 0h24v24H0V0z\" fill=\"none\"/>\n",
       "    <path d=\"M18.56 5.44l.94 2.06.94-2.06 2.06-.94-2.06-.94-.94-2.06-.94 2.06-2.06.94zm-11 1L8.5 8.5l.94-2.06 2.06-.94-2.06-.94L8.5 2.5l-.94 2.06-2.06.94zm10 10l.94 2.06.94-2.06 2.06-.94-2.06-.94-.94-2.06-.94 2.06-2.06.94z\"/><path d=\"M17.41 7.96l-1.37-1.37c-.4-.4-.92-.59-1.43-.59-.52 0-1.04.2-1.43.59L10.3 9.45l-7.72 7.72c-.78.78-.78 2.05 0 2.83L4 21.41c.39.39.9.59 1.41.59.51 0 1.02-.2 1.41-.59l7.78-7.78 2.81-2.81c.8-.78.8-2.07 0-2.86zM5.41 20L4 18.59l7.72-7.72 1.47 1.35L5.41 20z\"/>\n",
       "  </svg>\n",
       "      </button>\n",
       "      \n",
       "  <style>\n",
       "    .colab-df-container {\n",
       "      display:flex;\n",
       "      flex-wrap:wrap;\n",
       "      gap: 12px;\n",
       "    }\n",
       "\n",
       "    .colab-df-convert {\n",
       "      background-color: #E8F0FE;\n",
       "      border: none;\n",
       "      border-radius: 50%;\n",
       "      cursor: pointer;\n",
       "      display: none;\n",
       "      fill: #1967D2;\n",
       "      height: 32px;\n",
       "      padding: 0 0 0 0;\n",
       "      width: 32px;\n",
       "    }\n",
       "\n",
       "    .colab-df-convert:hover {\n",
       "      background-color: #E2EBFA;\n",
       "      box-shadow: 0px 1px 2px rgba(60, 64, 67, 0.3), 0px 1px 3px 1px rgba(60, 64, 67, 0.15);\n",
       "      fill: #174EA6;\n",
       "    }\n",
       "\n",
       "    [theme=dark] .colab-df-convert {\n",
       "      background-color: #3B4455;\n",
       "      fill: #D2E3FC;\n",
       "    }\n",
       "\n",
       "    [theme=dark] .colab-df-convert:hover {\n",
       "      background-color: #434B5C;\n",
       "      box-shadow: 0px 1px 3px 1px rgba(0, 0, 0, 0.15);\n",
       "      filter: drop-shadow(0px 1px 2px rgba(0, 0, 0, 0.3));\n",
       "      fill: #FFFFFF;\n",
       "    }\n",
       "  </style>\n",
       "\n",
       "      <script>\n",
       "        const buttonEl =\n",
       "          document.querySelector('#df-8039bf1a-ffe2-4a88-ab85-fb00063ad578 button.colab-df-convert');\n",
       "        buttonEl.style.display =\n",
       "          google.colab.kernel.accessAllowed ? 'block' : 'none';\n",
       "\n",
       "        async function convertToInteractive(key) {\n",
       "          const element = document.querySelector('#df-8039bf1a-ffe2-4a88-ab85-fb00063ad578');\n",
       "          const dataTable =\n",
       "            await google.colab.kernel.invokeFunction('convertToInteractive',\n",
       "                                                     [key], {});\n",
       "          if (!dataTable) return;\n",
       "\n",
       "          const docLinkHtml = 'Like what you see? Visit the ' +\n",
       "            '<a target=\"_blank\" href=https://colab.research.google.com/notebooks/data_table.ipynb>data table notebook</a>'\n",
       "            + ' to learn more about interactive tables.';\n",
       "          element.innerHTML = '';\n",
       "          dataTable['output_type'] = 'display_data';\n",
       "          await google.colab.output.renderOutput(dataTable, element);\n",
       "          const docLink = document.createElement('div');\n",
       "          docLink.innerHTML = docLinkHtml;\n",
       "          element.appendChild(docLink);\n",
       "        }\n",
       "      </script>\n",
       "    </div>\n",
       "  </div>\n",
       "  "
      ],
      "text/plain": [
       "             time  dir_prev_bfnum  dir_prev_num   num_staff   num_actor  \\\n",
       "count  600.000000    2.700000e+02    600.000000  600.000000  600.000000   \n",
       "mean   100.863333    1.050443e+06      0.876667  151.118333    3.706667   \n",
       "std     18.097528    1.791408e+06      1.183409  165.654671    2.446889   \n",
       "min     45.000000    1.000000e+00      0.000000    0.000000    0.000000   \n",
       "25%     89.000000    2.038000e+04      0.000000   17.000000    2.000000   \n",
       "50%    100.000000    4.784236e+05      0.000000   82.500000    3.000000   \n",
       "75%    114.000000    1.286569e+06      2.000000  264.000000    4.000000   \n",
       "max    180.000000    1.761531e+07      5.000000  869.000000   25.000000   \n",
       "\n",
       "        box_off_num  \n",
       "count  6.000000e+02  \n",
       "mean   7.081818e+05  \n",
       "std    1.828006e+06  \n",
       "min    1.000000e+00  \n",
       "25%    1.297250e+03  \n",
       "50%    1.259100e+04  \n",
       "75%    4.798868e+05  \n",
       "max    1.426277e+07  "
      ]
     },
     "execution_count": 46,
     "metadata": {},
     "output_type": "execute_result"
    }
   ],
   "source": [
    "train.___()"
   ]
  },
  {
   "cell_type": "code",
   "execution_count": null,
   "metadata": {
    "id": "FC8QlxqCkBDb",
    "pbl_cell_type": "hidden_checkcode",
    "step_id": 3596,
    "step_number": 6
   },
   "outputs": [],
   "source": [
    "#checkcode\n",
    "ensure_vals(globals(), 'train')\n",
    "@check_safety\n",
    "def check(user_answer=_):\n",
    "    \n",
    "    c_point0 = _.shape == (8,6)\n",
    "\n",
    "    if c_point0 :\n",
    "        return True\n",
    "    else:\n",
    "        return False\n",
    "\n",
    "check()"
   ]
  }
 ],
 "metadata": {
  "kernelspec": {
   "display_name": "Python 3 (ipykernel)",
   "language": "python",
   "name": "python3"
  },
  "language_info": {
   "codemirror_mode": {
    "name": "ipython",
    "version": 3
   },
   "file_extension": ".py",
   "mimetype": "text/x-python",
   "name": "python",
   "nbconvert_exporter": "python",
   "pygments_lexer": "ipython3",
   "version": "3.11.9"
  }
 },
 "nbformat": 4,
 "nbformat_minor": 4
}
