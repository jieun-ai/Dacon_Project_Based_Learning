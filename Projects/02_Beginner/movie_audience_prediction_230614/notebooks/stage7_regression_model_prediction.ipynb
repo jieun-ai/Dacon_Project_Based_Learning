{
 "cells": [
  {
   "cell_type": "code",
   "execution_count": null,
   "metadata": {
    "deletable": false,
    "id": "-f29URh0lNG5",
    "pbl_cell_type": "hidden_setup_code",
    "step_id": 3623,
    "step_number": 0
   },
   "outputs": [],
   "source": [
    "#hiddencell\n",
    "%pip install statsmodels\n",
    "\n",
    "from pbl_tools import *\n",
    "\n",
    "import os \n",
    "file_path = 'submission.csv'\n",
    "if os.path.exists(file_path): \n",
    "    os.remove(file_path)"
   ]
  },
  {
   "cell_type": "markdown",
   "metadata": {
    "deletable": false,
    "id": "e9kYeUoXvuBo",
    "pbl_cell_type": "markdown",
    "step_id": 3623,
    "step_number": 0
   },
   "source": [
    "# 스테이지 7"
   ]
  },
  {
   "cell_type": "markdown",
   "metadata": {
    "pbl_cell_type": "markdown",
    "step_id": 3624,
    "step_number": 1
   },
   "source": [
    "# 1. pandas를 이용해 csv 파일 읽어오기\n",
    "[문제 1]    \n",
    "Pandas 라이브러리(library)를 가져와보세요.     \n",
    "그리고 train.csv, test.csv, sample_submission.csv   파일을 각각 train, test, submission 변수로 읽어오세요.      \n",
    "아래 빈칸을 채워주세요."
   ]
  },
  {
   "cell_type": "code",
   "execution_count": null,
   "metadata": {
    "pbl_cell_type": "code",
    "step_id": 3624,
    "step_number": 1
   },
   "outputs": [],
   "source": [
    "import ___ as pd\n",
    "\n",
    "train = pd.___('train.csv')\n",
    "test = pd.___('test.csv')\n",
    "submission = pd.___('sample_submission.csv')"
   ]
  },
  {
   "cell_type": "code",
   "execution_count": null,
   "metadata": {
    "pbl_cell_type": "hidden_checkcode",
    "step_id": 3624,
    "step_number": 1
   },
   "outputs": [
    {
     "data": {
      "text/plain": [
       "True"
      ]
     },
     "metadata": {},
     "output_type": "display_data"
    }
   ],
   "source": [
    "#checkcode\n",
    "ensure_vals(globals(), 'train', 'test', 'submission')\n",
    "@check_safety\n",
    "def check(\n",
    "          user_answer_train=train,\n",
    "          user_answer_test=test, \n",
    "          user_answer_submission=submission\n",
    "          ):\n",
    "    \n",
    "    c_point0 = hasattr(user_answer_train, 'tail')\n",
    "    c_point1 = hasattr(user_answer_test, 'tail')\n",
    "    c_point2 = hasattr(user_answer_submission, 'tail')\n",
    "\n",
    "    if c_point0 and c_point1 and c_point2 :\n",
    "        return True\n",
    "    else:\n",
    "        return False\n",
    "\n",
    "check()"
   ]
  },
  {
   "cell_type": "markdown",
   "metadata": {
    "id": "Uo0qmdjoof1Q",
    "pbl_cell_type": "markdown",
    "step_id": 3625,
    "step_number": 2
   },
   "source": [
    "# 2. 결측치를 0으로 채운 train_fill 데이터셋 생성하기\n",
    "[문제 2]  \n",
    "train 데이터셋에 있는 결측값을 0으로 채우고, 이를 train_fill 변수에 저장해 보세요.   \n",
    "아래 빈칸을 채워 주세요."
   ]
  },
  {
   "cell_type": "code",
   "execution_count": null,
   "metadata": {
    "colab": {
     "base_uri": "https://localhost:8080/",
     "height": 696
    },
    "executionInfo": {
     "elapsed": 6,
     "status": "ok",
     "timestamp": 1676528143784,
     "user": {
      "displayName": "송지은",
      "userId": "04554582486449103299"
     },
     "user_tz": -540
    },
    "id": "GPd8dVlFoely",
    "outputId": "893bd6fc-0e25-4962-ea7b-44ab96c33a75",
    "pbl_cell_type": "code",
    "step_id": 3625,
    "step_number": 2
   },
   "outputs": [
    {
     "data": {
      "text/html": [
       "\n",
       "  <div id=\"df-ac2bb09a-d3da-43a4-bded-be134c66a92b\">\n",
       "    <div class=\"colab-df-container\">\n",
       "      <div>\n",
       "<style scoped>\n",
       "    .dataframe tbody tr th:only-of-type {\n",
       "        vertical-align: middle;\n",
       "    }\n",
       "\n",
       "    .dataframe tbody tr th {\n",
       "        vertical-align: top;\n",
       "    }\n",
       "\n",
       "    .dataframe thead th {\n",
       "        text-align: right;\n",
       "    }\n",
       "</style>\n",
       "<table border=\"1\" class=\"dataframe\">\n",
       "  <thead>\n",
       "    <tr style=\"text-align: right;\">\n",
       "      <th></th>\n",
       "      <th>title</th>\n",
       "      <th>distributor</th>\n",
       "      <th>genre</th>\n",
       "      <th>release_time</th>\n",
       "      <th>time</th>\n",
       "      <th>screening_rat</th>\n",
       "      <th>director</th>\n",
       "      <th>dir_prev_bfnum</th>\n",
       "      <th>dir_prev_num</th>\n",
       "      <th>num_staff</th>\n",
       "      <th>num_actor</th>\n",
       "      <th>box_off_num</th>\n",
       "    </tr>\n",
       "  </thead>\n",
       "  <tbody>\n",
       "    <tr>\n",
       "      <th>1</th>\n",
       "      <td>내부자들</td>\n",
       "      <td>(주)쇼박스</td>\n",
       "      <td>느와르</td>\n",
       "      <td>2015-11-19</td>\n",
       "      <td>130</td>\n",
       "      <td>청소년 관람불가</td>\n",
       "      <td>우민호</td>\n",
       "      <td>1.161602e+06</td>\n",
       "      <td>2</td>\n",
       "      <td>387</td>\n",
       "      <td>3</td>\n",
       "      <td>7072501</td>\n",
       "    </tr>\n",
       "    <tr>\n",
       "      <th>2</th>\n",
       "      <td>은밀하게 위대하게</td>\n",
       "      <td>(주)쇼박스</td>\n",
       "      <td>액션</td>\n",
       "      <td>2013-06-05</td>\n",
       "      <td>123</td>\n",
       "      <td>15세 관람가</td>\n",
       "      <td>장철수</td>\n",
       "      <td>2.207752e+05</td>\n",
       "      <td>4</td>\n",
       "      <td>343</td>\n",
       "      <td>4</td>\n",
       "      <td>6959083</td>\n",
       "    </tr>\n",
       "    <tr>\n",
       "      <th>3</th>\n",
       "      <td>나는 공무원이다</td>\n",
       "      <td>(주)NEW</td>\n",
       "      <td>코미디</td>\n",
       "      <td>2012-07-12</td>\n",
       "      <td>101</td>\n",
       "      <td>전체 관람가</td>\n",
       "      <td>구자홍</td>\n",
       "      <td>2.389400e+04</td>\n",
       "      <td>2</td>\n",
       "      <td>20</td>\n",
       "      <td>6</td>\n",
       "      <td>217866</td>\n",
       "    </tr>\n",
       "    <tr>\n",
       "      <th>4</th>\n",
       "      <td>불량남녀</td>\n",
       "      <td>쇼박스(주)미디어플렉스</td>\n",
       "      <td>코미디</td>\n",
       "      <td>2010-11-04</td>\n",
       "      <td>108</td>\n",
       "      <td>15세 관람가</td>\n",
       "      <td>신근호</td>\n",
       "      <td>1.000000e+00</td>\n",
       "      <td>1</td>\n",
       "      <td>251</td>\n",
       "      <td>2</td>\n",
       "      <td>483387</td>\n",
       "    </tr>\n",
       "    <tr>\n",
       "      <th>5</th>\n",
       "      <td>강철대오 : 구국의 철가방</td>\n",
       "      <td>롯데엔터테인먼트</td>\n",
       "      <td>코미디</td>\n",
       "      <td>2012-10-25</td>\n",
       "      <td>113</td>\n",
       "      <td>15세 관람가</td>\n",
       "      <td>육상효</td>\n",
       "      <td>8.379690e+05</td>\n",
       "      <td>2</td>\n",
       "      <td>262</td>\n",
       "      <td>4</td>\n",
       "      <td>233211</td>\n",
       "    </tr>\n",
       "    <tr>\n",
       "      <th>...</th>\n",
       "      <td>...</td>\n",
       "      <td>...</td>\n",
       "      <td>...</td>\n",
       "      <td>...</td>\n",
       "      <td>...</td>\n",
       "      <td>...</td>\n",
       "      <td>...</td>\n",
       "      <td>...</td>\n",
       "      <td>...</td>\n",
       "      <td>...</td>\n",
       "      <td>...</td>\n",
       "      <td>...</td>\n",
       "    </tr>\n",
       "    <tr>\n",
       "      <th>587</th>\n",
       "      <td>서유기 리턴즈</td>\n",
       "      <td>(주) 영화사조제</td>\n",
       "      <td>SF</td>\n",
       "      <td>2011-02-17</td>\n",
       "      <td>79</td>\n",
       "      <td>전체 관람가</td>\n",
       "      <td>신재호</td>\n",
       "      <td>6.760200e+04</td>\n",
       "      <td>1</td>\n",
       "      <td>220</td>\n",
       "      <td>4</td>\n",
       "      <td>12696</td>\n",
       "    </tr>\n",
       "    <tr>\n",
       "      <th>588</th>\n",
       "      <td>하울링</td>\n",
       "      <td>CJ 엔터테인먼트</td>\n",
       "      <td>느와르</td>\n",
       "      <td>2012-02-16</td>\n",
       "      <td>114</td>\n",
       "      <td>15세 관람가</td>\n",
       "      <td>유하</td>\n",
       "      <td>2.061297e+06</td>\n",
       "      <td>3</td>\n",
       "      <td>288</td>\n",
       "      <td>2</td>\n",
       "      <td>1612554</td>\n",
       "    </tr>\n",
       "    <tr>\n",
       "      <th>592</th>\n",
       "      <td>차이나타운</td>\n",
       "      <td>CGV아트하우스</td>\n",
       "      <td>느와르</td>\n",
       "      <td>2015-04-29</td>\n",
       "      <td>110</td>\n",
       "      <td>청소년 관람불가</td>\n",
       "      <td>한준희</td>\n",
       "      <td>5.974970e+05</td>\n",
       "      <td>3</td>\n",
       "      <td>420</td>\n",
       "      <td>3</td>\n",
       "      <td>1472147</td>\n",
       "    </tr>\n",
       "    <tr>\n",
       "      <th>595</th>\n",
       "      <td>해무</td>\n",
       "      <td>(주)NEW</td>\n",
       "      <td>드라마</td>\n",
       "      <td>2014-08-13</td>\n",
       "      <td>111</td>\n",
       "      <td>청소년 관람불가</td>\n",
       "      <td>심성보</td>\n",
       "      <td>3.833000e+03</td>\n",
       "      <td>1</td>\n",
       "      <td>510</td>\n",
       "      <td>7</td>\n",
       "      <td>1475091</td>\n",
       "    </tr>\n",
       "    <tr>\n",
       "      <th>596</th>\n",
       "      <td>파파로티</td>\n",
       "      <td>(주)쇼박스</td>\n",
       "      <td>드라마</td>\n",
       "      <td>2013-03-14</td>\n",
       "      <td>127</td>\n",
       "      <td>15세 관람가</td>\n",
       "      <td>윤종찬</td>\n",
       "      <td>4.960610e+05</td>\n",
       "      <td>1</td>\n",
       "      <td>286</td>\n",
       "      <td>6</td>\n",
       "      <td>1716438</td>\n",
       "    </tr>\n",
       "  </tbody>\n",
       "</table>\n",
       "<p>270 rows × 12 columns</p>\n",
       "</div>\n",
       "      <button class=\"colab-df-convert\" onclick=\"convertToInteractive('df-ac2bb09a-d3da-43a4-bded-be134c66a92b')\"\n",
       "              title=\"Convert this dataframe to an interactive table.\"\n",
       "              style=\"display:none;\">\n",
       "        \n",
       "  <svg xmlns=\"http://www.w3.org/2000/svg\" height=\"24px\"viewBox=\"0 0 24 24\"\n",
       "       width=\"24px\">\n",
       "    <path d=\"M0 0h24v24H0V0z\" fill=\"none\"/>\n",
       "    <path d=\"M18.56 5.44l.94 2.06.94-2.06 2.06-.94-2.06-.94-.94-2.06-.94 2.06-2.06.94zm-11 1L8.5 8.5l.94-2.06 2.06-.94-2.06-.94L8.5 2.5l-.94 2.06-2.06.94zm10 10l.94 2.06.94-2.06 2.06-.94-2.06-.94-.94-2.06-.94 2.06-2.06.94z\"/><path d=\"M17.41 7.96l-1.37-1.37c-.4-.4-.92-.59-1.43-.59-.52 0-1.04.2-1.43.59L10.3 9.45l-7.72 7.72c-.78.78-.78 2.05 0 2.83L4 21.41c.39.39.9.59 1.41.59.51 0 1.02-.2 1.41-.59l7.78-7.78 2.81-2.81c.8-.78.8-2.07 0-2.86zM5.41 20L4 18.59l7.72-7.72 1.47 1.35L5.41 20z\"/>\n",
       "  </svg>\n",
       "      </button>\n",
       "      \n",
       "  <style>\n",
       "    .colab-df-container {\n",
       "      display:flex;\n",
       "      flex-wrap:wrap;\n",
       "      gap: 12px;\n",
       "    }\n",
       "\n",
       "    .colab-df-convert {\n",
       "      background-color: #E8F0FE;\n",
       "      border: none;\n",
       "      border-radius: 50%;\n",
       "      cursor: pointer;\n",
       "      display: none;\n",
       "      fill: #1967D2;\n",
       "      height: 32px;\n",
       "      padding: 0 0 0 0;\n",
       "      width: 32px;\n",
       "    }\n",
       "\n",
       "    .colab-df-convert:hover {\n",
       "      background-color: #E2EBFA;\n",
       "      box-shadow: 0px 1px 2px rgba(60, 64, 67, 0.3), 0px 1px 3px 1px rgba(60, 64, 67, 0.15);\n",
       "      fill: #174EA6;\n",
       "    }\n",
       "\n",
       "    [theme=dark] .colab-df-convert {\n",
       "      background-color: #3B4455;\n",
       "      fill: #D2E3FC;\n",
       "    }\n",
       "\n",
       "    [theme=dark] .colab-df-convert:hover {\n",
       "      background-color: #434B5C;\n",
       "      box-shadow: 0px 1px 3px 1px rgba(0, 0, 0, 0.15);\n",
       "      filter: drop-shadow(0px 1px 2px rgba(0, 0, 0, 0.3));\n",
       "      fill: #FFFFFF;\n",
       "    }\n",
       "  </style>\n",
       "\n",
       "      <script>\n",
       "        const buttonEl =\n",
       "          document.querySelector('#df-ac2bb09a-d3da-43a4-bded-be134c66a92b button.colab-df-convert');\n",
       "        buttonEl.style.display =\n",
       "          google.colab.kernel.accessAllowed ? 'block' : 'none';\n",
       "\n",
       "        async function convertToInteractive(key) {\n",
       "          const element = document.querySelector('#df-ac2bb09a-d3da-43a4-bded-be134c66a92b');\n",
       "          const dataTable =\n",
       "            await google.colab.kernel.invokeFunction('convertToInteractive',\n",
       "                                                     [key], {});\n",
       "          if (!dataTable) return;\n",
       "\n",
       "          const docLinkHtml = 'Like what you see? Visit the ' +\n",
       "            '<a target=\"_blank\" href=https://colab.research.google.com/notebooks/data_table.ipynb>data table notebook</a>'\n",
       "            + ' to learn more about interactive tables.';\n",
       "          element.innerHTML = '';\n",
       "          dataTable['output_type'] = 'display_data';\n",
       "          await google.colab.output.renderOutput(dataTable, element);\n",
       "          const docLink = document.createElement('div');\n",
       "          docLink.innerHTML = docLinkHtml;\n",
       "          element.appendChild(docLink);\n",
       "        }\n",
       "      </script>\n",
       "    </div>\n",
       "  </div>\n",
       "  "
      ],
      "text/plain": [
       "              title   distributor genre release_time  time screening_rat  \\\n",
       "1              내부자들        (주)쇼박스   느와르   2015-11-19   130      청소년 관람불가   \n",
       "2         은밀하게 위대하게        (주)쇼박스    액션   2013-06-05   123       15세 관람가   \n",
       "3          나는 공무원이다        (주)NEW   코미디   2012-07-12   101        전체 관람가   \n",
       "4              불량남녀  쇼박스(주)미디어플렉스   코미디   2010-11-04   108       15세 관람가   \n",
       "5    강철대오 : 구국의 철가방      롯데엔터테인먼트   코미디   2012-10-25   113       15세 관람가   \n",
       "..              ...           ...   ...          ...   ...           ...   \n",
       "587         서유기 리턴즈     (주) 영화사조제    SF   2011-02-17    79        전체 관람가   \n",
       "588             하울링     CJ 엔터테인먼트   느와르   2012-02-16   114       15세 관람가   \n",
       "592           차이나타운      CGV아트하우스   느와르   2015-04-29   110      청소년 관람불가   \n",
       "595              해무        (주)NEW   드라마   2014-08-13   111      청소년 관람불가   \n",
       "596            파파로티        (주)쇼박스   드라마   2013-03-14   127       15세 관람가   \n",
       "\n",
       "    director  dir_prev_bfnum  dir_prev_num  num_staff  num_actor  box_off_num  \n",
       "1        우민호    1.161602e+06             2        387          3      7072501  \n",
       "2        장철수    2.207752e+05             4        343          4      6959083  \n",
       "3        구자홍    2.389400e+04             2         20          6       217866  \n",
       "4        신근호    1.000000e+00             1        251          2       483387  \n",
       "5        육상효    8.379690e+05             2        262          4       233211  \n",
       "..       ...             ...           ...        ...        ...          ...  \n",
       "587      신재호    6.760200e+04             1        220          4        12696  \n",
       "588       유하    2.061297e+06             3        288          2      1612554  \n",
       "592      한준희    5.974970e+05             3        420          3      1472147  \n",
       "595      심성보    3.833000e+03             1        510          7      1475091  \n",
       "596      윤종찬    4.960610e+05             1        286          6      1716438  \n",
       "\n",
       "[270 rows x 12 columns]"
      ]
     },
     "execution_count": 25,
     "metadata": {},
     "output_type": "execute_result"
    }
   ],
   "source": [
    "train_fill = ___.___(___)  \n",
    "test_fill = test.fillna(0)\n",
    "train_fill"
   ]
  },
  {
   "cell_type": "code",
   "execution_count": null,
   "metadata": {
    "colab": {
     "base_uri": "https://localhost:8080/"
    },
    "executionInfo": {
     "elapsed": 6,
     "status": "ok",
     "timestamp": 1676528143785,
     "user": {
      "displayName": "송지은",
      "userId": "04554582486449103299"
     },
     "user_tz": -540
    },
    "id": "2T0vm1zvorsL",
    "outputId": "59e3d7a2-b55d-4e23-82eb-87b0c99536dc",
    "pbl_cell_type": "hidden_checkcode",
    "step_id": 3625,
    "step_number": 2
   },
   "outputs": [
    {
     "data": {
      "text/plain": [
       "True"
      ]
     },
     "execution_count": 26,
     "metadata": {},
     "output_type": "execute_result"
    }
   ],
   "source": [
    "#checkcode\n",
    "ensure_vals(globals(),'train_fill')\n",
    "@check_safety\n",
    "def check(user_answer=_):\n",
    "    c_point0 = _.shape == (600,12)\n",
    "    if c_point0:\n",
    "        return True\n",
    "    else:\n",
    "        return False\n",
    "check()"
   ]
  },
  {
   "cell_type": "markdown",
   "metadata": {
    "pbl_cell_type": "markdown",
    "step_id": 3626,
    "step_number": 3
   },
   "source": [
    "# 3. 회귀분석을 위한 표현식(Formula) 작성하기\n",
    "  \n",
    "모델링을 하기에 앞서, 종속변수와 독립변수를 설정하겠습니다."
   ]
  },
  {
   "cell_type": "code",
   "execution_count": null,
   "metadata": {
    "id": "vmRfgrz-qJac",
    "pbl_cell_type": "code",
    "step_id": 3626,
    "step_number": 3
   },
   "outputs": [],
   "source": [
    "formula = \"\"\"\n",
    "box_off_num ~ (time) + (dir_prev_bfnum) + (dir_prev_num) + (num_staff) + (num_actor)\n",
    "\"\"\""
   ]
  },
  {
   "cell_type": "markdown",
   "metadata": {
    "id": "m-cjrZXoOo1o",
    "pbl_cell_type": "markdown",
    "step_id": 3627,
    "step_number": 4
   },
   "source": [
    "# 4. 영화 관객 수 회귀분석 모델 정의 및 학습하기\n",
    "\n",
    "[문제 3]  \n",
    "statsmodels 라이브러리(Library)를 활용하여 회귀분석 모델을 생성하고 학습 해봅시다."
   ]
  },
  {
   "cell_type": "code",
   "execution_count": null,
   "metadata": {
    "id": "KksaeQXFOo1t",
    "pbl_cell_type": "code",
    "step_id": 3627,
    "step_number": 4
   },
   "outputs": [],
   "source": [
    "import statsmodels.api as sm\n",
    "\n",
    "model = sm.OLS.___(___, data = ___)\n",
    "model = model.___()\n",
    "model.summary()"
   ]
  },
  {
   "cell_type": "code",
   "execution_count": null,
   "metadata": {
    "colab": {
     "base_uri": "https://localhost:8080/"
    },
    "executionInfo": {
     "elapsed": 5,
     "status": "ok",
     "timestamp": 1676528217781,
     "user": {
      "displayName": "송지은",
      "userId": "04554582486449103299"
     },
     "user_tz": -540
    },
    "id": "54WeQsSFugAK",
    "outputId": "5e3b15c7-6d3f-4010-b3c7-346bc89a8cd2",
    "pbl_cell_type": "hidden_checkcode",
    "step_id": 3627,
    "step_number": 4
   },
   "outputs": [
    {
     "data": {
      "text/plain": [
       "True"
      ]
     },
     "execution_count": 46,
     "metadata": {},
     "output_type": "execute_result"
    }
   ],
   "source": [
    "#checkcode\n",
    "ensure_vals(globals(),'model')\n",
    "@check_safety\n",
    "def check(user_answer=model):\n",
    "    if (str(type(user_answer)) == \"<class 'statsmodels.regression.linear_model.RegressionResultsWrapper'>\"):\n",
    "        return True\n",
    "    else:\n",
    "        return False\n",
    "check()"
   ]
  },
  {
   "cell_type": "markdown",
   "metadata": {
    "id": "e_LEttlkQ3P-",
    "pbl_cell_type": "markdown",
    "step_id": 3628,
    "step_number": 5
   },
   "source": [
    "# 5. 영화 관객 수 모델 예측 결과 확인하기\n",
    "\n",
    "[문제 4]  \n",
    "학습된 회귀분석 모델을 사용하여 test 데이터셋에 대한 예측값을 생성해 보세요.   \n",
    "아래 빈칸을 채워 주세요."
   ]
  },
  {
   "cell_type": "code",
   "execution_count": null,
   "metadata": {
    "id": "7JBNN8YAQ3QI",
    "pbl_cell_type": "code",
    "step_id": 3628,
    "step_number": 5
   },
   "outputs": [],
   "source": [
    "predict = model.___(___)\n",
    "predict.head()"
   ]
  },
  {
   "cell_type": "code",
   "execution_count": null,
   "metadata": {
    "colab": {
     "base_uri": "https://localhost:8080/"
    },
    "executionInfo": {
     "elapsed": 5,
     "status": "ok",
     "timestamp": 1676528217783,
     "user": {
      "displayName": "송지은",
      "userId": "04554582486449103299"
     },
     "user_tz": -540
    },
    "id": "yf2jdV_MQ3QJ",
    "outputId": "f7ab144b-0ead-4d29-e181-636610ec1419",
    "pbl_cell_type": "hidden_checkcode",
    "step_id": 3628,
    "step_number": 5
   },
   "outputs": [
    {
     "data": {
      "text/plain": [
       "True"
      ]
     },
     "execution_count": 48,
     "metadata": {},
     "output_type": "execute_result"
    }
   ],
   "source": [
    "#checkcode\n",
    "ensure_vals(globals(),'predict','test_fill')\n",
    "@check_safety\n",
    "def check(user_predict=predict, user_test_fill=test_fill):\n",
    "    if len(predict) == len(test_fill):\n",
    "        return True\n",
    "    else:\n",
    "        return False\n",
    "check()"
   ]
  },
  {
   "cell_type": "markdown",
   "metadata": {
    "id": "VH_m4JuvRHUW",
    "pbl_cell_type": "markdown",
    "step_id": 3629,
    "step_number": 6
   },
   "source": [
    "# 6. 예측된 영화 관객 수를 submission 파일에 추가하기\n",
    "\n",
    "[문제 5]  \n",
    "예측된 영화 관객 수를 submission 데이터프레임(DataFrame)의 box_off_num 열(column)에 저장해 보세요.  \n",
    "아래 빈칸을 채워 주세요."
   ]
  },
  {
   "cell_type": "code",
   "execution_count": null,
   "metadata": {
    "colab": {
     "base_uri": "https://localhost:8080/",
     "height": 206
    },
    "executionInfo": {
     "elapsed": 489,
     "status": "ok",
     "timestamp": 1676528218268,
     "user": {
      "displayName": "송지은",
      "userId": "04554582486449103299"
     },
     "user_tz": -540
    },
    "id": "xbNAZRdSRHUX",
    "outputId": "aa65133a-6e4b-4baa-e78d-f6dbd54a1128",
    "pbl_cell_type": "code",
    "step_id": 3629,
    "step_number": 6
   },
   "outputs": [
    {
     "data": {
      "text/html": [
       "\n",
       "  <div id=\"df-6dfde8dc-a227-493c-9755-45108ceb86cb\">\n",
       "    <div class=\"colab-df-container\">\n",
       "      <div>\n",
       "<style scoped>\n",
       "    .dataframe tbody tr th:only-of-type {\n",
       "        vertical-align: middle;\n",
       "    }\n",
       "\n",
       "    .dataframe tbody tr th {\n",
       "        vertical-align: top;\n",
       "    }\n",
       "\n",
       "    .dataframe thead th {\n",
       "        text-align: right;\n",
       "    }\n",
       "</style>\n",
       "<table border=\"1\" class=\"dataframe\">\n",
       "  <thead>\n",
       "    <tr style=\"text-align: right;\">\n",
       "      <th></th>\n",
       "      <th>title</th>\n",
       "      <th>box_off_num</th>\n",
       "    </tr>\n",
       "  </thead>\n",
       "  <tbody>\n",
       "    <tr>\n",
       "      <th>0</th>\n",
       "      <td>용서는 없다</td>\n",
       "      <td>1.852245e+06</td>\n",
       "    </tr>\n",
       "    <tr>\n",
       "      <th>1</th>\n",
       "      <td>아빠가 여자를 좋아해</td>\n",
       "      <td>1.432174e+06</td>\n",
       "    </tr>\n",
       "    <tr>\n",
       "      <th>2</th>\n",
       "      <td>하모니</td>\n",
       "      <td>2.838555e+06</td>\n",
       "    </tr>\n",
       "    <tr>\n",
       "      <th>3</th>\n",
       "      <td>의형제</td>\n",
       "      <td>1.864857e+06</td>\n",
       "    </tr>\n",
       "    <tr>\n",
       "      <th>4</th>\n",
       "      <td>평행 이론</td>\n",
       "      <td>1.369221e+06</td>\n",
       "    </tr>\n",
       "  </tbody>\n",
       "</table>\n",
       "</div>\n",
       "      <button class=\"colab-df-convert\" onclick=\"convertToInteractive('df-6dfde8dc-a227-493c-9755-45108ceb86cb')\"\n",
       "              title=\"Convert this dataframe to an interactive table.\"\n",
       "              style=\"display:none;\">\n",
       "        \n",
       "  <svg xmlns=\"http://www.w3.org/2000/svg\" height=\"24px\"viewBox=\"0 0 24 24\"\n",
       "       width=\"24px\">\n",
       "    <path d=\"M0 0h24v24H0V0z\" fill=\"none\"/>\n",
       "    <path d=\"M18.56 5.44l.94 2.06.94-2.06 2.06-.94-2.06-.94-.94-2.06-.94 2.06-2.06.94zm-11 1L8.5 8.5l.94-2.06 2.06-.94-2.06-.94L8.5 2.5l-.94 2.06-2.06.94zm10 10l.94 2.06.94-2.06 2.06-.94-2.06-.94-.94-2.06-.94 2.06-2.06.94z\"/><path d=\"M17.41 7.96l-1.37-1.37c-.4-.4-.92-.59-1.43-.59-.52 0-1.04.2-1.43.59L10.3 9.45l-7.72 7.72c-.78.78-.78 2.05 0 2.83L4 21.41c.39.39.9.59 1.41.59.51 0 1.02-.2 1.41-.59l7.78-7.78 2.81-2.81c.8-.78.8-2.07 0-2.86zM5.41 20L4 18.59l7.72-7.72 1.47 1.35L5.41 20z\"/>\n",
       "  </svg>\n",
       "      </button>\n",
       "      \n",
       "  <style>\n",
       "    .colab-df-container {\n",
       "      display:flex;\n",
       "      flex-wrap:wrap;\n",
       "      gap: 12px;\n",
       "    }\n",
       "\n",
       "    .colab-df-convert {\n",
       "      background-color: #E8F0FE;\n",
       "      border: none;\n",
       "      border-radius: 50%;\n",
       "      cursor: pointer;\n",
       "      display: none;\n",
       "      fill: #1967D2;\n",
       "      height: 32px;\n",
       "      padding: 0 0 0 0;\n",
       "      width: 32px;\n",
       "    }\n",
       "\n",
       "    .colab-df-convert:hover {\n",
       "      background-color: #E2EBFA;\n",
       "      box-shadow: 0px 1px 2px rgba(60, 64, 67, 0.3), 0px 1px 3px 1px rgba(60, 64, 67, 0.15);\n",
       "      fill: #174EA6;\n",
       "    }\n",
       "\n",
       "    [theme=dark] .colab-df-convert {\n",
       "      background-color: #3B4455;\n",
       "      fill: #D2E3FC;\n",
       "    }\n",
       "\n",
       "    [theme=dark] .colab-df-convert:hover {\n",
       "      background-color: #434B5C;\n",
       "      box-shadow: 0px 1px 3px 1px rgba(0, 0, 0, 0.15);\n",
       "      filter: drop-shadow(0px 1px 2px rgba(0, 0, 0, 0.3));\n",
       "      fill: #FFFFFF;\n",
       "    }\n",
       "  </style>\n",
       "\n",
       "      <script>\n",
       "        const buttonEl =\n",
       "          document.querySelector('#df-6dfde8dc-a227-493c-9755-45108ceb86cb button.colab-df-convert');\n",
       "        buttonEl.style.display =\n",
       "          google.colab.kernel.accessAllowed ? 'block' : 'none';\n",
       "\n",
       "        async function convertToInteractive(key) {\n",
       "          const element = document.querySelector('#df-6dfde8dc-a227-493c-9755-45108ceb86cb');\n",
       "          const dataTable =\n",
       "            await google.colab.kernel.invokeFunction('convertToInteractive',\n",
       "                                                     [key], {});\n",
       "          if (!dataTable) return;\n",
       "\n",
       "          const docLinkHtml = 'Like what you see? Visit the ' +\n",
       "            '<a target=\"_blank\" href=https://colab.research.google.com/notebooks/data_table.ipynb>data table notebook</a>'\n",
       "            + ' to learn more about interactive tables.';\n",
       "          element.innerHTML = '';\n",
       "          dataTable['output_type'] = 'display_data';\n",
       "          await google.colab.output.renderOutput(dataTable, element);\n",
       "          const docLink = document.createElement('div');\n",
       "          docLink.innerHTML = docLinkHtml;\n",
       "          element.appendChild(docLink);\n",
       "        }\n",
       "      </script>\n",
       "    </div>\n",
       "  </div>\n",
       "  "
      ],
      "text/plain": [
       "         title   box_off_num\n",
       "0       용서는 없다  1.852245e+06\n",
       "1  아빠가 여자를 좋아해  1.432174e+06\n",
       "2          하모니  2.838555e+06\n",
       "3          의형제  1.864857e+06\n",
       "4        평행 이론  1.369221e+06"
      ]
     },
     "execution_count": 49,
     "metadata": {},
     "output_type": "execute_result"
    }
   ],
   "source": [
    "submission['___'] = ___\n",
    "submission.head()"
   ]
  },
  {
   "cell_type": "code",
   "execution_count": null,
   "metadata": {
    "colab": {
     "base_uri": "https://localhost:8080/"
    },
    "executionInfo": {
     "elapsed": 5,
     "status": "ok",
     "timestamp": 1676528218268,
     "user": {
      "displayName": "송지은",
      "userId": "04554582486449103299"
     },
     "user_tz": -540
    },
    "id": "4ltWTB1iRHUX",
    "outputId": "6d67afb2-c0c1-4837-f9c3-5ef998d4522d",
    "pbl_cell_type": "hidden_checkcode",
    "step_id": 3629,
    "step_number": 6
   },
   "outputs": [
    {
     "data": {
      "text/plain": [
       "True"
      ]
     },
     "execution_count": 50,
     "metadata": {},
     "output_type": "execute_result"
    }
   ],
   "source": [
    "#checkcode\n",
    "ensure_vals(globals(),'submission')\n",
    "@check_safety\n",
    "def check(\n",
    "    user_answer=_,\n",
    "    number= (5,2)\n",
    "    ):\n",
    "    \n",
    "    c_point0 = user_answer.shape ==number\n",
    "    if c_point0:\n",
    "        return True\n",
    "    else:\n",
    "        return False\n",
    "check()"
   ]
  },
  {
   "cell_type": "markdown",
   "metadata": {
    "id": "yfmgVRSfAxVn",
    "pbl_cell_type": "markdown",
    "step_id": 3630,
    "step_number": 7
   },
   "source": [
    "# 7. 데이터프레임(DataFrame)을 CSV 파일로 저장하기\n",
    "[문제 6]  \n",
    "파일을 제출하기 위해서는 저장을 해야 합니다.  \n",
    "submission 데이터프레임을 `submission.csv`라는 파일로 저장해 보세요.    \n",
    "아래 빈칸을 채워주세요."
   ]
  },
  {
   "cell_type": "code",
   "execution_count": null,
   "metadata": {
    "id": "XjwW4WhkAxVo",
    "pbl_cell_type": "submission_code",
    "pbl_submission_filename": "submission.csv",
    "step_id": 3630,
    "step_number": 7
   },
   "outputs": [],
   "source": [
    "# 매개변수는 수정하지 말아주세요.\n",
    "submission.___('submission.csv', index=False, quoting=2, encoding=\"utf-8-sig\", na_rep=0, float_format='%.6f')"
   ]
  },
  {
   "cell_type": "code",
   "execution_count": null,
   "metadata": {
    "colab": {
     "base_uri": "https://localhost:8080/"
    },
    "executionInfo": {
     "elapsed": 4,
     "status": "ok",
     "timestamp": 1676528218269,
     "user": {
      "displayName": "송지은",
      "userId": "04554582486449103299"
     },
     "user_tz": -540
    },
    "id": "YC-TRC-LAxVo",
    "outputId": "6b91fc6d-1bf8-4e15-f418-01747eec316b",
    "pbl_cell_type": "hidden_checkcode",
    "step_id": 3630,
    "step_number": 7
   },
   "outputs": [
    {
     "data": {
      "text/plain": [
       "True"
      ]
     },
     "execution_count": 52,
     "metadata": {},
     "output_type": "execute_result"
    }
   ],
   "source": [
    "#checkcode\n",
    "ensure_vals(globals(),'submission','test')\n",
    "@check_safety\n",
    "def check():\n",
    "    check_submission = pd.read_csv('submission.csv')\n",
    "    \n",
    "    if len(check_submission) == len(test):\n",
    "        return True\n",
    "    else:\n",
    "        return False\n",
    "check()"
   ]
  }
 ],
 "metadata": {
  "kernelspec": {
   "display_name": "Python 3 (ipykernel)",
   "language": "python",
   "name": "python3"
  },
  "language_info": {
   "codemirror_mode": {
    "name": "ipython",
    "version": 3
   },
   "file_extension": ".py",
   "mimetype": "text/x-python",
   "name": "python",
   "nbconvert_exporter": "python",
   "pygments_lexer": "ipython3",
   "version": "3.11.9"
  }
 },
 "nbformat": 4,
 "nbformat_minor": 4
}
