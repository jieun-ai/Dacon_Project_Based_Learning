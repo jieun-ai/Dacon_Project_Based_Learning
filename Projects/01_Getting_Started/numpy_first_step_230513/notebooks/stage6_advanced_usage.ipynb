{
 "cells": [
  {
   "cell_type": "code",
   "execution_count": 2,
   "metadata": {
    "deletable": false,
    "executionInfo": {
     "elapsed": 979,
     "status": "ok",
     "timestamp": 1677733142349,
     "user": {
      "displayName": "송지은",
      "userId": "04554582486449103299"
     },
     "user_tz": -540
    },
    "id": "DnAKFGYX3U_B",
    "pbl_cell_type": "hidden_setup_code",
    "step_id": 3878,
    "step_number": 0
   },
   "outputs": [],
   "source": [
    "#hiddencell\n",
    "from pbl_tools import *"
   ]
  },
  {
   "cell_type": "markdown",
   "metadata": {
    "deletable": false,
    "id": "bzW0Akb73bT6",
    "pbl_cell_type": "markdown",
    "step_id": 3878,
    "step_number": 0
   },
   "source": [
    "# 스테이지 6"
   ]
  },
  {
   "cell_type": "markdown",
   "metadata": {
    "id": "TkFrDVbc3iiC",
    "pbl_cell_type": "markdown",
    "step_id": 3879,
    "step_number": 1
   },
   "source": [
    "# 1.NumPy 라이브러리(Library) 불러오기\n",
    "[문제 1]    \n",
    "numpy 라이브러리를 불러오기 위해서 아래 빈칸을 채워 주세요.    \n",
    "numpy는 자주 사용하는 라이브러리이므로 축약어인 np로 불러와 주세요. "
   ]
  },
  {
   "cell_type": "code",
   "execution_count": 3,
   "metadata": {
    "executionInfo": {
     "elapsed": 3,
     "status": "ok",
     "timestamp": 1677733143453,
     "user": {
      "displayName": "송지은",
      "userId": "04554582486449103299"
     },
     "user_tz": -540
    },
    "id": "dIftesDU3WPo",
    "pbl_cell_type": "code",
    "step_id": 3879,
    "step_number": 1
   },
   "outputs": [],
   "source": []
  },
  {
   "cell_type": "code",
   "execution_count": 4,
   "metadata": {
    "colab": {
     "base_uri": "https://localhost:8080/"
    },
    "executionInfo": {
     "elapsed": 3,
     "status": "ok",
     "timestamp": 1677733144096,
     "user": {
      "displayName": "송지은",
      "userId": "04554582486449103299"
     },
     "user_tz": -540
    },
    "id": "xRLb7DlX3kw5",
    "outputId": "aa529fc9-55fd-4e10-ea2c-1f2f803e42a8",
    "pbl_cell_type": "hidden_checkcode",
    "step_id": 3879,
    "step_number": 1
   },
   "outputs": [
    {
     "data": {
      "text/plain": [
       "True"
      ]
     },
     "execution_count": 4,
     "metadata": {},
     "output_type": "execute_result"
    }
   ],
   "source": [
    "#checkcode\n",
    "ensure_vals(globals(), 'np')\n",
    "@check_safety\n",
    "def check(user_answer_pandas=np):\n",
    "    if hasattr(user_answer_pandas, 'array'):\n",
    "        return True\n",
    "    else:\n",
    "        return False\n",
    "check()"
   ]
  },
  {
   "cell_type": "markdown",
   "metadata": {
    "id": "Fe-oARTS3mGM",
    "pbl_cell_type": "markdown",
    "step_id": 3880,
    "step_number": 2
   },
   "source": [
    "# 2.누적 합(cumsum) 구하기"
   ]
  },
  {
   "cell_type": "code",
   "execution_count": 5,
   "metadata": {
    "colab": {
     "base_uri": "https://localhost:8080/"
    },
    "executionInfo": {
     "elapsed": 3,
     "status": "ok",
     "timestamp": 1677733607891,
     "user": {
      "displayName": "송지은",
      "userId": "04554582486449103299"
     },
     "user_tz": -540
    },
    "id": "hTC6hfKzc0pO",
    "outputId": "15805e47-19d6-4d4a-9be7-f5e9468fbc48",
    "pbl_cell_type": "code",
    "step_id": 3880,
    "step_number": 2
   },
   "outputs": [
    {
     "data": {
      "text/plain": [
       "array([ 5, 15, 30, 50])"
      ]
     },
     "execution_count": 5,
     "metadata": {},
     "output_type": "execute_result"
    }
   ],
   "source": [
    "two_dimension = np.array([[5,10],\n",
    "                          [15,20]])\n",
    "\n",
    "np.cumsum(two_dimension)"
   ]
  },
  {
   "cell_type": "markdown",
   "metadata": {
    "pbl_cell_type": "markdown",
    "step_id": 3881,
    "step_number": 3
   },
   "source": [
    "# 3.NumPy 배열의 축(axis)을 기준으로 누적 합(cumsum) 구하기"
   ]
  },
  {
   "cell_type": "code",
   "execution_count": 13,
   "metadata": {
    "colab": {
     "base_uri": "https://localhost:8080/"
    },
    "executionInfo": {
     "elapsed": 3,
     "status": "ok",
     "timestamp": 1677733644930,
     "user": {
      "displayName": "송지은",
      "userId": "04554582486449103299"
     },
     "user_tz": -540
    },
    "id": "1aQqaqR7tqdp",
    "outputId": "718d169b-e29c-48a8-c08e-b0fa016ea58f",
    "pbl_cell_type": "code",
    "step_id": 3881,
    "step_number": 3
   },
   "outputs": [
    {
     "data": {
      "text/plain": [
       "array([[ 5, 15],\n",
       "       [15, 35]])"
      ]
     },
     "execution_count": 13,
     "metadata": {},
     "output_type": "execute_result"
    }
   ],
   "source": [
    "two_dimension = np.array([[5,10],\n",
    "                          [15,20]])\n",
    "\n",
    "np.cumsum(two_dimension, axis = 1)"
   ]
  },
  {
   "cell_type": "markdown",
   "metadata": {
    "id": "ZKyM7cBruSTt",
    "pbl_cell_type": "markdown",
    "step_id": 3882,
    "step_number": 4
   },
   "source": [
    "# 4.NumPy 배열의 축(axis)을 기준으로 누적 합(cumsum) 구하기 실습\n",
    "[문제 2]  \n",
    "two_dimension 배열에서 수직 방향으로 누적 합을 계산해 보세요."
   ]
  },
  {
   "cell_type": "code",
   "execution_count": 10,
   "metadata": {
    "colab": {
     "base_uri": "https://localhost:8080/"
    },
    "executionInfo": {
     "elapsed": 6,
     "status": "ok",
     "timestamp": 1677733768632,
     "user": {
      "displayName": "송지은",
      "userId": "04554582486449103299"
     },
     "user_tz": -540
    },
    "id": "TieVqtb9uSCN",
    "outputId": "938512c4-ae90-40fc-e443-7b8a237dd8f4",
    "pbl_cell_type": "code",
    "step_id": 3882,
    "step_number": 4
   },
   "outputs": [
    {
     "data": {
      "text/plain": [
       "array([[ 5, 10],\n",
       "       [20, 30]])"
      ]
     },
     "execution_count": 10,
     "metadata": {},
     "output_type": "execute_result"
    }
   ],
   "source": [
    "two_dimension = np.array([[5,10],\n",
    "                          [15,20]])\n",
    "\n",
    "np.___(___, axis = ___)"
   ]
  },
  {
   "cell_type": "code",
   "execution_count": 11,
   "metadata": {
    "pbl_cell_type": "hidden_checkcode",
    "step_id": 3882,
    "step_number": 4
   },
   "outputs": [
    {
     "data": {
      "text/plain": [
       "True"
      ]
     },
     "execution_count": 11,
     "metadata": {},
     "output_type": "execute_result"
    }
   ],
   "source": [
    "#checkcode\n",
    "ensure_vals(globals(),'two_dimension')\n",
    "@check_safety\n",
    "def check(user_answer=_):\n",
    "    check1 = (user_answer == np.cumsum(two_dimension, axis = 0)).all()\n",
    "    if check1:\n",
    "        return True\n",
    "    else:\n",
    "        return False\n",
    "check()"
   ]
  },
  {
   "cell_type": "markdown",
   "metadata": {
    "pbl_cell_type": "markdown",
    "step_id": 3883,
    "step_number": 5
   },
   "source": [
    "# 5.e의 지수함수(exp) 적용"
   ]
  },
  {
   "cell_type": "code",
   "execution_count": 16,
   "metadata": {
    "colab": {
     "base_uri": "https://localhost:8080/"
    },
    "executionInfo": {
     "elapsed": 4,
     "status": "ok",
     "timestamp": 1677733909518,
     "user": {
      "displayName": "송지은",
      "userId": "04554582486449103299"
     },
     "user_tz": -540
    },
    "id": "xmgy3Ic2u5Vo",
    "outputId": "57b73028-8ec8-4280-da83-f6cfb506bf4a",
    "pbl_cell_type": "code",
    "step_id": 3883,
    "step_number": 5
   },
   "outputs": [
    {
     "data": {
      "text/plain": [
       "7.38905609893065"
      ]
     },
     "execution_count": 16,
     "metadata": {},
     "output_type": "execute_result"
    }
   ],
   "source": [
    "np.exp(2)"
   ]
  },
  {
   "cell_type": "markdown",
   "metadata": {
    "id": "4aoprgqevoRS",
    "pbl_cell_type": "markdown",
    "step_id": 3884,
    "step_number": 6
   },
   "source": [
    "# 6.e의 지수함수(exp) 적용 실습\n",
    "[문제 3]   \n",
    "[1,2,3,4] 리스트 배열에 대해 각 요소에 대한 지수 값을 계산해보세요.  \n",
    "아래 빈칸을 채워보세요."
   ]
  },
  {
   "cell_type": "code",
   "execution_count": 16,
   "metadata": {
    "colab": {
     "base_uri": "https://localhost:8080/"
    },
    "executionInfo": {
     "elapsed": 3,
     "status": "ok",
     "timestamp": 1677734120164,
     "user": {
      "displayName": "송지은",
      "userId": "04554582486449103299"
     },
     "user_tz": -540
    },
    "id": "9L815nvLu7ey",
    "outputId": "e1ded883-9550-430f-ec8b-f7044118f27d",
    "pbl_cell_type": "code",
    "step_id": 3884,
    "step_number": 6
   },
   "outputs": [
    {
     "data": {
      "text/plain": [
       "array([ 2.71828183,  7.3890561 , 20.08553692, 54.59815003])"
      ]
     },
     "execution_count": 16,
     "metadata": {},
     "output_type": "execute_result"
    }
   ],
   "source": [
    "np.___(___)   "
   ]
  },
  {
   "cell_type": "code",
   "execution_count": 17,
   "metadata": {
    "pbl_cell_type": "hidden_checkcode",
    "step_id": 3884,
    "step_number": 6
   },
   "outputs": [
    {
     "data": {
      "text/plain": [
       "True"
      ]
     },
     "execution_count": 17,
     "metadata": {},
     "output_type": "execute_result"
    }
   ],
   "source": [
    "#checkcode\n",
    "ensure_vals(globals())\n",
    "@check_safety\n",
    "def check(user_answer=_):\n",
    "    check1 = (user_answer == np.exp([1,2,3,4])).all()\n",
    "    if check1:\n",
    "        return True\n",
    "    else:\n",
    "        return False\n",
    "check()"
   ]
  },
  {
   "cell_type": "markdown",
   "metadata": {
    "id": "rEC3AQvlvwWV",
    "pbl_cell_type": "markdown",
    "step_id": 3885,
    "step_number": 7
   },
   "source": [
    "# 7.NumPy 배열의 제곱근(sqrt) 계산하기"
   ]
  },
  {
   "cell_type": "code",
   "execution_count": 18,
   "metadata": {
    "colab": {
     "base_uri": "https://localhost:8080/"
    },
    "executionInfo": {
     "elapsed": 2,
     "status": "ok",
     "timestamp": 1677734252019,
     "user": {
      "displayName": "송지은",
      "userId": "04554582486449103299"
     },
     "user_tz": -540
    },
    "id": "lN32CJk5wART",
    "outputId": "32153d19-40f2-4d80-ac45-bad36990e5cb",
    "pbl_cell_type": "code",
    "step_id": 3885,
    "step_number": 7
   },
   "outputs": [
    {
     "data": {
      "text/plain": [
       "2.0"
      ]
     },
     "execution_count": 18,
     "metadata": {},
     "output_type": "execute_result"
    }
   ],
   "source": [
    "np.sqrt(4)"
   ]
  },
  {
   "cell_type": "markdown",
   "metadata": {
    "id": "VlN20NKEwXJZ",
    "pbl_cell_type": "markdown",
    "step_id": 3886,
    "step_number": 8
   },
   "source": [
    "# 8.NumPy 배열의 제곱근(sqrt) 계산하기 실습\n",
    "\n",
    "[문제 4]  \n",
    "4,9,16을 리스트 형태로 삽입하여 제곱근을 출력해보세요."
   ]
  },
  {
   "cell_type": "code",
   "execution_count": 19,
   "metadata": {
    "colab": {
     "base_uri": "https://localhost:8080/"
    },
    "executionInfo": {
     "elapsed": 453,
     "status": "ok",
     "timestamp": 1677734274029,
     "user": {
      "displayName": "송지은",
      "userId": "04554582486449103299"
     },
     "user_tz": -540
    },
    "id": "6qjlGA8-wQZ8",
    "outputId": "875fb99e-7f66-4bab-c73b-ed66c58d7aad",
    "pbl_cell_type": "code",
    "step_id": 3886,
    "step_number": 8
   },
   "outputs": [
    {
     "data": {
      "text/plain": [
       "array([2., 3., 4.])"
      ]
     },
     "execution_count": 19,
     "metadata": {},
     "output_type": "execute_result"
    }
   ],
   "source": [
    "np.___(___)"
   ]
  },
  {
   "cell_type": "code",
   "execution_count": 20,
   "metadata": {
    "pbl_cell_type": "hidden_checkcode",
    "step_id": 3886,
    "step_number": 8
   },
   "outputs": [
    {
     "data": {
      "text/plain": [
       "True"
      ]
     },
     "execution_count": 20,
     "metadata": {},
     "output_type": "execute_result"
    }
   ],
   "source": [
    "#checkcode\n",
    "ensure_vals(globals())\n",
    "@check_safety\n",
    "def check(user_answer=_):\n",
    "    check1 = (user_answer == np.sqrt([4,9,16])).all()\n",
    "    if check1:\n",
    "        return True\n",
    "    else:\n",
    "        return False\n",
    "check()"
   ]
  }
 ],
 "metadata": {
  "kernelspec": {
   "display_name": "Python 3 (ipykernel)",
   "language": "python",
   "name": "python3"
  },
  "language_info": {
   "codemirror_mode": {
    "name": "ipython",
    "version": 3
   },
   "file_extension": ".py",
   "mimetype": "text/x-python",
   "name": "python",
   "nbconvert_exporter": "python",
   "pygments_lexer": "ipython3",
   "version": "3.11.8"
  }
 },
 "nbformat": 4,
 "nbformat_minor": 4
}
