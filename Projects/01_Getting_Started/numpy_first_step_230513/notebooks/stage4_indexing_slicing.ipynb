{
 "cells": [
  {
   "cell_type": "code",
   "execution_count": 1,
   "metadata": {
    "deletable": false,
    "executionInfo": {
     "elapsed": 527,
     "status": "ok",
     "timestamp": 1677735001132,
     "user": {
      "displayName": "송지은",
      "userId": "04554582486449103299"
     },
     "user_tz": -540
    },
    "id": "DnAKFGYX3U_B",
    "pbl_cell_type": "hidden_setup_code",
    "step_id": 3856,
    "step_number": 0
   },
   "outputs": [],
   "source": [
    "#hiddencell\n",
    "from pbl_tools import *"
   ]
  },
  {
   "cell_type": "markdown",
   "metadata": {
    "deletable": false,
    "id": "bzW0Akb73bT6",
    "pbl_cell_type": "markdown",
    "step_id": 3856,
    "step_number": 0
   },
   "source": [
    "# 스테이지 4"
   ]
  },
  {
   "cell_type": "markdown",
   "metadata": {
    "id": "TkFrDVbc3iiC",
    "pbl_cell_type": "markdown",
    "step_id": 3857,
    "step_number": 1
   },
   "source": [
    "# 1.NumPy 라이브러리(Library) 불러오기\n",
    "[문제 1]    \n",
    "numpy 라이브러리를 불러오기 위해서 아래 빈칸을 채워 주세요.    \n",
    "numpy는 자주 사용하는 라이브러리이므로 축약어인 np로 불러와 주세요. "
   ]
  },
  {
   "cell_type": "code",
   "execution_count": 2,
   "metadata": {
    "executionInfo": {
     "elapsed": 4,
     "status": "ok",
     "timestamp": 1677735001132,
     "user": {
      "displayName": "송지은",
      "userId": "04554582486449103299"
     },
     "user_tz": -540
    },
    "id": "dIftesDU3WPo",
    "pbl_cell_type": "code",
    "step_id": 3857,
    "step_number": 1
   },
   "outputs": [],
   "source": [
    "___ numpy ___ np"
   ]
  },
  {
   "cell_type": "code",
   "execution_count": 3,
   "metadata": {
    "colab": {
     "base_uri": "https://localhost:8080/"
    },
    "executionInfo": {
     "elapsed": 5,
     "status": "ok",
     "timestamp": 1677735001133,
     "user": {
      "displayName": "송지은",
      "userId": "04554582486449103299"
     },
     "user_tz": -540
    },
    "id": "xRLb7DlX3kw5",
    "outputId": "21957a7a-abdc-4f21-c466-df4d140555bc",
    "pbl_cell_type": "hidden_checkcode",
    "step_id": 3857,
    "step_number": 1
   },
   "outputs": [
    {
     "data": {
      "text/plain": [
       "True"
      ]
     },
     "execution_count": 3,
     "metadata": {},
     "output_type": "execute_result"
    }
   ],
   "source": [
    "#checkcode\n",
    "ensure_vals(globals(), 'np')\n",
    "@check_safety\n",
    "def check(user_answer_pandas=np):\n",
    "    if hasattr(user_answer_pandas, 'array'):\n",
    "        return True\n",
    "    else:\n",
    "        return False\n",
    "check()"
   ]
  },
  {
   "cell_type": "markdown",
   "metadata": {
    "id": "Fe-oARTS3mGM",
    "pbl_cell_type": "markdown",
    "step_id": 3858,
    "step_number": 2
   },
   "source": [
    "# 2.1차원 배열(array) 생성하기"
   ]
  },
  {
   "cell_type": "code",
   "execution_count": 4,
   "metadata": {
    "id": "hTC6hfKzc0pO",
    "pbl_cell_type": "code",
    "step_id": 3858,
    "step_number": 2
   },
   "outputs": [],
   "source": [
    "jump_num = np.array([1,2,3,4])\n",
    "same_num = np.array([2,2,2,2])"
   ]
  },
  {
   "cell_type": "markdown",
   "metadata": {
    "id": "iAPEO8HYp73U",
    "pbl_cell_type": "markdown",
    "step_id": 3859,
    "step_number": 3
   },
   "source": [
    "# 3.NumPy 배열(array)간 덧셈(+) 연산하기\n",
    "\n",
    "[문제 2]  \n",
    "두 변수 `jump_num`과 `same_num`의 값을 더하는 과정입니다. 주어진 코드를 완성하여 두 변수의 합을 계산하세요.\n",
    "\n",
    "1. 두 변수 `jump_num`과 `same_num`이 각각 정의되어 있다고 가정합니다.\n",
    "2. 두 변수를 더하는 연산을 수행합니다. "
   ]
  },
  {
   "cell_type": "code",
   "execution_count": 6,
   "metadata": {
    "colab": {
     "base_uri": "https://localhost:8080/"
    },
    "executionInfo": {
     "elapsed": 2,
     "status": "ok",
     "timestamp": 1677725370171,
     "user": {
      "displayName": "송지은",
      "userId": "04554582486449103299"
     },
     "user_tz": -540
    },
    "id": "MdaH0FJJAMNJ",
    "outputId": "bc6a4fc7-755a-4f64-b965-e7e00a8e06b6",
    "pbl_cell_type": "code",
    "step_id": 3859,
    "step_number": 3
   },
   "outputs": [
    {
     "data": {
      "text/plain": [
       "array([3, 4, 5, 6])"
      ]
     },
     "execution_count": 6,
     "metadata": {},
     "output_type": "execute_result"
    }
   ],
   "source": [
    "jump_num ___ same_num"
   ]
  },
  {
   "cell_type": "code",
   "execution_count": null,
   "metadata": {
    "pbl_cell_type": "hidden_checkcode",
    "step_id": 3859,
    "step_number": 3
   },
   "outputs": [],
   "source": [
    "#checkcode\n",
    "ensure_vals(globals())\n",
    "@check_safety\n",
    "def check(user_answer_pandas):\n",
    "    \n",
    "    jump_num = np.array([1,2,3,4])\n",
    "    same_num = np.array([2,2,2,2])\n",
    "    \n",
    "    check_me = jump_num + same_num\n",
    "    check1 = (check_me == user_answer_pandas).all\n",
    "    \n",
    "    if check1:\n",
    "        return True\n",
    "    else:\n",
    "        return False\n",
    "check(_)"
   ]
  },
  {
   "cell_type": "markdown",
   "metadata": {
    "id": "QkFtp49VqAc6",
    "pbl_cell_type": "markdown",
    "step_id": 3860,
    "step_number": 4
   },
   "source": [
    "# 4.NumPy 배열(array)간 뺄셈(-) 연산하기\n",
    "[문제 3]  \n",
    "두 변수 `jump_num`과 `same_num`의 값을 빼는 과정입니다. 주어진 코드를 완성하여 두 변수의 차이를 계산하세요.\n",
    "\n",
    "1. 두 변수 `jump_num`과 `same_num`이 각각 정의되어 있다고 가정합니다.\n",
    "2. 두 변수를 빼는 연산을 수행합니다. "
   ]
  },
  {
   "cell_type": "code",
   "execution_count": 8,
   "metadata": {
    "colab": {
     "base_uri": "https://localhost:8080/"
    },
    "executionInfo": {
     "elapsed": 3,
     "status": "ok",
     "timestamp": 1677722586898,
     "user": {
      "displayName": "송지은",
      "userId": "04554582486449103299"
     },
     "user_tz": -540
    },
    "id": "nrcYPYaxiCTn",
    "outputId": "42354377-f4d2-41cb-eda7-0990e500d062",
    "pbl_cell_type": "code",
    "step_id": 3860,
    "step_number": 4
   },
   "outputs": [
    {
     "data": {
      "text/plain": [
       "array([-1,  0,  1,  2])"
      ]
     },
     "execution_count": 8,
     "metadata": {},
     "output_type": "execute_result"
    }
   ],
   "source": [
    "jump_num ___ same_num"
   ]
  },
  {
   "cell_type": "code",
   "execution_count": null,
   "metadata": {
    "pbl_cell_type": "hidden_checkcode",
    "step_id": 3860,
    "step_number": 4
   },
   "outputs": [],
   "source": [
    "#checkcode\n",
    "ensure_vals(globals())\n",
    "@check_safety\n",
    "def check(user_answer_pandas):\n",
    "    \n",
    "    jump_num = np.array([1,2,3,4])\n",
    "    same_num = np.array([2,2,2,2])\n",
    "    \n",
    "    check_me = jump_num - same_num\n",
    "    check1 = (check_me == user_answer_pandas).all\n",
    "    \n",
    "    if check1:\n",
    "        return True\n",
    "    else:\n",
    "        return False\n",
    "check(_)"
   ]
  },
  {
   "cell_type": "markdown",
   "metadata": {
    "id": "LFXET1-OqCCM",
    "pbl_cell_type": "markdown",
    "step_id": 3861,
    "step_number": 5
   },
   "source": [
    "# 5.NumPy 배열(array)간 곱셈(*) 연산하기\n",
    "\n",
    "[문제 4]  \n",
    "두 변수 `jump_num`과 `same_num`을 곱하는 과정입니다. 주어진 코드를 완성하여 두 변수의 곱을 계산하세요.\n",
    "\n",
    "1. 두 변수 `jump_num`과 `same_num`이 각각 정의되어 있다고 가정합니다.\n",
    "2. 두 변수를 곱하는 연산을 수행합니다. "
   ]
  },
  {
   "cell_type": "code",
   "execution_count": 10,
   "metadata": {
    "colab": {
     "base_uri": "https://localhost:8080/"
    },
    "executionInfo": {
     "elapsed": 4,
     "status": "ok",
     "timestamp": 1677722788526,
     "user": {
      "displayName": "송지은",
      "userId": "04554582486449103299"
     },
     "user_tz": -540
    },
    "id": "H05SRVY2jOw5",
    "outputId": "68f0fca8-7ec5-4297-931b-f9ff2cffa599",
    "pbl_cell_type": "code",
    "step_id": 3861,
    "step_number": 5
   },
   "outputs": [
    {
     "data": {
      "text/plain": [
       "array([2, 4, 6, 8])"
      ]
     },
     "execution_count": 10,
     "metadata": {},
     "output_type": "execute_result"
    }
   ],
   "source": [
    "jump_num ___ same_num"
   ]
  },
  {
   "cell_type": "code",
   "execution_count": null,
   "metadata": {
    "pbl_cell_type": "hidden_checkcode",
    "step_id": 3861,
    "step_number": 5
   },
   "outputs": [],
   "source": [
    "#checkcode\n",
    "ensure_vals(globals())\n",
    "@check_safety\n",
    "def check(user_answer_pandas):\n",
    "    \n",
    "    jump_num = np.array([1,2,3,4])\n",
    "    same_num = np.array([2,2,2,2])\n",
    "    \n",
    "    check_me = jump_num * same_num\n",
    "    check1 = (check_me == user_answer_pandas).all\n",
    "    \n",
    "    if check1:\n",
    "        return True\n",
    "    else:\n",
    "        return False\n",
    "check(_)"
   ]
  },
  {
   "cell_type": "markdown",
   "metadata": {
    "id": "Ssv8zMeGqDcI",
    "pbl_cell_type": "markdown",
    "step_id": 3862,
    "step_number": 6
   },
   "source": [
    "# 6.NumPy 배열(array)간 거듭제곱(**) 연산하기\n",
    "\n",
    "[문제 5]    \n",
    "변수 `jump_num`을 `same_num`으로 거듭제곱하는 과정입니다. 주어진 코드를 완성하여 거듭제곱 연산을 수행하세요.\n",
    "\n",
    "1. 두 변수 `jump_num`과 `same_num`이 각각 정의되어 있다고 가정합니다.\n",
    "2. `jump_num`을 `same_num`의 거듭제곱으로 계산합니다. "
   ]
  },
  {
   "cell_type": "code",
   "execution_count": 12,
   "metadata": {
    "colab": {
     "base_uri": "https://localhost:8080/"
    },
    "executionInfo": {
     "elapsed": 4,
     "status": "ok",
     "timestamp": 1677722856284,
     "user": {
      "displayName": "송지은",
      "userId": "04554582486449103299"
     },
     "user_tz": -540
    },
    "id": "Eqw1cwhskJ5C",
    "outputId": "973bb27b-6ade-4b4a-b3d8-d213ee030313",
    "pbl_cell_type": "code",
    "step_id": 3862,
    "step_number": 6
   },
   "outputs": [
    {
     "data": {
      "text/plain": [
       "array([ 1,  4,  9, 16])"
      ]
     },
     "execution_count": 12,
     "metadata": {},
     "output_type": "execute_result"
    }
   ],
   "source": [
    "jump_num ___ same_num"
   ]
  },
  {
   "cell_type": "code",
   "execution_count": null,
   "metadata": {
    "pbl_cell_type": "hidden_checkcode",
    "step_id": 3862,
    "step_number": 6
   },
   "outputs": [],
   "source": [
    "#checkcode\n",
    "ensure_vals(globals())\n",
    "@check_safety\n",
    "def check(user_answer_pandas):\n",
    "    \n",
    "    jump_num = np.array([1,2,3,4])\n",
    "    same_num = np.array([2,2,2,2])\n",
    "    \n",
    "    check_me = jump_num ** same_num\n",
    "    check1 = (check_me == user_answer_pandas).all\n",
    "    \n",
    "    if check1:\n",
    "        return True\n",
    "    else:\n",
    "        return False\n",
    "check(_)"
   ]
  },
  {
   "cell_type": "markdown",
   "metadata": {
    "id": "M1zR7t9oINsF",
    "pbl_cell_type": "markdown",
    "step_id": 3863,
    "step_number": 7
   },
   "source": [
    "# 7.NumPy 배열(array)간 나눗셈(/) 연산하기\n",
    "\n",
    "[문제 6]  \n",
    "변수 `jump_num`을 `same_num`으로 나누는 과정입니다. 주어진 코드를 완성하여 나눗셈 연산을 수행하세요.\n",
    "\n",
    "1. 두 변수 `jump_num`과 `same_num`이 각각 정의되어 있다고 가정합니다.\n",
    "2. `jump_num`을 `same_num`으로 나누는 연산을 수행합니다."
   ]
  },
  {
   "cell_type": "code",
   "execution_count": 14,
   "metadata": {
    "colab": {
     "base_uri": "https://localhost:8080/"
    },
    "executionInfo": {
     "elapsed": 4,
     "status": "ok",
     "timestamp": 1677723749234,
     "user": {
      "displayName": "송지은",
      "userId": "04554582486449103299"
     },
     "user_tz": -540
    },
    "id": "eReAoLV7IL8I",
    "outputId": "dc13ac80-c770-4a20-eb6a-46524a85beef",
    "pbl_cell_type": "code",
    "step_id": 3863,
    "step_number": 7
   },
   "outputs": [
    {
     "data": {
      "text/plain": [
       "array([0.5, 1. , 1.5, 2. ])"
      ]
     },
     "execution_count": 14,
     "metadata": {},
     "output_type": "execute_result"
    }
   ],
   "source": [
    "jump_num ___ same_num"
   ]
  },
  {
   "cell_type": "code",
   "execution_count": null,
   "metadata": {
    "pbl_cell_type": "hidden_checkcode",
    "step_id": 3863,
    "step_number": 7
   },
   "outputs": [],
   "source": [
    "#checkcode\n",
    "ensure_vals(globals())\n",
    "@check_safety\n",
    "def check(user_answer_pandas):\n",
    "    \n",
    "    jump_num = np.array([1,2,3,4])\n",
    "    same_num = np.array([2,2,2,2])\n",
    "    \n",
    "    check_me = jump_num / same_num\n",
    "    check1 = (check_me == user_answer_pandas).all\n",
    "    \n",
    "    if check1:\n",
    "        return True\n",
    "    else:\n",
    "        return False\n",
    "check(_)"
   ]
  },
  {
   "cell_type": "markdown",
   "metadata": {
    "id": "rwl44YM1K5VF",
    "pbl_cell_type": "markdown",
    "step_id": 3864,
    "step_number": 8
   },
   "source": [
    "# 8.NumPy 배열간 비교(<) 연산하기\n"
   ]
  },
  {
   "cell_type": "code",
   "execution_count": 16,
   "metadata": {
    "colab": {
     "base_uri": "https://localhost:8080/"
    },
    "executionInfo": {
     "elapsed": 3,
     "status": "ok",
     "timestamp": 1677724818442,
     "user": {
      "displayName": "송지은",
      "userId": "04554582486449103299"
     },
     "user_tz": -540
    },
    "id": "lYEhlfUEK5VG",
    "outputId": "88cae322-68af-4dba-ca2c-4c6a1be0c88c",
    "pbl_cell_type": "code",
    "step_id": 3864,
    "step_number": 8
   },
   "outputs": [
    {
     "data": {
      "text/plain": [
       "array([ True, False, False, False])"
      ]
     },
     "execution_count": 16,
     "metadata": {},
     "output_type": "execute_result"
    }
   ],
   "source": [
    "random_num = np.array([2,5,4,6]) \n",
    "same_three_num = np.array([3,3,3,3]) \n",
    "\n",
    "random_num < same_three_num "
   ]
  },
  {
   "cell_type": "markdown",
   "metadata": {
    "id": "30zakbmMqXm1",
    "pbl_cell_type": "markdown",
    "step_id": 3865,
    "step_number": 9
   },
   "source": [
    "# 9.2차원 배열(array) 생성하기"
   ]
  },
  {
   "cell_type": "code",
   "execution_count": 18,
   "metadata": {
    "id": "0PNy3fEhqZCU",
    "pbl_cell_type": "code",
    "step_id": 3865,
    "step_number": 9
   },
   "outputs": [],
   "source": [
    "two_jump_num = np.array([[4,6],\n",
    "                         [12,10]])\n",
    "two_same_num = np.array([[2,2],\n",
    "                         [2,2]])"
   ]
  },
  {
   "cell_type": "markdown",
   "metadata": {
    "id": "wRv_4vMPuIAG",
    "pbl_cell_type": "markdown",
    "step_id": 3866,
    "step_number": 10
   },
   "source": [
    "# 10.2차원 배열(array) 연산 실습(1)\n",
    "\n",
    "[문제 7]  \n",
    "위에서 생성한 two_jump_num 과 two_same_num을 곱한 후 two_jump_num을 더해보세요.\n",
    "그 값을 a 변수에 할당해 주세요."
   ]
  },
  {
   "cell_type": "code",
   "execution_count": 20,
   "metadata": {
    "colab": {
     "base_uri": "https://localhost:8080/"
    },
    "executionInfo": {
     "elapsed": 3,
     "status": "ok",
     "timestamp": 1677725080338,
     "user": {
      "displayName": "송지은",
      "userId": "04554582486449103299"
     },
     "user_tz": -540
    },
    "id": "wLOjkNymt_fd",
    "outputId": "8d45e754-1c37-4767-cdb0-7403ae2e8c46",
    "pbl_cell_type": "code",
    "step_id": 3866,
    "step_number": 10
   },
   "outputs": [
    {
     "data": {
      "text/plain": [
       "array([[12, 18],\n",
       "       [36, 30]])"
      ]
     },
     "execution_count": 20,
     "metadata": {},
     "output_type": "execute_result"
    }
   ],
   "source": [
    "a = ...\n",
    "a"
   ]
  },
  {
   "cell_type": "code",
   "execution_count": 21,
   "metadata": {
    "colab": {
     "base_uri": "https://localhost:8080/"
    },
    "executionInfo": {
     "elapsed": 3,
     "status": "ok",
     "timestamp": 1677725080693,
     "user": {
      "displayName": "송지은",
      "userId": "04554582486449103299"
     },
     "user_tz": -540
    },
    "id": "OOE-rSBywYtV",
    "outputId": "7a374973-836b-4e4c-abb9-82336414052c",
    "pbl_cell_type": "hidden_checkcode",
    "step_id": 3866,
    "step_number": 10
   },
   "outputs": [
    {
     "data": {
      "text/plain": [
       "True"
      ]
     },
     "execution_count": 21,
     "metadata": {},
     "output_type": "execute_result"
    }
   ],
   "source": [
    "#checkcode\n",
    "ensure_vals(globals(),'a')\n",
    "@check_safety\n",
    "def check(user_answer=a):\n",
    "    if (user_answer[0] == [12, 18]).all():\n",
    "        return True\n",
    "    else:\n",
    "        return False\n",
    "check()"
   ]
  },
  {
   "cell_type": "markdown",
   "metadata": {
    "id": "i3UZxp0zvQjo",
    "pbl_cell_type": "markdown",
    "step_id": 3867,
    "step_number": 11
   },
   "source": [
    "# 11.2차원 배열(array) 연산 실습(2)\n",
    "\n",
    "[문제 8]  \n",
    "위에서 생성한 two_jump_num와 two_same_num 을 나눈 후 two_jump_num을 곱해보세요."
   ]
  },
  {
   "cell_type": "code",
   "execution_count": 22,
   "metadata": {
    "colab": {
     "base_uri": "https://localhost:8080/"
    },
    "executionInfo": {
     "elapsed": 5,
     "status": "ok",
     "timestamp": 1677725130166,
     "user": {
      "displayName": "송지은",
      "userId": "04554582486449103299"
     },
     "user_tz": -540
    },
    "id": "iHu2vCqBvYuM",
    "outputId": "72315bf3-160c-4df0-9081-467a3ef2dd89",
    "pbl_cell_type": "code",
    "step_id": 3867,
    "step_number": 11
   },
   "outputs": [
    {
     "data": {
      "text/plain": [
       "array([[ 8., 18.],\n",
       "       [72., 50.]])"
      ]
     },
     "execution_count": 22,
     "metadata": {},
     "output_type": "execute_result"
    }
   ],
   "source": [
    "..."
   ]
  },
  {
   "cell_type": "code",
   "execution_count": 34,
   "metadata": {
    "colab": {
     "base_uri": "https://localhost:8080/"
    },
    "executionInfo": {
     "elapsed": 6,
     "status": "ok",
     "timestamp": 1677566588364,
     "user": {
      "displayName": "송지은",
      "userId": "04554582486449103299"
     },
     "user_tz": -540
    },
    "id": "aZL2lx5TwjsC",
    "outputId": "d7ecae59-9883-4fc9-f6db-d1034f9cc225",
    "pbl_cell_type": "hidden_checkcode",
    "step_id": 3867,
    "step_number": 11
   },
   "outputs": [
    {
     "data": {
      "text/plain": [
       "True"
      ]
     },
     "execution_count": 34,
     "metadata": {},
     "output_type": "execute_result"
    }
   ],
   "source": [
    "#checkcode\n",
    "ensure_vals(globals(),'two_jump_num','two_same_num')\n",
    "@check_safety\n",
    "def check(user_answer=_):\n",
    "    if (user_answer==two_jump_num / two_same_num * two_jump_num).all():\n",
    "        return True\n",
    "    else:\n",
    "        return False\n",
    "check()"
   ]
  },
  {
   "cell_type": "markdown",
   "metadata": {
    "id": "1tcMJUCIykJC",
    "pbl_cell_type": "markdown",
    "step_id": 3868,
    "step_number": 12
   },
   "source": [
    "# 12.2차원 배열(array) 연산 실습(3)\n",
    "\n",
    "[문제 9]  \n",
    "`>` 왼쪽에는 two_same_num에 two_jump_num을 거듭제곱한 값을,   \n",
    "`>` 오른쪽에는 two_jump_num 과 two_same_num을 곱한 값을 채워주세요.  \n",
    "\n",
    "아래의 빈칸을 채워주세요."
   ]
  },
  {
   "cell_type": "code",
   "execution_count": 24,
   "metadata": {
    "colab": {
     "base_uri": "https://localhost:8080/"
    },
    "executionInfo": {
     "elapsed": 3,
     "status": "ok",
     "timestamp": 1677725349647,
     "user": {
      "displayName": "송지은",
      "userId": "04554582486449103299"
     },
     "user_tz": -540
    },
    "id": "lEi3Lj1vOMz_",
    "outputId": "95b83a65-5a70-4cd8-e875-f10ed820c106",
    "pbl_cell_type": "code",
    "step_id": 3868,
    "step_number": 12
   },
   "outputs": [
    {
     "data": {
      "text/plain": [
       "array([[ True,  True],\n",
       "       [ True,  True]])"
      ]
     },
     "execution_count": 24,
     "metadata": {},
     "output_type": "execute_result"
    }
   ],
   "source": [
    "___ > ___"
   ]
  },
  {
   "cell_type": "code",
   "execution_count": 25,
   "metadata": {
    "colab": {
     "base_uri": "https://localhost:8080/"
    },
    "executionInfo": {
     "elapsed": 2,
     "status": "ok",
     "timestamp": 1677568745020,
     "user": {
      "displayName": "송지은",
      "userId": "04554582486449103299"
     },
     "user_tz": -540
    },
    "id": "Hf3-H-2y2wKN",
    "outputId": "827bb79f-9e23-4454-dfd4-a31d73df1b5f",
    "pbl_cell_type": "hidden_checkcode",
    "step_id": 3868,
    "step_number": 12
   },
   "outputs": [
    {
     "data": {
      "text/plain": [
       "True"
      ]
     },
     "execution_count": 25,
     "metadata": {},
     "output_type": "execute_result"
    }
   ],
   "source": [
    "#checkcode\n",
    "ensure_vals(globals(),'two_same_num','two_jump_num')\n",
    "@check_safety\n",
    "def check(user_answer=_):\n",
    "    if (sum(_) == ([2, 2])).all():\n",
    "        return True\n",
    "    else:\n",
    "        return False\n",
    "check()"
   ]
  }
 ],
 "metadata": {
  "kernelspec": {
   "display_name": "Python 3 (ipykernel)",
   "language": "python",
   "name": "python3"
  },
  "language_info": {
   "codemirror_mode": {
    "name": "ipython",
    "version": 3
   },
   "file_extension": ".py",
   "mimetype": "text/x-python",
   "name": "python",
   "nbconvert_exporter": "python",
   "pygments_lexer": "ipython3",
   "version": "3.11.9"
  }
 },
 "nbformat": 4,
 "nbformat_minor": 4
}
