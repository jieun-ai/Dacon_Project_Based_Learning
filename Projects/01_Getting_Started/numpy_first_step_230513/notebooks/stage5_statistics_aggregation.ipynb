{
 "cells": [
  {
   "cell_type": "code",
   "execution_count": null,
   "metadata": {
    "deletable": false,
    "id": "DnAKFGYX3U_B",
    "pbl_cell_type": "hidden_setup_code",
    "step_id": 3869,
    "step_number": 0
   },
   "outputs": [],
   "source": [
    "#hiddencell\n",
    "from pbl_tools import *"
   ]
  },
  {
   "cell_type": "markdown",
   "metadata": {
    "deletable": false,
    "id": "bzW0Akb73bT6",
    "pbl_cell_type": "markdown",
    "step_id": 3869,
    "step_number": 0
   },
   "source": [
    "# 스테이지 5"
   ]
  },
  {
   "cell_type": "markdown",
   "metadata": {
    "id": "TkFrDVbc3iiC",
    "pbl_cell_type": "markdown",
    "step_id": 3870,
    "step_number": 1
   },
   "source": [
    "# 1.NumPy 라이브러리(Library) 불러오기\n",
    "[문제 1]    \n",
    "numpy 라이브러리를 불러오기 위해서 아래 빈칸을 채워 주세요.    \n",
    "numpy는 자주 사용하는 라이브러리이므로 축약어인 np로 불러와 주세요. "
   ]
  },
  {
   "cell_type": "code",
   "execution_count": null,
   "metadata": {
    "id": "dIftesDU3WPo",
    "pbl_cell_type": "code",
    "step_id": 3870,
    "step_number": 1
   },
   "outputs": [],
   "source": [
    "___ numpy ___ np"
   ]
  },
  {
   "cell_type": "code",
   "execution_count": null,
   "metadata": {
    "colab": {
     "base_uri": "https://localhost:8080/"
    },
    "executionInfo": {
     "elapsed": 5,
     "status": "ok",
     "timestamp": 1677725847851,
     "user": {
      "displayName": "송지은",
      "userId": "04554582486449103299"
     },
     "user_tz": -540
    },
    "id": "xRLb7DlX3kw5",
    "outputId": "18e1fd1e-5cf4-4b6f-faab-a5d94174c29c",
    "pbl_cell_type": "hidden_checkcode",
    "step_id": 3870,
    "step_number": 1
   },
   "outputs": [
    {
     "data": {
      "text/plain": [
       "True"
      ]
     },
     "execution_count": 3,
     "metadata": {},
     "output_type": "execute_result"
    }
   ],
   "source": [
    "#checkcode\n",
    "ensure_vals(globals(), 'np')\n",
    "@check_safety\n",
    "def check(user_answer_pandas=np):\n",
    "    if hasattr(user_answer_pandas, 'array'):\n",
    "        return True\n",
    "    else:\n",
    "        return False\n",
    "check()"
   ]
  },
  {
   "cell_type": "markdown",
   "metadata": {
    "id": "Fe-oARTS3mGM",
    "pbl_cell_type": "markdown",
    "step_id": 3871,
    "step_number": 2
   },
   "source": [
    "# 2.2차원 배열(array) 생성하기"
   ]
  },
  {
   "cell_type": "code",
   "execution_count": null,
   "metadata": {
    "colab": {
     "base_uri": "https://localhost:8080/"
    },
    "executionInfo": {
     "elapsed": 3,
     "status": "ok",
     "timestamp": 1677725963629,
     "user": {
      "displayName": "송지은",
      "userId": "04554582486449103299"
     },
     "user_tz": -540
    },
    "id": "hTC6hfKzc0pO",
    "outputId": "07b078c4-f5d3-41d9-b2f7-47e7522d73ba",
    "pbl_cell_type": "code",
    "step_id": 3871,
    "step_number": 2
   },
   "outputs": [
    {
     "data": {
      "text/plain": [
       "array([[3, 4, 5, 4],\n",
       "       [1, 5, 6, 7],\n",
       "       [9, 2, 6, 4]])"
      ]
     },
     "execution_count": 4,
     "metadata": {},
     "output_type": "execute_result"
    }
   ],
   "source": [
    "twelve_array = np.array([[3,4,5,4],\n",
    "                         [1,5,6,7],\n",
    "                         [9,2,6,4]])\n",
    "\n",
    "twelve_array"
   ]
  },
  {
   "cell_type": "markdown",
   "metadata": {
    "id": "iAPEO8HYp73U",
    "pbl_cell_type": "markdown",
    "step_id": 3872,
    "step_number": 3
   },
   "source": [
    "# 3.NumPy 배열(array)에서 최댓값(max) 찾기\n",
    "\n",
    "[문제 2]  \n",
    "`numpy`를 사용하여 배열 `twelve_array`에서 최대값을 찾는 과정입니다. \n",
    "\n",
    "- `numpy` 라이브러리가 이미 임포트되어 있다고 가정하고, `np.max()` 함수를 사용하여 배열 `twelve_array`의 최대값을 찾습니다.\n"
   ]
  },
  {
   "cell_type": "code",
   "execution_count": null,
   "metadata": {
    "colab": {
     "base_uri": "https://localhost:8080/"
    },
    "executionInfo": {
     "elapsed": 5,
     "status": "ok",
     "timestamp": 1677726069386,
     "user": {
      "displayName": "송지은",
      "userId": "04554582486449103299"
     },
     "user_tz": -540
    },
    "id": "hx6bN_HFb4-C",
    "outputId": "5935d7d8-afc5-4681-8bd3-26df970d30df",
    "pbl_cell_type": "code",
    "step_id": 3872,
    "step_number": 3
   },
   "outputs": [
    {
     "data": {
      "text/plain": [
       "9"
      ]
     },
     "execution_count": 6,
     "metadata": {},
     "output_type": "execute_result"
    }
   ],
   "source": [
    "np.___(twelve_array)"
   ]
  },
  {
   "cell_type": "code",
   "execution_count": null,
   "metadata": {
    "pbl_cell_type": "hidden_checkcode",
    "step_id": 3872,
    "step_number": 3
   },
   "outputs": [],
   "source": [
    "#checkcode\n",
    "ensure_vals(globals(),'twelve_array')\n",
    "@check_safety\n",
    "def check(user_answer=_):\n",
    "    if (user_answer==np.max(twelve_array)):\n",
    "        return True\n",
    "    else:\n",
    "        return False\n",
    "check()"
   ]
  },
  {
   "cell_type": "markdown",
   "metadata": {
    "id": "fy76QNMnSYpw",
    "pbl_cell_type": "markdown",
    "step_id": 3873,
    "step_number": 4
   },
   "source": [
    "# 4.NumPy 배열(array)에서 최솟값(min) 찾기\n",
    "\n",
    "[문제 3]  \n",
    "twelve_array 배열에서 가장 작은 값을 반환해보세요.  \n",
    "아래 빈칸을 채워보세요."
   ]
  },
  {
   "cell_type": "code",
   "execution_count": null,
   "metadata": {
    "colab": {
     "base_uri": "https://localhost:8080/"
    },
    "executionInfo": {
     "elapsed": 5,
     "status": "ok",
     "timestamp": 1677726147510,
     "user": {
      "displayName": "송지은",
      "userId": "04554582486449103299"
     },
     "user_tz": -540
    },
    "id": "Cd_rTAulRVA4",
    "outputId": "9b1038ac-3159-4090-cc0c-dbaf6e1a7a53",
    "pbl_cell_type": "code",
    "step_id": 3873,
    "step_number": 4
   },
   "outputs": [
    {
     "data": {
      "text/plain": [
       "1"
      ]
     },
     "execution_count": 11,
     "metadata": {},
     "output_type": "execute_result"
    }
   ],
   "source": [
    "___.___(___)"
   ]
  },
  {
   "cell_type": "code",
   "execution_count": null,
   "metadata": {
    "id": "8dWATwuQQeJa",
    "outputId": "3414d171-5adc-4749-cd8e-dccbeffa5378",
    "pbl_cell_type": "hidden_checkcode",
    "step_id": 3873,
    "step_number": 4
   },
   "outputs": [
    {
     "data": {
      "text/plain": [
       "False"
      ]
     },
     "execution_count": 8,
     "metadata": {},
     "output_type": "execute_result"
    }
   ],
   "source": [
    "#checkcode\n",
    "ensure_vals(globals(),'twelve_array')\n",
    "@check_safety\n",
    "def check(user_answer=_):\n",
    "    if (user_answer==np.min(twelve_array)):\n",
    "        return True\n",
    "    else:\n",
    "        return False\n",
    "check()"
   ]
  },
  {
   "cell_type": "markdown",
   "metadata": {
    "id": "AH2J21jjTAZ2",
    "pbl_cell_type": "markdown",
    "step_id": 3874,
    "step_number": 5
   },
   "source": [
    "# 5.NumPy 배열의 축(axis)을 기준으로 최댓값 구하기\n",
    "\n",
    "[문제 4]  \n",
    "\n",
    " `numpy`를 사용하여 배열 `twelve_array`의 각 열에서 최대값을 찾는 과정입니다. \n",
    "\n",
    "- `numpy` 라이브러리가 이미 임포트되어 있다고 가정하고, `np.max()` 함수를 사용하여 배열 `twelve_array`의 각 열에 대한 최대값을 찾습니다. `axis=0` 매개변수를 사용하여 열 별로 연산을 지정합니다."
   ]
  },
  {
   "cell_type": "code",
   "execution_count": null,
   "metadata": {
    "colab": {
     "base_uri": "https://localhost:8080/"
    },
    "executionInfo": {
     "elapsed": 514,
     "status": "ok",
     "timestamp": 1677726306276,
     "user": {
      "displayName": "송지은",
      "userId": "04554582486449103299"
     },
     "user_tz": -540
    },
    "id": "upfX9v4pR8da",
    "outputId": "d7406c2b-70d7-4646-cebc-ad869c9c54f1",
    "pbl_cell_type": "code",
    "step_id": 3874,
    "step_number": 5
   },
   "outputs": [
    {
     "data": {
      "text/plain": [
       "array([9, 5, 6, 7])"
      ]
     },
     "execution_count": 9,
     "metadata": {},
     "output_type": "execute_result"
    }
   ],
   "source": [
    "np.___(twelve_array, ___ = 0)"
   ]
  },
  {
   "cell_type": "code",
   "execution_count": null,
   "metadata": {
    "pbl_cell_type": "hidden_checkcode",
    "step_id": 3874,
    "step_number": 5
   },
   "outputs": [],
   "source": [
    "#checkcode\n",
    "ensure_vals(globals(),'twelve_array')\n",
    "@check_safety\n",
    "def check(user_answer):\n",
    "    \n",
    "    check_user = np.max(twelve_array, axis = 0)\n",
    "    check1 = (check_user == user_answer).all\n",
    "    \n",
    "    if check1:\n",
    "        return True\n",
    "    else:\n",
    "        return False\n",
    "check(_)"
   ]
  },
  {
   "cell_type": "markdown",
   "metadata": {
    "id": "Aq_3NaQ4UJ6j",
    "pbl_cell_type": "markdown",
    "step_id": 3875,
    "step_number": 6
   },
   "source": [
    "# 6.NumPy 배열의 축(axis)을 기준으로 최솟값(min) 구하기\n",
    "\n",
    "[문제 5]  \n",
    "`numpy`를 사용하여 2차원 배열 `twelve_array`의 각 행에서 최소값을 찾는 과정입니다. \n",
    "\n",
    "- `numpy` 라이브러리가 이미 임포트되어 있다고 가정하고, `np.min()` 함수를 사용하여 배열 `twelve_array`의 각 행에 대한 최소값을 찾습니다. `axis=1` 매개변수를 사용하여 행 별로 연산을 지정합니다."
   ]
  },
  {
   "cell_type": "code",
   "execution_count": null,
   "metadata": {
    "colab": {
     "base_uri": "https://localhost:8080/"
    },
    "executionInfo": {
     "elapsed": 3,
     "status": "ok",
     "timestamp": 1677726929667,
     "user": {
      "displayName": "송지은",
      "userId": "04554582486449103299"
     },
     "user_tz": -540
    },
    "id": "PydJLFA5SAVA",
    "outputId": "6e092880-fb0e-4513-a892-5575d68f8104",
    "pbl_cell_type": "code",
    "step_id": 3875,
    "step_number": 6
   },
   "outputs": [
    {
     "data": {
      "text/plain": [
       "array([3, 1, 2])"
      ]
     },
     "execution_count": 25,
     "metadata": {},
     "output_type": "execute_result"
    }
   ],
   "source": [
    "..."
   ]
  },
  {
   "cell_type": "code",
   "execution_count": null,
   "metadata": {
    "id": "dVCz15uzpYhW",
    "outputId": "387db0ee-fac8-4dbc-fbc5-65c1303299ad",
    "pbl_cell_type": "hidden_checkcode",
    "step_id": 3875,
    "step_number": 6
   },
   "outputs": [
    {
     "data": {
      "text/plain": [
       "True"
      ]
     },
     "execution_count": 26,
     "metadata": {},
     "output_type": "execute_result"
    }
   ],
   "source": [
    "#checkcode\n",
    "ensure_vals(globals(),'twelve_array')\n",
    "@check_safety\n",
    "def check(user_answer=_):\n",
    "    check1 = 3 in _\n",
    "    check2 = 1 in _\n",
    "    check3 = 2 in _\n",
    "    if check1 and check2 and check3:\n",
    "        return True\n",
    "    else:\n",
    "        return False\n",
    "check()"
   ]
  },
  {
   "cell_type": "markdown",
   "metadata": {
    "id": "QkFtp49VqAc6",
    "pbl_cell_type": "markdown",
    "step_id": 3876,
    "step_number": 7
   },
   "source": [
    "# 7.NumPy 배열의 전체 원소 합(sum) 구하기\n",
    "\n",
    "[문제 6]  \n",
    "`numpy`를 사용하여 배열 `twelve_array`의 모든 요소의 합을 계산하는 과정입니다.\n",
    "\n",
    "- `numpy` 라이브러리가 이미 임포트되어 있다고 가정하고, `np.sum()` 함수를 사용하여 배열 `twelve_array`의 전체 요소의 합을 계산합니다."
   ]
  },
  {
   "cell_type": "code",
   "execution_count": null,
   "metadata": {
    "colab": {
     "base_uri": "https://localhost:8080/"
    },
    "executionInfo": {
     "elapsed": 524,
     "status": "ok",
     "timestamp": 1677732668440,
     "user": {
      "displayName": "송지은",
      "userId": "04554582486449103299"
     },
     "user_tz": -540
    },
    "id": "nrcYPYaxiCTn",
    "outputId": "0a3b3302-953e-4bb5-d5b2-2dcf24109b5a",
    "pbl_cell_type": "code",
    "step_id": 3876,
    "step_number": 7
   },
   "outputs": [
    {
     "data": {
      "text/plain": [
       "56"
      ]
     },
     "execution_count": 16,
     "metadata": {},
     "output_type": "execute_result"
    }
   ],
   "source": [
    "___.___(twelve_array)"
   ]
  },
  {
   "cell_type": "code",
   "execution_count": null,
   "metadata": {
    "pbl_cell_type": "hidden_checkcode",
    "step_id": 3876,
    "step_number": 7
   },
   "outputs": [],
   "source": [
    "#checkcode\n",
    "ensure_vals(globals(),'twelve_array')\n",
    "@check_safety\n",
    "def check(user_answer):\n",
    "    \n",
    "    check_user = np.sum(twelve_array)\n",
    "    check1 = (check_user == user_answer).all\n",
    "    \n",
    "    if check1:\n",
    "        return True\n",
    "    else:\n",
    "        return False\n",
    "check(_)"
   ]
  },
  {
   "cell_type": "markdown",
   "metadata": {
    "id": "LFXET1-OqCCM",
    "pbl_cell_type": "markdown",
    "step_id": 3877,
    "step_number": 8
   },
   "source": [
    "# 8.NumPy 배열의 각 수평 방향의 합(sum) 구하기\n",
    "[문제 7]  \n",
    "twelve_array 에서 각 수평 방향의 합계를 구해보세요.  \n",
    "아래 빈칸을 채워보세요."
   ]
  },
  {
   "cell_type": "code",
   "execution_count": null,
   "metadata": {
    "colab": {
     "base_uri": "https://localhost:8080/"
    },
    "executionInfo": {
     "elapsed": 6,
     "status": "ok",
     "timestamp": 1677563237038,
     "user": {
      "displayName": "송지은",
      "userId": "04554582486449103299"
     },
     "user_tz": -540
    },
    "id": "H05SRVY2jOw5",
    "outputId": "50b9afdc-1eab-4cb1-9c44-b144bd4662a1",
    "pbl_cell_type": "code",
    "step_id": 3877,
    "step_number": 8
   },
   "outputs": [
    {
     "data": {
      "text/plain": [
       "array([16, 19, 21])"
      ]
     },
     "execution_count": 28,
     "metadata": {},
     "output_type": "execute_result"
    }
   ],
   "source": [
    "np.___(___, axis = ___)"
   ]
  },
  {
   "cell_type": "code",
   "execution_count": null,
   "metadata": {
    "id": "NJfqcA4QpafT",
    "outputId": "e47a148b-9338-4589-b1ba-b5e51d5959b4",
    "pbl_cell_type": "hidden_checkcode",
    "step_id": 3877,
    "step_number": 8
   },
   "outputs": [
    {
     "data": {
      "text/plain": [
       "True"
      ]
     },
     "execution_count": 29,
     "metadata": {},
     "output_type": "execute_result"
    }
   ],
   "source": [
    "#checkcode\n",
    "ensure_vals(globals(),'twelve_array')\n",
    "@check_safety\n",
    "def check(user_answer=_):\n",
    "    if (user_answer==np.sum(twelve_array, axis =1)).all():\n",
    "        return True\n",
    "    else:\n",
    "        return False\n",
    "check()"
   ]
  }
 ],
 "metadata": {
  "kernelspec": {
   "display_name": "Python 3 (ipykernel)",
   "language": "python",
   "name": "python3"
  },
  "language_info": {
   "codemirror_mode": {
    "name": "ipython",
    "version": 3
   },
   "file_extension": ".py",
   "mimetype": "text/x-python",
   "name": "python",
   "nbconvert_exporter": "python",
   "pygments_lexer": "ipython3",
   "version": "3.11.9"
  }
 },
 "nbformat": 4,
 "nbformat_minor": 4
}
