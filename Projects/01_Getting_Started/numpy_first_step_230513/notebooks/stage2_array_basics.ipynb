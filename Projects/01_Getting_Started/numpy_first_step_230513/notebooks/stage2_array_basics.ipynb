{
 "cells": [
  {
   "cell_type": "code",
   "execution_count": 3,
   "metadata": {
    "deletable": false,
    "id": "DnAKFGYX3U_B",
    "pbl_cell_type": "hidden_setup_code",
    "step_id": 3836,
    "step_number": 0
   },
   "outputs": [],
   "source": [
    "#hiddencell\n",
    "from pbl_tools import *"
   ]
  },
  {
   "cell_type": "markdown",
   "metadata": {
    "deletable": false,
    "id": "bzW0Akb73bT6",
    "pbl_cell_type": "markdown",
    "step_id": 3836,
    "step_number": 0
   },
   "source": [
    "# 스테이지 2"
   ]
  },
  {
   "cell_type": "markdown",
   "metadata": {
    "id": "TkFrDVbc3iiC",
    "pbl_cell_type": "markdown",
    "step_id": 3837,
    "step_number": 1
   },
   "source": [
    "# 1.NumPy 라이브러리(Library) 불러오기\n",
    "[문제 1]    \n",
    "numpy 라이브러리를 불러오기 위해서 아래 빈칸을 채워 주세요.  \n",
    "numpy는 자주 사용하는 라이브러리(Library)이므로 축약어인 np로 불러와 주세요."
   ]
  },
  {
   "cell_type": "code",
   "execution_count": 3,
   "metadata": {
    "id": "dIftesDU3WPo",
    "pbl_cell_type": "code",
    "step_id": 3837,
    "step_number": 1
   },
   "outputs": [],
   "source": [
    "import ___ as np"
   ]
  },
  {
   "cell_type": "code",
   "execution_count": 4,
   "metadata": {
    "colab": {
     "base_uri": "https://localhost:8080/"
    },
    "executionInfo": {
     "elapsed": 9,
     "status": "ok",
     "timestamp": 1677213869355,
     "user": {
      "displayName": "송지은",
      "userId": "04554582486449103299"
     },
     "user_tz": -540
    },
    "id": "xRLb7DlX3kw5",
    "outputId": "018efc5a-4202-4d02-b68a-89a614e3d0d4",
    "pbl_cell_type": "hidden_checkcode",
    "step_id": 3837,
    "step_number": 1
   },
   "outputs": [
    {
     "data": {
      "text/plain": [
       "True"
      ]
     },
     "execution_count": 4,
     "metadata": {},
     "output_type": "execute_result"
    }
   ],
   "source": [
    "#checkcode\n",
    "ensure_vals(globals(), 'np')\n",
    "@check_safety\n",
    "def check(user_answer_pandas=np):\n",
    "    if hasattr(user_answer_pandas, 'array'):\n",
    "        return True\n",
    "    else:\n",
    "        return False\n",
    "check()"
   ]
  },
  {
   "cell_type": "markdown",
   "metadata": {
    "id": "Fe-oARTS3mGM",
    "pbl_cell_type": "markdown",
    "step_id": 3838,
    "step_number": 2
   },
   "source": [
    "# 2.다양한 차원(dimension)의 NumPy 배열 생성하기\n",
    "\n",
    "[문제 2]  \n",
    "3개의 벡터를 만들어 봅시다. 조건은 아래와 같습니다.\n",
    "- 1차원 벡터: 1로 구성되어 있음, shape: (3)\n",
    "- 2차원 벡터: 0으로 구성되어 있음, shape: (2, 3)\n",
    "- 3차원 벡터: 0으로 구성되어 있음, shape: ((2, 3, 2))"
   ]
  },
  {
   "cell_type": "code",
   "execution_count": 4,
   "metadata": {
    "colab": {
     "base_uri": "https://localhost:8080/"
    },
    "executionInfo": {
     "elapsed": 8,
     "status": "ok",
     "timestamp": 1677213869355,
     "user": {
      "displayName": "송지은",
      "userId": "04554582486449103299"
     },
     "user_tz": -540
    },
    "id": "KauVqga8A9aQ",
    "outputId": "ef7fecc2-771e-4a5b-fe0b-14a12960fe9e",
    "pbl_cell_type": "code",
    "step_id": 3838,
    "step_number": 2
   },
   "outputs": [
    {
     "name": "stdout",
     "output_type": "stream",
     "text": [
      "---1차원 벡터---\n",
      " [1. 1. 1.]\n",
      "\n",
      "---2차원 행렬---\n",
      " [[0. 0. 0.]\n",
      " [0. 0. 0.]]\n",
      "\n",
      "---3차원 텐서---\n",
      " [[[1. 1.]\n",
      "  [1. 1.]\n",
      "  [1. 1.]]\n",
      "\n",
      " [[1. 1.]\n",
      "  [1. 1.]\n",
      "  [1. 1.]]]\n"
     ]
    },
    {
     "data": {
      "text/plain": [
       "True"
      ]
     },
     "execution_count": 4,
     "metadata": {},
     "output_type": "execute_result"
    }
   ],
   "source": [
    "import numpy as np\n",
    "\n",
    "one_dimension = np.ones(3)\n",
    "print(\"---1차원 벡터---\\n\",one_dimension)\n",
    "\n",
    "two_dimension = np.zeros((2,3))\n",
    "print(\"\\n---2차원 행렬---\\n\",two_dimension)\n",
    "\n",
    "three_dimension = np.ones((2,3,2))\n",
    "print(\"\\n---3차원 텐서---\\n\",three_dimension)"
   ]
  },
  {
   "cell_type": "code",
   "execution_count": null,
   "metadata": {
    "pbl_cell_type": "hidden_checkcode",
    "step_id": 3838,
    "step_number": 2
   },
   "outputs": [],
   "source": [
    "#checkcode\n",
    "ensure_vals(globals(), 'one_dimension', 'two_dimension', 'three_dimension')\n",
    "@check_safety\n",
    "def check(\n",
    "    one_dimension: np.array,\n",
    "    two_dimension: np.array,\n",
    "    three_dimension: np.array\n",
    "):\n",
    "    c_point1 = np.array_equal(one_dimension, np.ones(3))\n",
    "    c_point2 = np.array_equal(two_dimension, np.zeros((2,3)))\n",
    "    c_point3 = np.array_equal(three_dimension, np.ones((2,3,2)))\n",
    "\n",
    "    if c_point1 and c_point2 and c_point3:\n",
    "        return True\n",
    "    else:\n",
    "        return False\n",
    "\n",
    "check(one_dimension, two_dimension, three_dimension)"
   ]
  },
  {
   "cell_type": "markdown",
   "metadata": {
    "id": "EouFDmfOJV_H",
    "pbl_cell_type": "markdown",
    "step_id": 3839,
    "step_number": 3
   },
   "source": [
    "# 3.1차원 배열(array) 생성하기"
   ]
  },
  {
   "cell_type": "code",
   "execution_count": 6,
   "metadata": {
    "colab": {
     "base_uri": "https://localhost:8080/"
    },
    "executionInfo": {
     "elapsed": 7,
     "status": "ok",
     "timestamp": 1677213869356,
     "user": {
      "displayName": "송지은",
      "userId": "04554582486449103299"
     },
     "user_tz": -540
    },
    "id": "nVTfI30tFhqT",
    "outputId": "916fcad7-1898-4e19-a7d7-a3356e072a97",
    "pbl_cell_type": "code",
    "step_id": 3839,
    "step_number": 3
   },
   "outputs": [
    {
     "data": {
      "text/plain": [
       "array([1, 2, 3])"
      ]
     },
     "execution_count": 6,
     "metadata": {},
     "output_type": "execute_result"
    }
   ],
   "source": [
    "np.array([1,2,3])\n"
   ]
  },
  {
   "cell_type": "markdown",
   "metadata": {
    "id": "yqqEayRoKoEN",
    "pbl_cell_type": "markdown",
    "step_id": 3840,
    "step_number": 4
   },
   "source": [
    "# 4.2차원 배열(array) 생성하기"
   ]
  },
  {
   "cell_type": "code",
   "execution_count": 7,
   "metadata": {
    "colab": {
     "base_uri": "https://localhost:8080/"
    },
    "executionInfo": {
     "elapsed": 6,
     "status": "ok",
     "timestamp": 1677213869356,
     "user": {
      "displayName": "송지은",
      "userId": "04554582486449103299"
     },
     "user_tz": -540
    },
    "id": "FOxeTG9uU597",
    "outputId": "c2110207-9420-4405-d0e4-1d9b77e655d4",
    "pbl_cell_type": "code",
    "step_id": 3840,
    "step_number": 4
   },
   "outputs": [
    {
     "data": {
      "text/plain": [
       "array([[1, 2, 3],\n",
       "       [4, 5, 6]])"
      ]
     },
     "execution_count": 7,
     "metadata": {},
     "output_type": "execute_result"
    }
   ],
   "source": [
    "np.array([[1,2,3],\n",
    "          [4,5,6]])"
   ]
  },
  {
   "cell_type": "markdown",
   "metadata": {
    "id": "k327vf6nNkLE",
    "pbl_cell_type": "markdown",
    "step_id": 3841,
    "step_number": 5
   },
   "source": [
    "# 5.3차원 배열(array) 생성하기"
   ]
  },
  {
   "cell_type": "code",
   "execution_count": 8,
   "metadata": {
    "colab": {
     "base_uri": "https://localhost:8080/"
    },
    "executionInfo": {
     "elapsed": 2,
     "status": "ok",
     "timestamp": 1677213869646,
     "user": {
      "displayName": "송지은",
      "userId": "04554582486449103299"
     },
     "user_tz": -540
    },
    "id": "HIqxjHZwFhfO",
    "outputId": "8bde67a9-2a48-44d6-f8ac-026d8aa40599",
    "pbl_cell_type": "code",
    "step_id": 3841,
    "step_number": 5
   },
   "outputs": [
    {
     "data": {
      "text/plain": [
       "array([[[ 1,  2],\n",
       "        [ 3,  4],\n",
       "        [ 5,  6]],\n",
       "\n",
       "       [[ 7,  8],\n",
       "        [ 9, 10],\n",
       "        [11, 12]]])"
      ]
     },
     "execution_count": 8,
     "metadata": {},
     "output_type": "execute_result"
    }
   ],
   "source": [
    "np.array([[[1,2],\n",
    "           [3,4],\n",
    "           [5,6]],\n",
    "           [[7,8],\n",
    "           [9,10],\n",
    "           [11,12]]])"
   ]
  },
  {
   "cell_type": "markdown",
   "metadata": {
    "id": "ve10RqcSUYHh",
    "pbl_cell_type": "markdown",
    "step_id": 3842,
    "step_number": 6
   },
   "source": [
    "# 6.2차원 배열(array) 생성하기 실습\n",
    "\n",
    "[문제 2]  \n",
    "NumPy의 `zeros()` 함수를 사용해서, 행이 2개이고 열이 3개인 \n",
    "모든 요소가 **0으로 초기화된 행렬** 을 만들어보세요.         \n",
    "아래 빈칸을 채워주세요."
   ]
  },
  {
   "cell_type": "code",
   "execution_count": 9,
   "metadata": {
    "colab": {
     "base_uri": "https://localhost:8080/"
    },
    "executionInfo": {
     "elapsed": 315,
     "status": "ok",
     "timestamp": 1677213876024,
     "user": {
      "displayName": "송지은",
      "userId": "04554582486449103299"
     },
     "user_tz": -540
    },
    "id": "LXXc5yZIUaxT",
    "outputId": "b2992f27-182e-4b38-df4c-91bd7f20e649",
    "pbl_cell_type": "code",
    "step_id": 3842,
    "step_number": 6
   },
   "outputs": [
    {
     "data": {
      "text/plain": [
       "array([[0., 0., 0.],\n",
       "       [0., 0., 0.]])"
      ]
     },
     "execution_count": 9,
     "metadata": {},
     "output_type": "execute_result"
    }
   ],
   "source": [
    "np.zeros((___))"
   ]
  },
  {
   "cell_type": "code",
   "execution_count": 10,
   "metadata": {
    "colab": {
     "base_uri": "https://localhost:8080/"
    },
    "executionInfo": {
     "elapsed": 2,
     "status": "ok",
     "timestamp": 1677213876533,
     "user": {
      "displayName": "송지은",
      "userId": "04554582486449103299"
     },
     "user_tz": -540
    },
    "id": "PPmfUsRXUkeX",
    "outputId": "07cb42d9-b753-4fe9-eda5-ef0d4c70b261",
    "pbl_cell_type": "hidden_checkcode",
    "step_id": 3842,
    "step_number": 6
   },
   "outputs": [
    {
     "data": {
      "text/plain": [
       "True"
      ]
     },
     "execution_count": 10,
     "metadata": {},
     "output_type": "execute_result"
    }
   ],
   "source": [
    "#checkcode\n",
    "ensure_vals(globals())\n",
    "@check_safety\n",
    "def check(user_answer=_):\n",
    "    check0 = user_answer.shape == (2,3)\n",
    "    check1 = 0 in user_answer\n",
    "    \n",
    "    if check0 and check1: \n",
    "        return True\n",
    "    else:\n",
    "        return False\n",
    "check()"
   ]
  },
  {
   "cell_type": "markdown",
   "metadata": {
    "id": "x_iSIUFrWUfN",
    "pbl_cell_type": "markdown",
    "step_id": 3843,
    "step_number": 7
   },
   "source": [
    "# 7.3차원 배열(array) 생성하기 실습\n",
    "\n",
    "[문제 3]  \n",
    "NumPy의 ones() 함수를 사용해서, 깊이 2개, 행이 3개, 열이 4개인 모든 요소가 **1로 초기화된 텐서** 를 만들어보세요.  \n",
    "아래 빈칸을 채워주세요."
   ]
  },
  {
   "cell_type": "code",
   "execution_count": 12,
   "metadata": {
    "colab": {
     "base_uri": "https://localhost:8080/"
    },
    "executionInfo": {
     "elapsed": 358,
     "status": "ok",
     "timestamp": 1677213932637,
     "user": {
      "displayName": "송지은",
      "userId": "04554582486449103299"
     },
     "user_tz": -540
    },
    "id": "bLJ7DAk4WHJx",
    "outputId": "c12afb7b-3f89-44f2-c3e6-cc74605eb6eb",
    "pbl_cell_type": "code",
    "step_id": 3843,
    "step_number": 7
   },
   "outputs": [
    {
     "data": {
      "text/plain": [
       "array([[[1., 1., 1., 1.],\n",
       "        [1., 1., 1., 1.],\n",
       "        [1., 1., 1., 1.]],\n",
       "\n",
       "       [[1., 1., 1., 1.],\n",
       "        [1., 1., 1., 1.],\n",
       "        [1., 1., 1., 1.]]])"
      ]
     },
     "execution_count": 12,
     "metadata": {},
     "output_type": "execute_result"
    }
   ],
   "source": [
    "np.___((___))"
   ]
  },
  {
   "cell_type": "code",
   "execution_count": 13,
   "metadata": {
    "colab": {
     "base_uri": "https://localhost:8080/"
    },
    "executionInfo": {
     "elapsed": 2,
     "status": "ok",
     "timestamp": 1677213933043,
     "user": {
      "displayName": "송지은",
      "userId": "04554582486449103299"
     },
     "user_tz": -540
    },
    "id": "Gi3p8Zhba8Yc",
    "outputId": "63c1681b-14d2-4f37-8640-588808ebf974",
    "pbl_cell_type": "hidden_checkcode",
    "step_id": 3843,
    "step_number": 7
   },
   "outputs": [
    {
     "data": {
      "text/plain": [
       "True"
      ]
     },
     "execution_count": 13,
     "metadata": {},
     "output_type": "execute_result"
    }
   ],
   "source": [
    "#checkcode\n",
    "ensure_vals(globals())\n",
    "@check_safety\n",
    "def check(user_answer=_):\n",
    "    check0 = user_answer.shape == (2,3,4)\n",
    "    check1 = 1 in user_answer\n",
    "    \n",
    "    if check0 and check1: \n",
    "        return True\n",
    "    else:\n",
    "        return False\n",
    "check()"
   ]
  }
 ],
 "metadata": {
  "kernelspec": {
   "display_name": "Python 3 (ipykernel)",
   "language": "python",
   "name": "python3"
  },
  "language_info": {
   "codemirror_mode": {
    "name": "ipython",
    "version": 3
   },
   "file_extension": ".py",
   "mimetype": "text/x-python",
   "name": "python",
   "nbconvert_exporter": "python",
   "pygments_lexer": "ipython3",
   "version": "3.11.9"
  }
 },
 "nbformat": 4,
 "nbformat_minor": 4
}
