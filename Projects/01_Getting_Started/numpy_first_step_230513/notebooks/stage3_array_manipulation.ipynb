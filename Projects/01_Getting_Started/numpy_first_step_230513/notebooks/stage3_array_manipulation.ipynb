{
 "cells": [
  {
   "cell_type": "code",
   "execution_count": null,
   "metadata": {
    "deletable": false,
    "id": "DnAKFGYX3U_B",
    "pbl_cell_type": "hidden_setup_code",
    "step_id": 3844,
    "step_number": 0
   },
   "outputs": [],
   "source": [
    "#hiddencell\n",
    "from pbl_tools import *"
   ]
  },
  {
   "cell_type": "markdown",
   "metadata": {
    "deletable": false,
    "id": "bzW0Akb73bT6",
    "pbl_cell_type": "markdown",
    "step_id": 3844,
    "step_number": 0
   },
   "source": [
    "# 스테이지 3"
   ]
  },
  {
   "cell_type": "markdown",
   "metadata": {
    "id": "TkFrDVbc3iiC",
    "pbl_cell_type": "markdown",
    "step_id": 3845,
    "step_number": 1
   },
   "source": [
    "# 1.NumPy 라이브러리(Library) 불러오기\n",
    "\n",
    "[문제 1]    \n",
    "\n",
    "numpy 라이브러리를 불러오기 위해서 아래 빈칸을 채워 주세요.    \n",
    "numpy는 자주 사용하는 라이브러리이므로 축약어인 np로 불러와 주세요.  "
   ]
  },
  {
   "cell_type": "code",
   "execution_count": null,
   "metadata": {
    "id": "dIftesDU3WPo",
    "pbl_cell_type": "code",
    "step_id": 3845,
    "step_number": 1
   },
   "outputs": [],
   "source": [
    "import ___ as np"
   ]
  },
  {
   "cell_type": "code",
   "execution_count": null,
   "metadata": {
    "id": "xRLb7DlX3kw5",
    "pbl_cell_type": "hidden_checkcode",
    "step_id": 3845,
    "step_number": 1
   },
   "outputs": [],
   "source": [
    "#checkcode\n",
    "ensure_vals(globals(), 'np')\n",
    "@check_safety\n",
    "def check(user_answer_pandas=np):\n",
    "    if hasattr(user_answer_pandas, 'array'):\n",
    "        return True\n",
    "    else:\n",
    "        return False\n",
    "check()"
   ]
  },
  {
   "cell_type": "markdown",
   "metadata": {
    "id": "Fe-oARTS3mGM",
    "pbl_cell_type": "markdown",
    "step_id": 3846,
    "step_number": 2
   },
   "source": [
    "# 2.2차원 배열(array) 생성하기\n",
    "\n",
    "[문제 2]  \n",
    "\n",
    "`numpy` 라이브러리를 사용하여 2x3의 2차원 배열을 생성하는 과정입니다. \n",
    "\n",
    "1. `numpy` 라이브러리를 `np`라는 이름으로 임포트합니다.\n",
    "2. `np.array()` 함수를 사용하여 리스트의 리스트를 전달함으로써 2차원 배열을 생성합니다. "
   ]
  },
  {
   "cell_type": "code",
   "execution_count": null,
   "metadata": {
    "id": "hTC6hfKzc0pO",
    "pbl_cell_type": "code",
    "step_id": 3846,
    "step_number": 2
   },
   "outputs": [],
   "source": [
    "two_array = ___.___([[1,2,3],\n",
    "                      [4,5,6]])\n",
    "two_array"
   ]
  },
  {
   "cell_type": "code",
   "execution_count": null,
   "metadata": {
    "pbl_cell_type": "hidden_checkcode",
    "step_id": 3846,
    "step_number": 2
   },
   "outputs": [],
   "source": [
    "#checkcode\n",
    "ensure_vals(globals(),'two_array')\n",
    "@check_safety\n",
    "def check():\n",
    "    \n",
    "    two_array_check = np.array([[1,2,3],\n",
    "                          [4,5,6]])\n",
    "    \n",
    "    if (two_array == two_array_check).all:\n",
    "        return True\n",
    "    else:\n",
    "        return False\n",
    "check()"
   ]
  },
  {
   "cell_type": "markdown",
   "metadata": {
    "id": "iAPEO8HYp73U",
    "pbl_cell_type": "markdown",
    "step_id": 3847,
    "step_number": 3
   },
   "source": [
    "# 3.NumPy 배열의 차원(Dimension) 확인하기"
   ]
  },
  {
   "cell_type": "code",
   "execution_count": null,
   "metadata": {
    "id": "hx6bN_HFb4-C",
    "pbl_cell_type": "code",
    "step_id": 3847,
    "step_number": 3
   },
   "outputs": [],
   "source": [
    "two_array.ndim"
   ]
  },
  {
   "cell_type": "markdown",
   "metadata": {
    "id": "QkFtp49VqAc6",
    "pbl_cell_type": "markdown",
    "step_id": 3848,
    "step_number": 4
   },
   "source": [
    "# 4.NumPy 배열의 크기(shape) 확인하기"
   ]
  },
  {
   "cell_type": "code",
   "execution_count": null,
   "metadata": {
    "id": "nrcYPYaxiCTn",
    "pbl_cell_type": "code",
    "step_id": 3848,
    "step_number": 4
   },
   "outputs": [],
   "source": [
    "two_array.shape"
   ]
  },
  {
   "cell_type": "markdown",
   "metadata": {
    "id": "LFXET1-OqCCM",
    "pbl_cell_type": "markdown",
    "step_id": 3849,
    "step_number": 5
   },
   "source": [
    "# 5.NumPy 배열의 원소 개수(size) 확인하기"
   ]
  },
  {
   "cell_type": "code",
   "execution_count": null,
   "metadata": {
    "id": "H05SRVY2jOw5",
    "pbl_cell_type": "code",
    "step_id": 3849,
    "step_number": 5
   },
   "outputs": [],
   "source": [
    "two_array.size"
   ]
  },
  {
   "cell_type": "markdown",
   "metadata": {
    "id": "Ssv8zMeGqDcI",
    "pbl_cell_type": "markdown",
    "step_id": 3850,
    "step_number": 6
   },
   "source": [
    "# 6.NumPy 배열의 데이터 타입(dtype) 확인하기"
   ]
  },
  {
   "cell_type": "code",
   "execution_count": null,
   "metadata": {
    "id": "Eqw1cwhskJ5C",
    "pbl_cell_type": "code",
    "step_id": 3850,
    "step_number": 6
   },
   "outputs": [],
   "source": [
    "two_array.dtype"
   ]
  },
  {
   "cell_type": "markdown",
   "metadata": {
    "id": "30zakbmMqXm1",
    "pbl_cell_type": "markdown",
    "step_id": 3851,
    "step_number": 7
   },
   "source": [
    "# 7.3차원 배열(array) 생성하기\n",
    "\n",
    "[문제 3]  \n",
    "\n",
    "`numpy` 라이브러리를 사용하여 3차원 배열을 생성하는 과정입니다. \n",
    "\n",
    "1. 3차원 배열을 생성하려면 `np.array()` 함수에 3차원 리스트(리스트의 리스트의 리스트)를 전달합니다. 이 구조는 여러 개의 2차원 배열을 층으로 쌓아 올린 형태와 유사합니다.\n",
    "2. `np.array([[[1.0, 2.0], [3.0, 4.0], [5.0, 6.0]], [[7.0, 8.0], [9.0, 10.0], [11.0, 12.0]]])`는 두 개의 2차원 배열을 각각 층으로 가진 3차원 배열을 생성합니다. 각 2차원 배열은 3행 2열의 구조를 가집니다.\n",
    "3. 생성된 3차원 배열은 `three_array` 변수에 저장하여 출력함으로써 배열의 구조를 확인할 수 있습니다."
   ]
  },
  {
   "cell_type": "code",
   "execution_count": 3,
   "metadata": {
    "id": "0PNy3fEhqZCU",
    "pbl_cell_type": "code",
    "step_id": 3851,
    "step_number": 7
   },
   "outputs": [
    {
     "ename": "NameError",
     "evalue": "name 'np' is not defined",
     "output_type": "error",
     "traceback": [
      "\u001b[0;31m---------------------------------------------------------------------------\u001b[0m",
      "\u001b[0;31mNameError\u001b[0m                                 Traceback (most recent call last)",
      "Cell \u001b[0;32mIn[3], line 1\u001b[0m\n\u001b[0;32m----> 1\u001b[0m three_array \u001b[38;5;241m=\u001b[39m \u001b[43mnp\u001b[49m\u001b[38;5;241m.\u001b[39marray([[[\u001b[38;5;241m1.0\u001b[39m,\u001b[38;5;241m2.0\u001b[39m],\n\u001b[1;32m      2\u001b[0m                          [\u001b[38;5;241m3.0\u001b[39m,\u001b[38;5;241m4.0\u001b[39m],\n\u001b[1;32m      3\u001b[0m                          [\u001b[38;5;241m5.0\u001b[39m,\u001b[38;5;241m6.0\u001b[39m]],\n\u001b[1;32m      4\u001b[0m                         [[\u001b[38;5;241m7.0\u001b[39m,\u001b[38;5;241m8.0\u001b[39m],\n\u001b[1;32m      5\u001b[0m                          [\u001b[38;5;241m9.0\u001b[39m,\u001b[38;5;241m10.0\u001b[39m],\n\u001b[1;32m      6\u001b[0m                          [\u001b[38;5;241m11.0\u001b[39m,\u001b[38;5;241m12.0\u001b[39m]]])\n\u001b[1;32m      7\u001b[0m three_array\n",
      "\u001b[0;31mNameError\u001b[0m: name 'np' is not defined"
     ]
    }
   ],
   "source": [
    "three_array = ...\n",
    "three_array"
   ]
  },
  {
   "cell_type": "code",
   "execution_count": 4,
   "metadata": {
    "pbl_cell_type": "hidden_checkcode",
    "step_id": 3851,
    "step_number": 7
   },
   "outputs": [
    {
     "ename": "NameError",
     "evalue": "name 'ensure_vals' is not defined",
     "output_type": "error",
     "traceback": [
      "\u001b[0;31m---------------------------------------------------------------------------\u001b[0m",
      "\u001b[0;31mNameError\u001b[0m                                 Traceback (most recent call last)",
      "Cell \u001b[0;32mIn[4], line 2\u001b[0m\n\u001b[1;32m      1\u001b[0m \u001b[38;5;66;03m#checkcode\u001b[39;00m\n\u001b[0;32m----> 2\u001b[0m \u001b[43mensure_vals\u001b[49m(\u001b[38;5;28mglobals\u001b[39m(),\u001b[38;5;124m'\u001b[39m\u001b[38;5;124mthree_array\u001b[39m\u001b[38;5;124m'\u001b[39m)\n\u001b[1;32m      3\u001b[0m \u001b[38;5;129m@check_safety\u001b[39m\n\u001b[1;32m      4\u001b[0m \u001b[38;5;28;01mdef\u001b[39;00m \u001b[38;5;21mcheck\u001b[39m():\n\u001b[1;32m      6\u001b[0m     three_array_check \u001b[38;5;241m=\u001b[39m np\u001b[38;5;241m.\u001b[39marray([[[\u001b[38;5;241m1.0\u001b[39m,\u001b[38;5;241m2.0\u001b[39m],\n\u001b[1;32m      7\u001b[0m                          [\u001b[38;5;241m3.0\u001b[39m,\u001b[38;5;241m4.0\u001b[39m],\n\u001b[1;32m      8\u001b[0m                          [\u001b[38;5;241m5.0\u001b[39m,\u001b[38;5;241m6.0\u001b[39m]],\n\u001b[1;32m      9\u001b[0m                         [[\u001b[38;5;241m7.0\u001b[39m,\u001b[38;5;241m8.0\u001b[39m],\n\u001b[1;32m     10\u001b[0m                          [\u001b[38;5;241m9.0\u001b[39m,\u001b[38;5;241m10.0\u001b[39m],\n\u001b[1;32m     11\u001b[0m                          [\u001b[38;5;241m11.0\u001b[39m,\u001b[38;5;241m12.0\u001b[39m]]])\n",
      "\u001b[0;31mNameError\u001b[0m: name 'ensure_vals' is not defined"
     ]
    }
   ],
   "source": [
    "#checkcode\n",
    "ensure_vals(globals(),'three_array')\n",
    "@check_safety\n",
    "def check():\n",
    "    \n",
    "    three_array_check = np.array([[[1.0,2.0],\n",
    "                         [3.0,4.0],\n",
    "                         [5.0,6.0]],\n",
    "                        [[7.0,8.0],\n",
    "                         [9.0,10.0],\n",
    "                         [11.0,12.0]]])\n",
    "    \n",
    "    if (three_array == three_array_check).all:\n",
    "        return True\n",
    "    else:\n",
    "        return False\n",
    "check()"
   ]
  },
  {
   "cell_type": "markdown",
   "metadata": {
    "id": "wRv_4vMPuIAG",
    "pbl_cell_type": "markdown",
    "step_id": 3852,
    "step_number": 8
   },
   "source": [
    "# 8.NumPy 배열의 차원(Dimension) 확인하기\n",
    "\n",
    "[문제 4]  \n",
    "위에서 생성한 three_array가 **몇 차원 배열(array)** 인지 확인하는 코드를 작성해 보세요.  \n",
    "아래 빈칸을 채워주세요.  "
   ]
  },
  {
   "cell_type": "code",
   "execution_count": null,
   "metadata": {
    "id": "wLOjkNymt_fd",
    "pbl_cell_type": "code",
    "step_id": 3852,
    "step_number": 8
   },
   "outputs": [],
   "source": [
    "three_array.___"
   ]
  },
  {
   "cell_type": "code",
   "execution_count": null,
   "metadata": {
    "id": "OOE-rSBywYtV",
    "pbl_cell_type": "hidden_checkcode",
    "step_id": 3852,
    "step_number": 8
   },
   "outputs": [],
   "source": [
    "#checkcode\n",
    "ensure_vals(globals(),'three_array')\n",
    "@check_safety\n",
    "def check(user_answer=_):\n",
    "    if user_answer == three_array.ndim:\n",
    "        return True\n",
    "    else:\n",
    "        return False\n",
    "check()"
   ]
  },
  {
   "cell_type": "markdown",
   "metadata": {
    "id": "i3UZxp0zvQjo",
    "pbl_cell_type": "markdown",
    "step_id": 3853,
    "step_number": 9
   },
   "source": [
    "# 9.NumPy 배열의 크기(shape) 확인하기\n",
    "\n",
    "[문제 5]  \n",
    "위에서 생성한 three_array의 **구조(크기, 차원)** 가 몇인지 확인하는 코드를 작성해 보세요.  \n",
    "아래 빈칸을 채워주세요.  "
   ]
  },
  {
   "cell_type": "code",
   "execution_count": 1,
   "metadata": {
    "id": "iHu2vCqBvYuM",
    "pbl_cell_type": "code",
    "step_id": 3853,
    "step_number": 9
   },
   "outputs": [
    {
     "ename": "NameError",
     "evalue": "name 'three_array' is not defined",
     "output_type": "error",
     "traceback": [
      "\u001b[0;31m---------------------------------------------------------------------------\u001b[0m",
      "\u001b[0;31mNameError\u001b[0m                                 Traceback (most recent call last)",
      "Cell \u001b[0;32mIn[1], line 1\u001b[0m\n\u001b[0;32m----> 1\u001b[0m \u001b[43mthree_array\u001b[49m\u001b[38;5;241m.\u001b[39m___\n",
      "\u001b[0;31mNameError\u001b[0m: name 'three_array' is not defined"
     ]
    }
   ],
   "source": [
    "three_array.___"
   ]
  },
  {
   "cell_type": "code",
   "execution_count": null,
   "metadata": {
    "id": "aZL2lx5TwjsC",
    "pbl_cell_type": "hidden_checkcode",
    "step_id": 3853,
    "step_number": 9
   },
   "outputs": [],
   "source": [
    "#checkcode\n",
    "ensure_vals(globals(),'three_array')\n",
    "@check_safety\n",
    "def check(user_answer=_):\n",
    "    if user_answer == three_array.shape:\n",
    "        return True\n",
    "    else:\n",
    "        return False\n",
    "check()"
   ]
  },
  {
   "cell_type": "markdown",
   "metadata": {
    "id": "Y4-9IvUpwuXn",
    "pbl_cell_type": "markdown",
    "step_id": 3854,
    "step_number": 10
   },
   "source": [
    "# 10.NumPy 배열의 원소 개수(size) 확인하기\n",
    "[문제 6]  \n",
    "three_array에서 전체 원소의 갯수를 출력해 보세요.  \n",
    "아래 빈칸을 채워주세요.  "
   ]
  },
  {
   "cell_type": "code",
   "execution_count": null,
   "metadata": {
    "id": "VtVzgtF-vQaH",
    "pbl_cell_type": "code",
    "step_id": 3854,
    "step_number": 10
   },
   "outputs": [],
   "source": [
    "three_array.___"
   ]
  },
  {
   "cell_type": "code",
   "execution_count": null,
   "metadata": {
    "id": "3FMvbsgjwtdY",
    "pbl_cell_type": "hidden_checkcode",
    "step_id": 3854,
    "step_number": 10
   },
   "outputs": [],
   "source": [
    "#checkcode\n",
    "ensure_vals(globals(),'three_array')\n",
    "@check_safety\n",
    "def check(user_answer=_):\n",
    "    if user_answer == three_array.size:\n",
    "        return True\n",
    "    else:\n",
    "        return False\n",
    "check()"
   ]
  },
  {
   "cell_type": "markdown",
   "metadata": {
    "id": "1tcMJUCIykJC",
    "pbl_cell_type": "markdown",
    "step_id": 3855,
    "step_number": 11
   },
   "source": [
    "# 11.NumPy 배열의 데이터 타입(dtype) 확인하기\n",
    "\n",
    "[문제 7]  \n",
    "three_array의 데이터 타입을 출력해 보세요."
   ]
  },
  {
   "cell_type": "code",
   "execution_count": null,
   "metadata": {
    "id": "HhJAKdMzyyys",
    "pbl_cell_type": "code",
    "step_id": 3855,
    "step_number": 11
   },
   "outputs": [],
   "source": []
  },
  {
   "cell_type": "code",
   "execution_count": null,
   "metadata": {
    "id": "Hf3-H-2y2wKN",
    "pbl_cell_type": "hidden_checkcode",
    "step_id": 3855,
    "step_number": 11
   },
   "outputs": [],
   "source": [
    "#checkcode\n",
    "ensure_vals(globals(),'three_array')\n",
    "@check_safety\n",
    "def check(user_answer=_):\n",
    "    if user_answer == three_array.dtype:\n",
    "        return True\n",
    "    else:\n",
    "        return False\n",
    "check()"
   ]
  }
 ],
 "metadata": {
  "kernelspec": {
   "display_name": "Python 3 (ipykernel)",
   "language": "python",
   "name": "python3"
  },
  "language_info": {
   "codemirror_mode": {
    "name": "ipython",
    "version": 3
   },
   "file_extension": ".py",
   "mimetype": "text/x-python",
   "name": "python",
   "nbconvert_exporter": "python",
   "pygments_lexer": "ipython3",
   "version": "3.11.9"
  }
 },
 "nbformat": 4,
 "nbformat_minor": 4
}
