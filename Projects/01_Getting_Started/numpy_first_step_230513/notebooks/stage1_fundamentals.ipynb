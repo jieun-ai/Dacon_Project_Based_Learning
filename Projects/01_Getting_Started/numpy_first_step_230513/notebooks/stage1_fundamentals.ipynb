{
 "cells": [
  {
   "cell_type": "code",
   "execution_count": null,
   "metadata": {
    "deletable": false,
    "id": "OGvf9bIIK88M",
    "pbl_cell_type": "hidden_setup_code",
    "step_id": 3831,
    "step_number": 0
   },
   "outputs": [],
   "source": [
    "#hiddencell\n",
    "from pbl_tools import *"
   ]
  },
  {
   "cell_type": "markdown",
   "metadata": {
    "deletable": false,
    "id": "cKWXoKz6L-nz",
    "pbl_cell_type": "markdown",
    "step_id": 3831,
    "step_number": 0
   },
   "source": [
    "# 데이스쿨 주피터 노트북 사용법\n",
    "\n",
    "<img src=\"https://r2-images.dacon.work/project/158/content/charater+shift+enter.png\">\n",
    "\n",
    "현재 Cell 에서 shift 누른 상태에서 enter 키를 누르면 현재 Cell 실행후 다음 Cell로 이동합니다. "
   ]
  },
  {
   "cell_type": "markdown",
   "metadata": {
    "pbl_cell_type": "markdown",
    "step_id": 3831,
    "step_number": 0
   },
   "source": [
    "# 넘파이 활용하기\n",
    "\n",
    "![numpy_inner](https://user-images.githubusercontent.com/75363345/222646563-c2399890-a7c1-49ed-9a1a-94a403524826.png)\n",
    "\n",
    "# 스테이지 1"
   ]
  },
  {
   "cell_type": "markdown",
   "metadata": {
    "id": "DsseWLs3Yl6c",
    "pbl_cell_type": "markdown",
    "step_id": 3832,
    "step_number": 1
   },
   "source": [
    "# 1.NumPy의 이해"
   ]
  },
  {
   "cell_type": "code",
   "execution_count": null,
   "metadata": {
    "id": "4pWQ_Z9hYon3",
    "pbl_cell_type": "code",
    "step_id": 3832,
    "step_number": 1
   },
   "outputs": [],
   "source": [
    "import numpy "
   ]
  },
  {
   "cell_type": "markdown",
   "metadata": {
    "id": "imWb1LtyMIY4",
    "pbl_cell_type": "markdown",
    "step_id": 3833,
    "step_number": 2
   },
   "source": [
    "# 2.NumPy 라이브러리(Library) 불러오기\n",
    "[문제 1]  \n",
    "numpy 라이브러리를 불러오기 위해서 아래 빈칸을 채워 주세요.  \n",
    "numpy는 자주 사용하는 라이브러리(Library)이므로 축약어인 np로 불러와 주세요."
   ]
  },
  {
   "cell_type": "code",
   "execution_count": null,
   "metadata": {
    "id": "EJU6qayfMP1G",
    "pbl_cell_type": "code",
    "step_id": 3833,
    "step_number": 2
   },
   "outputs": [],
   "source": [
    "import ___ as np"
   ]
  },
  {
   "cell_type": "code",
   "execution_count": null,
   "metadata": {
    "colab": {
     "base_uri": "https://localhost:8080/"
    },
    "executionInfo": {
     "elapsed": 5,
     "status": "ok",
     "timestamp": 1677198126146,
     "user": {
      "displayName": "송지은",
      "userId": "04554582486449103299"
     },
     "user_tz": -540
    },
    "id": "GOq1h3TnMT_d",
    "outputId": "f49df918-9f08-4a23-bfaa-a5b94f2fdbc5",
    "pbl_cell_type": "hidden_checkcode",
    "step_id": 3833,
    "step_number": 2
   },
   "outputs": [
    {
     "data": {
      "text/plain": [
       "True"
      ]
     },
     "execution_count": 4,
     "metadata": {},
     "output_type": "execute_result"
    }
   ],
   "source": [
    "#checkcode\n",
    "ensure_vals(globals(), 'np')\n",
    "@check_safety\n",
    "def check(user_answer_pandas=np):\n",
    "    if hasattr(user_answer_pandas, 'array'):\n",
    "        return True\n",
    "    else:\n",
    "        return False\n",
    "check()"
   ]
  },
  {
   "cell_type": "markdown",
   "metadata": {
    "id": "S1hcr0rsZ_w0",
    "pbl_cell_type": "markdown",
    "step_id": 3834,
    "step_number": 3
   },
   "source": [
    "# 3.0(zero)으로 이루어진 NumPy 배열 생성하기\n",
    "\n",
    "[문제 2]  \n",
    "빈칸에 `zeros`함수를 입력해, 0이 3개로 구성된 배열을 만들어 봅시다."
   ]
  },
  {
   "cell_type": "code",
   "execution_count": null,
   "metadata": {
    "colab": {
     "base_uri": "https://localhost:8080/"
    },
    "executionInfo": {
     "elapsed": 417,
     "status": "ok",
     "timestamp": 1677198133720,
     "user": {
      "displayName": "송지은",
      "userId": "04554582486449103299"
     },
     "user_tz": -540
    },
    "id": "83AGBdwNMYgk",
    "outputId": "8dd11e83-42fa-45ed-d763-18f61a08adf0",
    "pbl_cell_type": "code",
    "step_id": 3834,
    "step_number": 3
   },
   "outputs": [
    {
     "data": {
      "text/plain": [
       "array([0., 0., 0.])"
      ]
     },
     "execution_count": 5,
     "metadata": {},
     "output_type": "execute_result"
    }
   ],
   "source": [
    "arr = np.___(3)\n",
    "arr"
   ]
  },
  {
   "cell_type": "code",
   "execution_count": null,
   "metadata": {
    "pbl_cell_type": "hidden_checkcode",
    "step_id": 3834,
    "step_number": 3
   },
   "outputs": [],
   "source": [
    "#checkcode\n",
    "ensure_vals(globals(), 'arr')\n",
    "@check_safety\n",
    "def check(\n",
    "    user_answer: np.array\n",
    "):\n",
    "    c_point1 = np.array_equal(user_answer, np.zeros(3))\n",
    "\n",
    "    if c_point1:\n",
    "        return True\n",
    "    else:\n",
    "        return False\n",
    "\n",
    "check(arr)"
   ]
  },
  {
   "cell_type": "markdown",
   "metadata": {
    "id": "-T0HgnfzzuiP",
    "pbl_cell_type": "markdown",
    "step_id": 3835,
    "step_number": 4
   },
   "source": [
    "# 4.1(one)로 이루어진 NumPy 배열 생성하기\n",
    "\n",
    "[문제 3]  \n",
    "빈칸에 `ones`함수를 입력해, 1이 2개로 구성된 배열을 만들어 봅시다."
   ]
  },
  {
   "cell_type": "code",
   "execution_count": null,
   "metadata": {
    "colab": {
     "base_uri": "https://localhost:8080/"
    },
    "executionInfo": {
     "elapsed": 305,
     "status": "ok",
     "timestamp": 1677198976933,
     "user": {
      "displayName": "송지은",
      "userId": "04554582486449103299"
     },
     "user_tz": -540
    },
    "id": "H8ikNyCcafZF",
    "outputId": "32b3d7fc-52a5-47c1-bb08-5fb288363499",
    "pbl_cell_type": "code",
    "step_id": 3835,
    "step_number": 4
   },
   "outputs": [
    {
     "data": {
      "text/plain": [
       "array([1., 1.])"
      ]
     },
     "execution_count": 7,
     "metadata": {},
     "output_type": "execute_result"
    }
   ],
   "source": [
    "arr = np.___(2)\n",
    "arr"
   ]
  },
  {
   "cell_type": "code",
   "execution_count": null,
   "metadata": {
    "pbl_cell_type": "hidden_checkcode",
    "step_id": 3835,
    "step_number": 4
   },
   "outputs": [],
   "source": [
    "#checkcode\n",
    "ensure_vals(globals(), 'arr')\n",
    "@check_safety\n",
    "def check(\n",
    "    user_answer: np.array\n",
    "):\n",
    "    c_point1 = np.array_equal(user_answer, np.ones(2))\n",
    "\n",
    "    if c_point1:\n",
    "        return True\n",
    "    else:\n",
    "        return False\n",
    "\n",
    "check(arr)"
   ]
  }
 ],
 "metadata": {
  "kernelspec": {
   "display_name": "Python 3 (ipykernel)",
   "language": "python",
   "name": "python3"
  },
  "language_info": {
   "codemirror_mode": {
    "name": "ipython",
    "version": 3
   },
   "file_extension": ".py",
   "mimetype": "text/x-python",
   "name": "python",
   "nbconvert_exporter": "python",
   "pygments_lexer": "ipython3",
   "version": "3.11.9"
  }
 },
 "nbformat": 4,
 "nbformat_minor": 4
}
